{
 "cells": [
  {
   "cell_type": "code",
   "execution_count": 1,
   "metadata": {},
   "outputs": [],
   "source": [
    "import time\n",
    "import numpy as np\n",
    "\n",
    "from geo import *\n",
    "from Thymio import Thymio\n",
    "import motion_control\n",
    "import filtering\n",
    "import global_navigation\n",
    "\n",
    "\n",
    "# -- Global Settings --\n",
    "THYMIO_PORT = \"COM6\"\n",
    "THYMIO_REFRESH_RATE = 1.0\n",
    "G_verbose = True\n",
    "S_camera_interval = 1000 #ms\n",
    "S_motion_interval = 1000\n",
    "S_track_interval = 0.1 #s\n",
    "G_track_timer = time.time()\n",
    "\n",
    "S_epsilon_dis = 1\n",
    "S_epsilon_theta = 0.1\n",
    "\n",
    "S_stablize_filter_steps = 10\n",
    "# -- Controllers --\n",
    "G_th = Thymio.serial(port=THYMIO_PORT, refreshing_rate=THYMIO_REFRESH_RATE)\n",
    "G_mc = motion_control.MotionController(G_th, S_motion_interval,verbose=False)\n",
    "G_mc.timer = time.time()\n",
    "\n",
    "pre_state = np.array([0, 0, 0]).reshape(-1, 1) # initial state\n",
    "pre_cov = np.ones([3, 3]) * 0.03 # initial covariance\n",
    "G_filter = filtering.KF(pre_state, pre_cov, qx=0.1, qy=0.1, qtheta=0.3, rl=0.1, rr=0.1, b=0.08)\n",
    "G_filter.timer = time.time()"
   ]
  },
  {
   "cell_type": "code",
   "execution_count": 2,
   "metadata": {},
   "outputs": [],
   "source": [
    "def localizate():\n",
    "    \"\"\"Track Where Thymio is\"\"\"\n",
    "    # 3. Localization \n",
    "    # 3.1 odometer\n",
    "    dsl, dsr = G_mc.get_displacement()\n",
    "    G_filter.kalman_filter(dsr, dsl)\n",
    "    \n",
    "    thymio_state = G_filter.get_state()\n",
    "    return thymio_state"
   ]
  },
  {
   "cell_type": "code",
   "execution_count": 3,
   "metadata": {},
   "outputs": [],
   "source": [
    "# h, w = 30, 40\n",
    "# rmap = GridMap(h, w, 0.01)\n",
    "# rmap.set_goal(Pos(h-1, w-1))\n",
    "# rmap.set_start(Pos(0,0))\n",
    "# import random\n",
    "# obslist = [Pos(random.randint(8,h-8),random.randint(8,w-8)) for _ in range(3)]\n",
    "# rmap.set_obs(obslist)\n",
    "\n",
    "# Goal_state = State(Pos(h-1,w-1), 0.0)\n",
    "\n",
    "# import matplotlib.pyplot as plt\n",
    "# plt.rcParams['figure.figsize'] = [20, 10]\n",
    "\n",
    "# # planner\n",
    "# ppr = global_navigation.PathPlanner(rmap,path_simplification=True, plot=True,neighbor=8, method=\"A*\")"
   ]
  },
  {
   "cell_type": "code",
   "execution_count": 4,
   "metadata": {},
   "outputs": [],
   "source": [
    "#print(Goal_state)"
   ]
  },
  {
   "cell_type": "code",
   "execution_count": 5,
   "metadata": {},
   "outputs": [],
   "source": [
    "#path = ppr.plan()\n",
    "Global_path = [State(Pos(0.1, 0.0), 0.0)]#,State(Pos(0.1, 0.1), 0.0)]"
   ]
  },
  {
   "cell_type": "code",
   "execution_count": 6,
   "metadata": {},
   "outputs": [],
   "source": [
    "#Global_path = global_navigation.assign_ori(path, Goal_state.ori)"
   ]
  },
  {
   "cell_type": "code",
   "execution_count": 7,
   "metadata": {},
   "outputs": [
    {
     "name": "stdout",
     "output_type": "stream",
     "text": [
      "[]\n",
      "[]\n",
      "[0, 0, 0, 0, 0, 0, 0]\n"
     ]
    }
   ],
   "source": [
    "for i in range(3):\n",
    "    print(G_mc.thymio.get_var_array(\"prox.horizontal\"))\n",
    "    time.sleep(0.6)\n",
    "G_mc.thymio.set_var(\"motor.left.target\", 0)\n",
    "G_mc.thymio.set_var(\"motor.right.target\", 0)"
   ]
  },
  {
   "cell_type": "code",
   "execution_count": 8,
   "metadata": {},
   "outputs": [
    {
     "name": "stdout",
     "output_type": "stream",
     "text": [
      "Thymio:(0.0, 0.0, 0.0), Target:(0.1, 0.0, 0.0)\n",
      "Thymio:(0.0, 0.0, 0.0), Target:(0.1, 0.0, 0.0)\n",
      "Thymio:(0.0, 0.0, 0.0), Target:(0.1, 0.0, 0.0)\n",
      "Thymio:(0.0, 0.0, 0.0), Target:(0.1, 0.0, 0.0)\n",
      "Thymio:(0.0, 0.0, 0.0), Target:(0.1, 0.0, 0.0)\n",
      "Thymio:(0.0, 0.0, 0.0), Target:(0.1, 0.0, 0.0)\n",
      "Thymio:(0.0, 0.0, 0.0), Target:(0.1, 0.0, 0.0)\n",
      "Thymio:(0.0, 0.0, 0.0), Target:(0.1, 0.0, 0.0)\n",
      "Thymio:(0.0, 0.0, 0.0), Target:(0.1, 0.0, 0.0)\n",
      "Thymio:(0.00045658168761358826, -1.4851913305068088e-07, -0.000650569796562195), Target:(0.1, 0.0, 0.0)\n",
      "Thymio:(0.003779340547986209, -1.0176081661448745e-05, -0.005385096654295922), Target:(0.1, 0.0, 0.0)\n",
      "Thymio:(0.007101550886422427, -3.593047055454964e-05, -0.010118962615728378), Target:(0.1, 0.0, 0.0)\n",
      "Thymio:(0.010476371283403153, -7.819722459766402e-05, -0.01492802618443966), Target:(0.1, 0.0, 0.0)\n",
      "Thymio:(0.013755027806406075, -0.0001348062532220259, -0.019600387483835222), Target:(0.1, 0.0, 0.0)\n",
      "Thymio:(0.017083354106562264, -0.00020794860559315533, -0.024343970686197286), Target:(0.1, 0.0, 0.0)\n",
      "Thymio:(0.0203822609794974, -0.00029603407381071495, -0.029046165257692342), Target:(0.1, 0.0, 0.0)\n",
      "Thymio:(0.02368851811605987, -0.0003998940249756393, -0.0337594814747572), Target:(0.1, 0.0, 0.0)\n",
      "Thymio:(0.02699206193098522, -0.0005192520192072788, -0.038469679087400434), Target:(0.1, 0.0, 0.0)\n",
      "Thymio:(0.030246082270768596, -0.0006520568126478718, -0.043110100507736206), Target:(0.1, 0.0, 0.0)\n",
      "Thymio:(0.03263440316158779, -0.0007451973732806958, -0.03206690445542335), Target:(0.1, 0.0, 0.0)\n",
      "Thymio:(0.03491582770319918, -0.0008025901673201098, -0.018235606580972664), Target:(0.1, 0.0, 0.0)\n",
      "Thymio:(0.037137267191921515, -0.0008281455715708114, -0.004771346479654302), Target:(0.1, 0.0, 0.0)\n",
      "Thymio:(0.0393902639070529, -0.0008235134428409212, 0.008883311837911616), Target:(0.1, 0.0, 0.0)\n",
      "Thymio:(0.04163983566525564, -0.0007881898158460798, 0.022518864244222652), Target:(0.1, 0.0, 0.0)\n",
      "Thymio:(0.04392123617049176, -0.0007210168220384039, 0.036351634114980706), Target:(0.1, 0.0, 0.0)\n",
      "Thymio:(0.0461857417243868, -0.0006230833631022156, 0.05008884438872338), Target:(0.1, 0.0, 0.0)\n",
      "Thymio:(0.04843409571746682, -0.0004949841399326339, 0.06373743447661401), Target:(0.1, 0.0, 0.0)\n",
      "Thymio:(0.05068012627796162, -0.00033623929501090465, 0.07738380154967309), Target:(0.1, 0.0, 0.0)\n",
      "Thymio:(0.05267300441039495, -0.0001780928374350866, 0.07326970705389978), Target:(0.1, 0.0, 0.0)\n",
      "Thymio:(0.05451774390292032, -5.8849540636275696e-05, 0.05582996794581414), Target:(0.1, 0.0, 0.0)\n",
      "Thymio:(0.05634362344247701, 2.7409971071168085e-05, 0.038585268348455444), Target:(0.1, 0.0, 0.0)\n",
      "Thymio:(0.0581638781982644, 8.202524505007741e-05, 0.02140511879324914), Target:(0.1, 0.0, 0.0)\n",
      "Thymio:(0.05998967454920106, 0.00010538222073284005, 0.004179006904363642), Target:(0.1, 0.0, 0.0)\n",
      "Thymio:(0.06181437250702041, 9.730195390739463e-05, -0.013035501748323432), Target:(0.1, 0.0, 0.0)\n",
      "Thymio:(0.06361581593248848, 5.8501966451855117e-05, -0.03003439298272132), Target:(0.1, 0.0, 0.0)\n",
      "Thymio:(0.065471768287035, -1.353694070567087e-05, -0.04755678167939186), Target:(0.1, 0.0, 0.0)\n",
      "Thymio:(0.06728095590667361, -0.00011514666427660352, -0.06465169063210488), Target:(0.1, 0.0, 0.0)\n",
      "Thymio:(0.0691414411671189, -0.0002486396354309997, -0.07070785143971443), Target:(0.1, 0.0, 0.0)\n",
      "Thymio:(0.07117613686787336, -0.00037156830523786224, -0.04997793772816657), Target:(0.1, 0.0, 0.0)\n",
      "Thymio:(0.07319409324083478, -0.00045174121742431176, -0.029439804106950747), Target:(0.1, 0.0, 0.0)\n",
      "Thymio:(0.07521490106097513, -0.0004904695788192646, -0.008885087996721257), Target:(0.1, 0.0, 0.0)\n",
      "Thymio:(0.07724100051893928, -0.00048759798319131107, 0.011719691008329402), Target:(0.1, 0.0, 0.0)\n",
      "Thymio:(0.07929770446902172, -0.00044197225692207953, 0.032640844076871886), Target:(0.1, 0.0, 0.0)\n",
      "Thymio:(0.08133231403380634, -0.00035443809920198777, 0.05335129138827325), Target:(0.1, 0.0, 0.0)\n",
      "Thymio:(0.08336720653534938, -0.00022460015026984392, 0.07408755871653558), Target:(0.1, 0.0, 0.0)\n",
      "Thymio:(0.08538162036216596, -5.42455629833671e-05, 0.09464660069346428), Target:(0.1, 0.0, 0.0)\n",
      "Thymio:(0.08737925791454933, 0.00015599857880288148, 0.1150741092860699), Target:(0.1, 0.0, 0.0)\n",
      "Thymio:(0.08864232629947268, 0.0002844487142112203, 0.08762282010912899), Target:(0.1, 0.0, 0.0)\n",
      "Thymio:(0.08991039997926595, 0.00037829971941277395, 0.0601291734874249), Target:(0.1, 0.0, 0.0)\n",
      "Thymio:(0.09118096877748254, 0.000437268551659788, 0.03262699529528622), Target:(0.1, 0.0, 0.0)\n",
      "Thymio:(0.09245288428892785, 0.00046127713283072305, 0.005120371073484459), Target:(0.1, 0.0, 0.0)\n",
      "Thymio:(0.09372890161016204, 0.00045020694741347285, -0.022471088200807534), Target:(0.1, 0.0, 0.0)\n",
      "Thymio:(0.09498994599651035, 0.0004046466531562209, -0.049755531102418864), Target:(0.1, 0.0, 0.0)\n",
      "Thymio:(0.0962811106522654, 0.00032223239581437497, -0.07773031023144718), Target:(0.1, 0.0, 0.0)\n",
      "Thymio:(0.09754993094285112, 0.00020580341788084886, -0.10528037336468692), Target:(0.1, 0.0, 0.0)\n",
      "Thymio:(0.09879817001137332, 5.67209271058979e-05, -0.13246195676922792), Target:(0.1, 0.0, 0.0)\n",
      "Thymio:(0.09930523919456742, -1.2380051402431038e-05, -0.12600615835189813), Target:(0.1, 0.0, 0.0)\n",
      "Thymio:(0.0995117938604663, -3.6457147962962005e-05, -0.10607698622345917), Target:(0.1, 0.0, 0.0)\n",
      "Thymio:(0.09971520571977954, -5.610333865193919e-05, -0.0864923325777053), Target:(0.1, 0.0, 0.0)\n",
      "Thymio:(0.09992112321868926, -7.190677110581836e-05, -0.06670022508501999), Target:(0.1, 0.0, 0.0)\n",
      "Thymio:(0.10012925720904557, -8.372291055925045e-05, -0.04672160777449601), Target:(0.1, 0.0, 0.0)\n",
      "Thymio:(0.10033372897991605, -9.127486036568078e-05, -0.027112728148698736), Target:(0.1, 0.0, 0.0)\n",
      "Thymio:(0.10053829464752168, -9.481604133820076e-05, -0.007505273580551076), Target:(0.1, 0.0, 0.0)\n",
      "Terminate Reached!\n"
     ]
    },
    {
     "name": "stderr",
     "output_type": "stream",
     "text": [
      "Exception in thread Thread-7:\n",
      "Traceback (most recent call last):\n",
      "  File \"C:\\Users\\LI Jiangfan\\AppData\\Local\\Programs\\Python\\Python39\\lib\\threading.py\", line 973, in _bootstrap_inner\n",
      "    self.run()\n",
      "  File \"C:\\Users\\LI Jiangfan\\AppData\\Local\\Programs\\Python\\Python39\\lib\\threading.py\", line 910, in run\n",
      "    self._target(*self._args, **self._kwargs)\n",
      "  File \"c:\\Users\\LI Jiangfan\\Desktop\\MB\\Mobile_Soccer\\Thymio.py\", line 343, in do_refresh\n",
      "    self.get_variables()\n",
      "  File \"c:\\Users\\LI Jiangfan\\Desktop\\MB\\Mobile_Soccer\\Thymio.py\", line 505, in get_variables\n",
      "    self.send(msg)\n",
      "  File \"c:\\Users\\LI Jiangfan\\Desktop\\MB\\Mobile_Soccer\\Thymio.py\", line 462, in send\n",
      "    self.io.write(msg.serialize())\n",
      "  File \"C:\\Users\\LI Jiangfan\\AppData\\Local\\Programs\\Python\\Python39\\lib\\site-packages\\serial\\serialwin32.py\", line 306, in write\n",
      "    raise PortNotOpenError()\n",
      "serial.serialutil.PortNotOpenError: Attempting to use a port that is not open\n"
     ]
    }
   ],
   "source": [
    "\n",
    "try:\n",
    "    while True:\n",
    "        starter = time.time()\n",
    "        # 3. Localization\n",
    "        Thymio_state = localizate()\n",
    "        #print(F\"Thymio:{Thymio_state}, Target:{Global_path[0]}\")\n",
    "        # 2.2.1 Finished?\n",
    "        if len(Global_path) == 0:\n",
    "            if G_verbose:\n",
    "                print(\"Terminate Reached!\")\n",
    "            break\n",
    "        # 4. Follow the path\n",
    "        if starter - G_track_timer > S_track_interval:\n",
    "            print(F\"Thymio:{Thymio_state}, Target:{Global_path[0]}\")\n",
    "            reached = G_mc.path_tracking(Global_path[0], Thymio_state)\n",
    "            if reached:\n",
    "                Global_path = Global_path[1:]\n",
    "            G_track_timer = starter\n",
    "                # assume Global_path is not empty because of 2.2.1\n",
    "        #loop_time = time.time() - starter\n",
    "        #if G_verbose and len(Global_path) > 0:\n",
    "        #    print(F\"Thymio:{Thymio_state}, Target:{Global_path[0]}, {loop_time*1000 :.0f}ms\")\n",
    "        time.sleep(0.01)\n",
    "finally:\n",
    "    G_mc.stop()\n",
    "    G_mc.close()"
   ]
  }
 ],
 "metadata": {
  "interpreter": {
   "hash": "b10cf93940e5c0473413f3fc99b95e2c1997f6e8852312471085cb7234ec8d25"
  },
  "kernelspec": {
   "display_name": "Python 3.9.7 64-bit",
   "language": "python",
   "name": "python3"
  },
  "language_info": {
   "codemirror_mode": {
    "name": "ipython",
    "version": 3
   },
   "file_extension": ".py",
   "mimetype": "text/x-python",
   "name": "python",
   "nbconvert_exporter": "python",
   "pygments_lexer": "ipython3",
   "version": "3.9.7"
  },
  "orig_nbformat": 4
 },
 "nbformat": 4,
 "nbformat_minor": 2
}
