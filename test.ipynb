{
 "cells": [
  {
   "cell_type": "code",
   "execution_count": 20,
   "metadata": {},
   "outputs": [],
   "source": [
    "import time\n",
    "import numpy as np\n",
    "\n",
    "from geo import *\n",
    "from Thymio import Thymio\n",
    "import motion_control\n",
    "import filtering\n",
    "import global_navigation\n",
    "\n",
    "\n",
    "# -- Global Settings --\n",
    "THYMIO_PORT = \"COM6\"\n",
    "THYMIO_REFRESH_RATE = 1.0\n",
    "G_verbose = True\n",
    "S_camera_interval = 1000 #ms\n",
    "S_motion_interval = 1000\n",
    "S_track_interval = 0.1 #s\n",
    "G_track_timer = time.time()\n",
    "\n",
    "S_epsilon_dis = 1\n",
    "S_epsilon_theta = 0.1\n",
    "\n",
    "S_stablize_filter_steps = 10\n",
    "# -- Controllers --\n",
    "G_th = Thymio.serial(port=THYMIO_PORT, refreshing_rate=THYMIO_REFRESH_RATE)\n",
    "G_mc = motion_control.MotionController(G_th, S_motion_interval,verbose=False)\n",
    "G_mc.timer = time.time()\n",
    "\n",
    "pre_state = np.array([0, 0, 0]).reshape(-1, 1) # initial state\n",
    "pre_cov = np.ones([3, 3]) * 0.03 # initial covariance\n",
    "G_filter = filtering.KF(pre_state, pre_cov, qx=0.1, qy=0.1, qtheta=0.3, rl=0.1, rr=0.1, b=0.093)\n",
    "G_filter.timer = time.time()"
   ]
  },
  {
   "cell_type": "code",
   "execution_count": 21,
   "metadata": {},
   "outputs": [],
   "source": [
    "def localizate():\n",
    "    \"\"\"Track Where Thymio is\"\"\"\n",
    "    # 3. Localization \n",
    "    # 3.1 odometer\n",
    "    dsl, dsr = G_mc.get_displacement()\n",
    "    G_filter.kalman_filter(dsr, dsl)\n",
    "    G_filter.plot_gaussian()\n",
    "\n",
    "    thymio_state = G_filter.get_state()\n",
    "    return thymio_state"
   ]
  },
  {
   "cell_type": "code",
   "execution_count": 22,
   "metadata": {},
   "outputs": [
    {
     "data": {
      "image/png": "[encoded data removed]",
      "text/plain": [
       "<Figure size 1440x720 with 1 Axes>"
      ]
     },
     "metadata": {
      "needs_background": "light"
     },
     "output_type": "display_data"
    }
   ],
   "source": [
    "h, w = 30, 40\n",
    "rmap = GridMap(h, w, 0.01)\n",
    "rmap.set_goal(Pos(h-1, w-1))\n",
    "rmap.set_start(Pos(0,0))\n",
    "import random\n",
    "obslist = [Pos(random.randint(11,h-11),random.randint(11,w-11)) for _ in range(3)]\n",
    "rmap.set_obs(obslist)\n",
    "\n",
    "Goal_state = State(Pos(h-1,w-1), 0.0)\n",
    "\n",
    "import matplotlib.pyplot as plt\n",
    "plt.rcParams['figure.figsize'] = [20, 10]\n",
    "\n",
    "# planner\n",
    "ppr = global_navigation.PathPlanner(rmap,path_simplification=True, plot=True,neighbor=8, method=\"A*\")"
   ]
  },
  {
   "cell_type": "code",
   "execution_count": 23,
   "metadata": {},
   "outputs": [
    {
     "name": "stdout",
     "output_type": "stream",
     "text": [
      "(29, 39, 0.0)\n"
     ]
    }
   ],
   "source": [
    "print(Goal_state)"
   ]
  },
  {
   "cell_type": "code",
   "execution_count": 24,
   "metadata": {},
   "outputs": [
    {
     "name": "stdout",
     "output_type": "stream",
     "text": [
      "(0,0)\n",
      "(28,28)\n",
      "(29,29)\n"
     ]
    },
    {
     "data": {
      "image/png": "[encoded data removed]",
      "text/plain": [
       "<Figure size 1440x720 with 1 Axes>"
      ]
     },
     "metadata": {
      "needs_background": "light"
     },
     "output_type": "display_data"
    }
   ],
   "source": [
    "path = ppr.plan()\n",
    "Global_path = [State(Pos(0.1, 0.0), 0.0),State(Pos(0.4, 0.1), 45.0)]"
   ]
  },
  {
   "cell_type": "code",
   "execution_count": 25,
   "metadata": {},
   "outputs": [],
   "source": [
    "# Global_path = ppr.assign_ori(path, Goal_state.ori)"
   ]
  },
  {
   "cell_type": "code",
   "execution_count": 26,
   "metadata": {},
   "outputs": [
    {
     "name": "stdout",
     "output_type": "stream",
     "text": [
      "[0, 0, 0, 0, 0, 0, 0]\n",
      "[0, 0, 0, 0, 0, 0, 0]\n",
      "[0, 0, 0, 0, 0, 0, 0]\n"
     ]
    }
   ],
   "source": [
    "for i in range(3):\n",
    "    print(G_mc.thymio.get_var_array(\"prox.horizontal\"))\n",
    "    time.sleep(0.6)\n",
    "G_mc.thymio.set_var(\"motor.left.target\", 0)\n",
    "G_mc.thymio.set_var(\"motor.right.target\", 0)"
   ]
  },
  {
   "cell_type": "code",
   "execution_count": 27,
   "metadata": {},
   "outputs": [
    {
     "name": "stderr",
     "output_type": "stream",
     "text": [
      "2021-12-07 22:05:14.304 | INFO     | motion_control:_set_motor:153 - 0\n",
      "Exception in thread Thread-9:\n",
      "Traceback (most recent call last):\n",
      "  File \"C:\\Users\\liche\\Anaconda3\\envs\\cs231n\\lib\\threading.py\", line 917, in _bootstrap_inner\n",
      "    self.run()\n",
      "  File \"C:\\Users\\liche\\Anaconda3\\envs\\cs231n\\lib\\threading.py\", line 865, in run\n",
      "    self._target(*self._args, **self._kwargs)\n",
      "  File \"e:\\02 EPFL Study\\Semester I\\Basics_of_Mobile\\Mobile_Soccer\\Thymio.py\", line 343, in do_refresh\n",
      "    self.get_variables()\n",
      "  File \"e:\\02 EPFL Study\\Semester I\\Basics_of_Mobile\\Mobile_Soccer\\Thymio.py\", line 505, in get_variables\n",
      "    self.send(msg)\n",
      "  File \"e:\\02 EPFL Study\\Semester I\\Basics_of_Mobile\\Mobile_Soccer\\Thymio.py\", line 462, in send\n",
      "    self.io.write(msg.serialize())\n",
      "  File \"C:\\Users\\liche\\Anaconda3\\envs\\cs231n\\lib\\site-packages\\serial\\serialwin32.py\", line 306, in write\n",
      "    raise PortNotOpenError()\n",
      "serial.serialutil.PortNotOpenError: Attempting to use a port that is not open\n",
      "\n"
     ]
    },
    {
     "ename": "AttributeError",
     "evalue": "'KF' object has no attribute 'plot'",
     "output_type": "error",
     "traceback": [
      "\u001b[1;31m---------------------------------------------------------------------------\u001b[0m",
      "\u001b[1;31mAttributeError\u001b[0m                            Traceback (most recent call last)",
      "\u001b[1;32m<ipython-input-27-8baf0b2f4648>\u001b[0m in \u001b[0;36m<module>\u001b[1;34m\u001b[0m\n\u001b[0;32m      3\u001b[0m         \u001b[0mstarter\u001b[0m \u001b[1;33m=\u001b[0m \u001b[0mtime\u001b[0m\u001b[1;33m.\u001b[0m\u001b[0mtime\u001b[0m\u001b[1;33m(\u001b[0m\u001b[1;33m)\u001b[0m\u001b[1;33m\u001b[0m\u001b[1;33m\u001b[0m\u001b[0m\n\u001b[0;32m      4\u001b[0m         \u001b[1;31m# 3. Localization\u001b[0m\u001b[1;33m\u001b[0m\u001b[1;33m\u001b[0m\u001b[1;33m\u001b[0m\u001b[0m\n\u001b[1;32m----> 5\u001b[1;33m         \u001b[0mThymio_state\u001b[0m \u001b[1;33m=\u001b[0m \u001b[0mlocalizate\u001b[0m\u001b[1;33m(\u001b[0m\u001b[1;33m)\u001b[0m\u001b[1;33m\u001b[0m\u001b[1;33m\u001b[0m\u001b[0m\n\u001b[0m\u001b[0;32m      6\u001b[0m         \u001b[1;31m#print(F\"Thymio:{Thymio_state}, Target:{Global_path[0]}\")\u001b[0m\u001b[1;33m\u001b[0m\u001b[1;33m\u001b[0m\u001b[1;33m\u001b[0m\u001b[0m\n\u001b[0;32m      7\u001b[0m         \u001b[1;31m# 2.2.1 Finished?\u001b[0m\u001b[1;33m\u001b[0m\u001b[1;33m\u001b[0m\u001b[1;33m\u001b[0m\u001b[0m\n",
      "\u001b[1;32m<ipython-input-21-0d528e8fb9ca>\u001b[0m in \u001b[0;36mlocalizate\u001b[1;34m()\u001b[0m\n\u001b[0;32m      5\u001b[0m     \u001b[0mdsl\u001b[0m\u001b[1;33m,\u001b[0m \u001b[0mdsr\u001b[0m \u001b[1;33m=\u001b[0m \u001b[0mG_mc\u001b[0m\u001b[1;33m.\u001b[0m\u001b[0mget_displacement\u001b[0m\u001b[1;33m(\u001b[0m\u001b[1;33m)\u001b[0m\u001b[1;33m\u001b[0m\u001b[1;33m\u001b[0m\u001b[0m\n\u001b[0;32m      6\u001b[0m     \u001b[0mG_filter\u001b[0m\u001b[1;33m.\u001b[0m\u001b[0mkalman_filter\u001b[0m\u001b[1;33m(\u001b[0m\u001b[0mdsr\u001b[0m\u001b[1;33m,\u001b[0m \u001b[0mdsl\u001b[0m\u001b[1;33m)\u001b[0m\u001b[1;33m\u001b[0m\u001b[1;33m\u001b[0m\u001b[0m\n\u001b[1;32m----> 7\u001b[1;33m     \u001b[0mG_filter\u001b[0m\u001b[1;33m.\u001b[0m\u001b[0mplot\u001b[0m\u001b[1;33m(\u001b[0m\u001b[1;33m)\u001b[0m\u001b[1;33m\u001b[0m\u001b[1;33m\u001b[0m\u001b[0m\n\u001b[0m\u001b[0;32m      8\u001b[0m \u001b[1;33m\u001b[0m\u001b[0m\n\u001b[0;32m      9\u001b[0m     \u001b[0mthymio_state\u001b[0m \u001b[1;33m=\u001b[0m \u001b[0mG_filter\u001b[0m\u001b[1;33m.\u001b[0m\u001b[0mget_state\u001b[0m\u001b[1;33m(\u001b[0m\u001b[1;33m)\u001b[0m\u001b[1;33m\u001b[0m\u001b[1;33m\u001b[0m\u001b[0m\n",
      "\u001b[1;31mAttributeError\u001b[0m: 'KF' object has no attribute 'plot'"
     ]
    }
   ],
   "source": [
    "\n",
    "try:\n",
    "    while True:\n",
    "        starter = time.time()\n",
    "        # 3. Localization\n",
    "        Thymio_state = localizate()\n",
    "        #print(F\"Thymio:{Thymio_state}, Target:{Global_path[0]}\")\n",
    "        # 2.2.1 Finished?\n",
    "        if len(Global_path) == 0:\n",
    "            if G_verbose:\n",
    "                print(\"Terminate Reached!\")\n",
    "            break\n",
    "        # 4. Follow the path\n",
    "        if starter - G_track_timer > S_track_interval:\n",
    "            print(F\"Thymio:{Thymio_state}, Target:{Global_path[0]}\")\n",
    "            reached = G_mc.path_tracking(Global_path[0], Thymio_state, False)\n",
    "            if reached:\n",
    "                Global_path = Global_path[1:]\n",
    "            G_track_timer = starter\n",
    "                # assume Global_path is not empty because of 2.2.1\n",
    "        #loop_time = time.time() - starter\n",
    "        #if G_verbose and len(Global_path) > 0:\n",
    "        #    print(F\"Thymio:{Thymio_state}, Target:{Global_path[0]}, {loop_time*1000 :.0f}ms\")\n",
    "        time.sleep(0.01)\n",
    "finally:\n",
    "    G_mc.stop()\n",
    "    G_mc.close()"
   ]
  },
  {
   "cell_type": "code",
   "execution_count": null,
   "metadata": {},
   "outputs": [],
   "source": []
  }
 ],
 "metadata": {
  "interpreter": {
   "hash": "b10cf93940e5c0473413f3fc99b95e2c1997f6e8852312471085cb7234ec8d25"
  },
  "kernelspec": {
   "display_name": "Python 3.9.7 64-bit",
   "language": "python",
   "name": "python3"
  },
  "language_info": {
   "codemirror_mode": {
    "name": "ipython",
    "version": 3
   },
   "file_extension": ".py",
   "mimetype": "text/x-python",
   "name": "python",
   "nbconvert_exporter": "python",
   "pygments_lexer": "ipython3",
   "version": "3.6.2"
  },
  "orig_nbformat": 4
 },
 "nbformat": 4,
 "nbformat_minor": 2
}
