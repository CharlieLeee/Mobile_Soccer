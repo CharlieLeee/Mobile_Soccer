{
 "cells": [
  {
   "cell_type": "code",
   "execution_count": null,
   "metadata": {},
   "outputs": [],
   "source": [
    "import time\n",
    "import numpy as np\n",
    "\n",
    "from geo import *\n",
    "from Thymio import Thymio\n",
    "import motion_control\n",
    "import filtering\n",
    "import global_navigation\n",
    "\n",
    "\n",
    "# -- Global Settings --\n",
    "THYMIO_PORT = \"COM6\"\n",
    "THYMIO_REFRESH_RATE = 1.0\n",
    "G_verbose = True\n",
    "S_camera_interval = 1000 #ms\n",
    "S_motion_interval = 1000\n",
    "S_track_interval = 0.1 #s\n",
    "G_track_timer = time.time()\n",
    "\n",
    "S_epsilon_dis = 1\n",
    "S_epsilon_theta = 0.1\n",
    "\n",
    "S_stablize_filter_steps = 10\n",
    "# -- Controllers --\n",
    "G_th = Thymio.serial(port=THYMIO_PORT, refreshing_rate=THYMIO_REFRESH_RATE)\n",
    "G_mc = motion_control.MotionController(G_th, S_motion_interval,verbose=False)\n",
    "G_mc.timer = time.time()\n",
    "\n",
    "pre_state = np.array([0, 0, 0]).reshape(-1, 1) # initial state\n",
    "pre_cov = np.ones([3, 3]) * 0.03 # initial covariance\n",
    "G_filter = filtering.KF(pre_state, pre_cov, qx=0.1, qy=0.1, qtheta=0.3, rl=0.1, rr=0.1, b=0.08)\n",
    "G_filter.timer = time.time()"
   ]
  },
  {
   "cell_type": "code",
   "execution_count": null,
   "metadata": {},
   "outputs": [],
   "source": [
    "def localizate():\n",
    "    \"\"\"Track Where Thymio is\"\"\"\n",
    "    # 3. Localization \n",
    "    # 3.1 odometer\n",
    "    dsl, dsr = G_mc.get_displacement()\n",
    "    G_filter.kalman_filter(dsr, dsl)\n",
    "    \n",
    "    thymio_state = G_filter.get_state()\n",
    "    return thymio_state"
   ]
  },
  {
   "cell_type": "code",
   "execution_count": null,
   "metadata": {},
   "outputs": [],
   "source": [
    "# h, w = 30, 40\n",
    "# rmap = GridMap(h, w, 0.01)\n",
    "# rmap.set_goal(Pos(h-1, w-1))\n",
    "# rmap.set_start(Pos(0,0))\n",
    "# import random\n",
    "# obslist = [Pos(random.randint(8,h-8),random.randint(8,w-8)) for _ in range(3)]\n",
    "# rmap.set_obs(obslist)\n",
    "\n",
    "# Goal_state = State(Pos(h-1,w-1), 0.0)\n",
    "\n",
    "# import matplotlib.pyplot as plt\n",
    "# plt.rcParams['figure.figsize'] = [20, 10]\n",
    "\n",
    "# # planner\n",
    "# ppr = global_navigation.PathPlanner(rmap,path_simplification=True, plot=True,neighbor=8, method=\"A*\")"
   ]
  },
  {
   "cell_type": "code",
   "execution_count": null,
   "metadata": {},
   "outputs": [],
   "source": [
    "#print(Goal_state)"
   ]
  },
  {
   "cell_type": "code",
   "execution_count": null,
   "metadata": {},
   "outputs": [],
   "source": [
    "#path = ppr.plan()\n",
    "Global_path = [State(Pos(0.1, 0.0), 0.0),State(Pos(0.2, 0.1), 0.0)]"
   ]
  },
  {
   "cell_type": "code",
   "execution_count": null,
   "metadata": {},
   "outputs": [],
   "source": [
    "#Global_path = global_navigation.assign_ori(path, Goal_state.ori)"
   ]
  },
  {
   "cell_type": "code",
   "execution_count": null,
   "metadata": {},
   "outputs": [],
   "source": [
    "for i in range(3):\n",
    "    print(G_mc.thymio.get_var_array(\"prox.horizontal\"))\n",
    "    time.sleep(0.6)\n",
    "G_mc.thymio.set_var(\"motor.left.target\", 0)\n",
    "G_mc.thymio.set_var(\"motor.right.target\", 0)"
   ]
  },
  {
   "cell_type": "code",
   "execution_count": null,
   "metadata": {},
   "outputs": [],
   "source": [
    "\n",
    "try:\n",
    "    while True:\n",
    "        starter = time.time()\n",
    "        # 3. Localization\n",
    "        Thymio_state = localizate()\n",
    "        #print(F\"Thymio:{Thymio_state}, Target:{Global_path[0]}\")\n",
    "        # 2.2.1 Finished?\n",
    "        if len(Global_path) == 0:\n",
    "            if G_verbose:\n",
    "                print(\"Terminate Reached!\")\n",
    "            break\n",
    "        # 4. Follow the path\n",
    "        if starter - G_track_timer > S_track_interval:\n",
    "            print(F\"Thymio:{Thymio_state}, Target:{Global_path[0]}\")\n",
    "            reached = G_mc.path_tracking(Global_path[0], Thymio_state)\n",
    "            if reached:\n",
    "                Global_path = Global_path[1:]\n",
    "            G_track_timer = starter\n",
    "                # assume Global_path is not empty because of 2.2.1\n",
    "        #loop_time = time.time() - starter\n",
    "        #if G_verbose and len(Global_path) > 0:\n",
    "        #    print(F\"Thymio:{Thymio_state}, Target:{Global_path[0]}, {loop_time*1000 :.0f}ms\")\n",
    "        time.sleep(0.01)\n",
    "finally:\n",
    "    G_mc.stop()\n",
    "    G_mc.close()"
   ]
  }
 ],
 "metadata": {
  "interpreter": {
   "hash": "b10cf93940e5c0473413f3fc99b95e2c1997f6e8852312471085cb7234ec8d25"
  },
  "kernelspec": {
   "display_name": "Python 3.9.7 64-bit",
   "language": "python",
   "name": "python3"
  },
  "language_info": {
   "codemirror_mode": {
    "name": "ipython",
    "version": 3
   },
   "file_extension": ".py",
   "mimetype": "text/x-python",
   "name": "python",
   "nbconvert_exporter": "python",
   "pygments_lexer": "ipython3",
   "version": "3.6.2"
  },
  "orig_nbformat": 4
 },
 "nbformat": 4,
 "nbformat_minor": 2
}
