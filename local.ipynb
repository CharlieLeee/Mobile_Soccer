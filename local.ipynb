{
 "cells": [
  {
   "cell_type": "markdown",
   "metadata": {},
   "source": [
    "# Soccer Mobile\n",
    "<!-- Introduction of the project -->"
   ]
  },
  {
   "cell_type": "code",
   "execution_count": null,
   "metadata": {},
   "outputs": [],
   "source": [
    "!pip install --upgrade tdmclient"
   ]
  },
  {
   "cell_type": "markdown",
   "metadata": {},
   "source": [
    "## Introduction"
   ]
  },
  {
   "cell_type": "markdown",
   "metadata": {},
   "source": [
    "In this project the goal is to combine vision, path planning, local navigation, and filtering in order to make Thymio robot navigate trough a map towards a goal.  \n",
    "\n",
    "As the constraints are established we were free to chose our own implementation. To begin with, a camera is used in order to provide the vision information. The vision module works along with the global path and filter modules extracting estimating and computing the necessary map information, including the robot pose, robot pose, map, static obstacles, and the goal position. \n",
    "\n",
    "Indeed, a Kalman filter performs the estimations of the robot pose. Afterwards, the A* algorithm computes the optimal path. Following this, a global controller gives instructions to the motors for them to follow the optimal path. Finally, a local navigation module is implemented in order to provide a vision-free information to Thymio for the most spontaneous events such as a dynamic obstacle."
   ]
  },
  {
   "cell_type": "markdown",
   "metadata": {},
   "source": [
    "**Imports**"
   ]
  },
  {
   "cell_type": "code",
   "execution_count": null,
   "metadata": {},
   "outputs": [],
   "source": [
    "import time\n",
    "import numpy as np\n",
    "\n",
    "from geo import *\n",
    "import filtering"
   ]
  },
  {
   "cell_type": "code",
   "execution_count": null,
   "metadata": {},
   "outputs": [],
   "source": [
    "import tdmclient.notebook\n",
    "await tdmclient.notebook.start()"
   ]
  },
  {
   "cell_type": "markdown",
   "metadata": {},
   "source": [
    "## Local Navigation\n"
   ]
  },
  {
   "cell_type": "markdown",
   "metadata": {},
   "source": [
    "The local navigation module allows to take advantage of the proximity sensors located on the five front horizontal proximity sensors. The objective is to bypass the unknown local obstacle for further re-computing of the controller to correct Thymio's speed."
   ]
  },
  {
   "cell_type": "markdown",
   "metadata": {},
   "source": [
    "- **Input**\n",
    "\n",
    "    - Horizontal proximity sensor values\n",
    "\n",
    "\n",
    "- **Output**\n",
    "\n",
    "    - Motion control command for robot translation and rotation"
   ]
  },
  {
   "cell_type": "markdown",
   "metadata": {},
   "source": [
    "**Parameters**\n",
    "\n",
    "| Name                | Meaning                                                      | Type (Unit) | Global |\n",
    "| :------------------- | :------------------------------------------------------------ | :----------- | :------ |\n",
    "| `max_speed`        |  Nominal speed                 | Int         |  |\n",
    "| `obstThrL`      | Low obstacle threshold to switch state 1->0                | Int         |    |\n",
    "| `obstThrH` | High obstacle threshold to switch state 0->1                    | Int         |   |\n",
    "| `obstSpeedGain`         | Variation of speed according to the distance of obstacle | Int |   |\n",
    "| `state`         | 0=global navigation, 1=local navigation | Bool |   |\n",
    "| `obst`         | Measurements from left and right prox sensors | Int |   |\n"
   ]
  },
  {
   "cell_type": "markdown",
   "metadata": {},
   "source": [
    "**Functions**\n",
    "\n",
    "Two functions are basically doing the local avoidance. obs is meant to detect an obstacle and return the new state of the robot as stated in the parameters tabular. obstacle_avoidance updates the new speed to return to thymio. It will return the inputs to the motors function. "
   ]
  },
  {
   "cell_type": "code",
   "execution_count": null,
   "metadata": {},
   "outputs": [],
   "source": [
    "max_speed = 100       # nominal speed\n",
    "speedGain = 2      # gain used with ground gradient\n",
    "obstThrL = 10      # low obstacle threshold to switch state 1->0\n",
    "obstThrH = 20      # high obstacle threshold to switch state 0->1\n",
    "obstSpeedGain = 5  # /100 (actual gain: 5/100=0.05)"
   ]
  },
  {
   "cell_type": "code",
   "execution_count": null,
   "metadata": {},
   "outputs": [],
   "source": [
    "@tdmclient.notebook.sync_var\n",
    "def motors(left, right):\n",
    "    global motor_left_target, motor_right_target\n",
    "    motor_left_target = left\n",
    "    motor_right_target = right\n",
    "    \n",
    "@tdmclient.notebook.sync_var   \n",
    "def encoders():\n",
    "    global motor_left_speed, motor_right_speed\n",
    "    speed = []\n",
    "    while len(speed) < 2 :\n",
    "        speed = [motor_left_speed, motor_right_speed]\n",
    "    return speed\n",
    "    \n",
    "@tdmclient.notebook.sync_var\n",
    "def obstacle_avoidance():\n",
    "    global prox_horizontal, state, obst, obstSpeedGain, speed0, speedGain \n",
    "    obst = [prox_horizontal[0], prox_horizontal[4]]\n",
    "    \n",
    "    state = 0\n",
    "    if (obst[0] > obstThrH):\n",
    "        state = 1\n",
    "    elif (obst[1] > obstThrH):\n",
    "        state = 1\n",
    "        \n",
    "    if state == 1:\n",
    "        left_speed = max_speed + obstSpeedGain * (obst[0] // 100)\n",
    "        right_speed = max_speed + obstSpeedGain * (obst[1] // 100)\n",
    "        motors(left_speed, right_speed)\n",
    "        return True\n",
    "    else:\n",
    "        return False"
   ]
  },
  {
   "cell_type": "markdown",
   "metadata": {},
   "source": [
    "## Filtering\n",
    "tell where Thymio is."
   ]
  },
  {
   "cell_type": "markdown",
   "metadata": {},
   "source": [
    "## Motion Control\n",
    "\n",
    "The motion control of Thymio is where all movement functions and interations function with thymio are written. They alllow to update the thymio's movment based on the information returned by the global planing."
   ]
  },
  {
   "cell_type": "markdown",
   "metadata": {},
   "source": [
    "## Main : the soccer player"
   ]
  },
  {
   "cell_type": "code",
   "execution_count": null,
   "metadata": {},
   "outputs": [],
   "source": [
    "pre_state = np.array([0.0, 0.0, 0]).reshape(-1, 1) # initial state\n",
    "pre_cov = np.ones([3, 3]) * 0.03 # initial covariance\n",
    "G_filter = filtering.KF(pre_state, pre_cov, qx=0.1, qy=0.1, qtheta=0.3, rl=0.1, rr=0.1, b=0.0927)\n",
    "G_filter.timer = time.time()"
   ]
  },
  {
   "cell_type": "code",
   "execution_count": null,
   "metadata": {},
   "outputs": [],
   "source": [
    "G_verbose = True\n",
    "S_camera_interval = 1000 #ms\n",
    "S_motion_interval = 200 #ms\n",
    "S_track_interval = 0.2 #s\n",
    "\n",
    "S_epsilon_dis = 0.005\n",
    "S_epsilon_theta = 0.1\n"
   ]
  },
  {
   "cell_type": "code",
   "execution_count": null,
   "metadata": {},
   "outputs": [],
   "source": [
    "class MotionController_JN:\n",
    "    def __init__(self, time_interval = 10, # s \n",
    "                 eps_delta_r = 0.005, eps_delta_theta = 0.1,\n",
    "                 max_speed = 100, \n",
    "                 speed_scale = 0.000315, # (m/s) / speed_in_motor_command; 0.000315 for speed<200; 0.0003 for speed \\in (200,400)\n",
    "                 rotate_scale = 0.05, # TODO (rad/s) / speed_in_motor_command\n",
    "                 obstSpeedGain = 5,  # /100 (actual gain: 5/100=0.05)\n",
    "                 verbose = False\n",
    "                 ):\n",
    "        \"\"\"Motion Controller\n",
    "\n",
    "        Connected with thymio interface\n",
    "        Interface between high-level command and Thymio motion\n",
    "        \"\"\"\n",
    "        self.interval = time_interval   # s, control frequency\n",
    "        self.timer = time.time()\n",
    "        self.displacement = [0, 0]\n",
    "        self.speed = [0, 0]\n",
    "        \n",
    "        self.eps_delta_r = eps_delta_r\n",
    "        self.eps_delta_theta = eps_delta_theta\n",
    "\n",
    "        self.max_speed = max_speed\n",
    "        self.speed_scale = speed_scale\n",
    "        self.rotate_scale = rotate_scale\n",
    "        self.obstSpeedGain = obstSpeedGain\n",
    "\n",
    "        self.verbose = verbose\n",
    "\n",
    "    # -- Local Navigation --\n",
    "    def avoid(self):\n",
    "        return obstacle_avoidance()\n",
    "\n",
    "    # -- Path Tracking --        \n",
    "    def path_tracking(self, waypoint, Thymio_state, theta_track = False):\n",
    "        \"\"\"Follow the path\n",
    "\n",
    "        @return: waypoint reached\n",
    "        \"\"\"\n",
    "        # 4 Track the waypoints\n",
    "        # 4.1 Are we close enough to the next waypoint?  \n",
    "        delta_r = Thymio_state.dis(waypoint)\n",
    "        if delta_r < self.eps_delta_r:\n",
    "            if self.verbose:\n",
    "                print(\"Close to the point\")\n",
    "            # check the rotation\n",
    "            delta_theta = Thymio_state.delta_theta(waypoint)\n",
    "            if not theta_track or abs(delta_theta) < self.eps_delta_theta:\n",
    "                if self.verbose:\n",
    "                    print(Thymio_state,\"Point Finished\")\n",
    "                return True\n",
    "            else:\n",
    "                self.rotate(delta_theta) #PULSE\n",
    "        else:\n",
    "            # 4.2 Go to the next waypoint\n",
    "            headto_theta = Thymio_state.headto(waypoint)\n",
    "            delta_theta = headto_theta - Thymio_state.ori\n",
    "            delta_theta = Pos.projectin2pi(delta_theta)\n",
    "            if self.verbose:\n",
    "                print(F\"headto_theta: {headto_theta}\")\n",
    "            if abs(delta_theta) > self.eps_delta_theta:#1.0:\n",
    "                self.rotate(delta_theta)\n",
    "            # elif abs(delta_theta) > self.eps_delta_theta:\n",
    "            #     self.approach(delta_r, delta_theta)\n",
    "            else:\n",
    "                self.approach(delta_r, 0)\n",
    "            return False\n",
    "\n",
    "    # -- Movement --\n",
    "    def approach(self, delta_r, delta_theta = 0):\n",
    "        \"\"\"approach to the goal point\n",
    "        \n",
    "            move with modification of direction\n",
    "        \"\"\"\n",
    "        if self.verbose:\n",
    "            print(F\"approach to dr:{delta_r}, dt:{delta_theta}\")\n",
    "        # assume u only move <interval> s. \n",
    "        advance_speed = min(delta_r/self.interval/self.speed_scale * 50 + 20, self.max_speed)\n",
    "        delta_speed = delta_theta/self.interval/self.rotate_scale\n",
    "        if delta_speed > 0:\n",
    "            delta_speed = min(delta_speed, self.max_speed/2)\n",
    "            self.move(min(advance_speed, self.max_speed - 2*abs(delta_speed)), delta_speed)\n",
    "        else:\n",
    "            delta_speed = max(delta_speed, -self.max_speed/2)\n",
    "            self.move(min(advance_speed, self.max_speed - 2*abs(delta_speed)), delta_speed)\n",
    "\n",
    "    def rotate(self, delta_theta):\n",
    "        \"\"\"rotate in place\n",
    "        \"\"\"\n",
    "        if self.verbose:\n",
    "            print(F\"rotate to dt:{delta_theta}\")\n",
    "        delta_speed = delta_theta/(self.interval)/self.rotate_scale\n",
    "        if delta_speed > 0:\n",
    "            self.move(0, min(delta_speed + 10, self.max_speed))\n",
    "        else:\n",
    "            self.move(0, max(delta_speed - 10, -self.max_speed))\n",
    "\n",
    "    def move(self, vel, omega = 0):\n",
    "        \"\"\"\n",
    "        move with transitional velocity and rotational velocity\n",
    "        \"\"\"\n",
    "        if self.verbose:\n",
    "            print(F\"move with {vel}, {omega}\")\n",
    "        self._set_motor(vel - omega, vel + omega)\n",
    "\n",
    "    def stop(self):\n",
    "        \"\"\"Stop both motors\n",
    "        \"\"\"\n",
    "        self._set_motor(0, 0)\n",
    "\n",
    "    def update_displacement(self):\n",
    "        starter = time.time()\n",
    "        interval = starter - self.timer\n",
    "        self.timer = starter\n",
    "        rls, rrs = encoders()\n",
    "        # rls = int(rls * float(os.getenv(\"OFFSET_WHEELS\")))\n",
    "        rls = rls if rls < 2 ** 15 else rls - 2 ** 16\n",
    "        rrs = rrs if rrs < 2 ** 15 else rrs - 2 ** 16\n",
    "        rls = 0 if abs(rls) > self.max_speed * 1.1 else rls\n",
    "        rrs = 0 if abs(rrs) > self.max_speed * 1.1 else rrs \n",
    "        self.displacement[0] += rls*interval*self.speed_scale\n",
    "        self.displacement[1] += rrs*interval*self.speed_scale\n",
    "\n",
    "    def _set_motor(self, ls, rs):\n",
    "        ls = (int)(ls)\n",
    "        rs = (int)(rs)\n",
    "        # l_speed = int(ls / float(os.getenv(\"OFFSET_WHEELS\")))\n",
    "        l_speed = ls if ls >= 0 else 2 ** 16 + ls\n",
    "        r_speed = rs if rs >= 0 else 2 ** 16 + rs           \n",
    "        self.update_displacement()\n",
    "        motors(l_speed, r_speed)\n",
    "\n",
    "    def get_displacement(self):\n",
    "        self.update_displacement()\n",
    "        ret = self.displacement\n",
    "        self.displacement = [0, 0]\n",
    "        # if self.verbose:\n",
    "        #     print(F\"Displacement:{ret}\")\n",
    "        return ret\n",
    "\n",
    "    \n",
    "G_mc = MotionController_JN(verbose = G_verbose, time_interval = S_motion_interval/1000.0 )\n",
    "print(S_motion_interval)\n",
    "print(G_mc.interval)"
   ]
  },
  {
   "cell_type": "markdown",
   "metadata": {},
   "source": [
    "In this main all the motion control and local avoidance functions are called in a while loop. This merges all the modules and communicates with the thymio thanks to the motion contol module."
   ]
  },
  {
   "cell_type": "code",
   "execution_count": null,
   "metadata": {},
   "outputs": [],
   "source": [
    "G_track_timer = time.time()\n",
    "G_mc.get_displacement()\n",
    "\n",
    "def localizate():\n",
    "    \"\"\"Track Where Thymio is\"\"\"\n",
    "    global G_camera_timer\n",
    "    starter = G_filter.timer\n",
    "    # 3. Localization \n",
    "    # 3.1 odometer\n",
    "    dsl, dsr = G_mc.get_displacement()\n",
    "    # 3.2 With Vision\n",
    "        # if starter - G_camera_timer > S_camera_interval:\n",
    "        #     vision_thymio_state = G_vision._getThymio()\n",
    "        #     # Vision Failed\n",
    "        #     if vision_thymio_state is None:\n",
    "        #         G_filter.kalman_filter(dsr, dsl)\n",
    "        #     else:\n",
    "        #         G_camera_timer = starter\n",
    "        #         G_filter.kalman_filter(dsr, dsl, vision_thymio_state)\n",
    "        # else:        \n",
    "        #     G_filter.kalman_filter(dsr, dsl)\n",
    "    G_filter.kalman_filter(dsr, dsl)\n",
    "    G_filter.plot_gaussian()\n",
    "    thymio_state = G_filter.get_state()\n",
    "    return thymio_state\n",
    "\n",
    "print(localizate())"
   ]
  },
  {
   "cell_type": "code",
   "execution_count": null,
   "metadata": {},
   "outputs": [],
   "source": [
    "def reset():\n",
    "    G_filter.states = [np.array([0.0, 0.0, 0]).reshape(-1, 1)] # initial state\n",
    "    G_filter.covs = [np.ones([3, 3]) * 0.03]    \n",
    "    G_track_timer = time.time()\n",
    "    G_mc.get_displacement()\n",
    "    print(localizate())\n",
    "   \n",
    "reset() \n",
    "## Fake Waypoints\n",
    "Global_path = [State(Pos(0.1,0.0),0), State(Pos(0.1, 0.1),0.0),State(Pos(0.15, 0.15),0.0), State(Pos(0.2,0.2),0)]\n",
    "Goal_state = Global_path[-1]"
   ]
  },
  {
   "cell_type": "code",
   "execution_count": null,
   "metadata": {},
   "outputs": [],
   "source": [
    "debug_timer = 0.0\n",
    "while True:\n",
    "    starter = time.time()\n",
    "    # 3. Localization\n",
    "    Thymio_state = localizate()\n",
    "    # 2.2.1 Finished?\n",
    "    if Thymio_state.dis(Goal_state) < S_epsilon_dis \\\n",
    "        and abs(Thymio_state.ori - Goal_state.ori) < S_epsilon_theta:\n",
    "        G_mc.stop()\n",
    "        if G_verbose:\n",
    "            print(\"Terminate Reached!\")\n",
    "        break\n",
    "    # 2.2.2 Is there obstacles on the front?\n",
    "    obs_front = G_mc.avoid() # do local navigation for, like, 10ms\n",
    "    #     # TODO: replan\n",
    "    print(obs_front)\n",
    "    if (not obs_front) and starter - G_track_timer > S_track_interval:\n",
    "        # 4. Follow the path    # <-- The only task can run under low frequency\n",
    "        reached = G_mc.path_tracking(Global_path[0], Thymio_state, len(Global_path) == 1)\n",
    "        if reached:\n",
    "            print(Global_path[0],\"reached\")\n",
    "            Global_path = Global_path[1:]\n",
    "            # assume Global_path is not empty because of 2.2.1\n",
    "        G_track_timer = starter\n",
    "    #loop_time = time.time() - starter\n",
    "    time.sleep(0.2)\n",
    "    if starter - debug_timer > S_track_interval:\n",
    "        debug_timer = starter\n",
    "        print(F\"thymio: {Thymio_state}\")"
   ]
  },
  {
   "cell_type": "code",
   "execution_count": null,
   "metadata": {},
   "outputs": [],
   "source": [
    "motors(0,0)"
   ]
  },
  {
   "cell_type": "code",
   "execution_count": null,
   "metadata": {},
   "outputs": [],
   "source": []
  }
 ],
 "metadata": {
  "interpreter": {
   "hash": "b10cf93940e5c0473413f3fc99b95e2c1997f6e8852312471085cb7234ec8d25"
  },
  "kernelspec": {
   "display_name": "Python 3",
   "language": "python",
   "name": "python3"
  },
  "language_info": {
   "codemirror_mode": {
    "name": "ipython",
    "version": 3
   },
   "file_extension": ".py",
   "mimetype": "text/x-python",
   "name": "python",
   "nbconvert_exporter": "python",
   "pygments_lexer": "ipython3",
   "version": "3.8.8"
  }
 },
 "nbformat": 4,
 "nbformat_minor": 2
}
