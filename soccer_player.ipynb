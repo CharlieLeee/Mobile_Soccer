{
 "cells": [
  {
   "cell_type": "markdown",
   "metadata": {},
   "source": [
    "# Soccer Mobile\n",
    "<!-- Introduction of the project -->"
   ]
  },
  {
   "cell_type": "code",
   "execution_count": null,
   "metadata": {},
   "outputs": [],
   "source": [
    "%config InlineBackend.figure_format = 'retina'\n",
    "%matplotlib inline\n",
    "import numpy as np\n",
    "import time\n",
    "import random\n",
    "\n",
    "import matplotlib.pyplot as plt\n",
    "\n",
    "plt.rcParams['figure.figsize'] = [20, 10]"
   ]
  },
  {
   "cell_type": "markdown",
   "metadata": {},
   "source": [
    "## Geometry"
   ]
  },
  {
   "cell_type": "code",
   "execution_count": null,
   "metadata": {},
   "outputs": [],
   "source": [
    "from geo import *"
   ]
  },
  {
   "cell_type": "code",
   "execution_count": null,
   "metadata": {},
   "outputs": [],
   "source": []
  },
  {
   "cell_type": "markdown",
   "metadata": {},
   "source": [
    "## Vision\n"
   ]
  },
  {
   "cell_type": "code",
   "execution_count": null,
   "metadata": {},
   "outputs": [],
   "source": [
    "from vision import *\n",
    "vision_processor = VisionProcessor()\n",
    "img = cv2.imread(\"img/example.jpg\")\n",
    "plt.imshow(cv2.cvtColor(img, cv2.COLOR_RGB2BGR))"
   ]
  },
  {
   "cell_type": "markdown",
   "metadata": {},
   "source": [
    "### Image Processing"
   ]
  },
  {
   "cell_type": "markdown",
   "metadata": {},
   "source": [
    "#### Color Filtering"
   ]
  },
  {
   "cell_type": "code",
   "execution_count": null,
   "metadata": {},
   "outputs": [],
   "source": [
    "color = 'green'\n",
    "green_mask = VisionProcessor.color_filter(img, color=color)\n",
    "plt.imshow(cv2.cvtColor(green_mask, cv2.COLOR_RGB2BGR))"
   ]
  },
  {
   "cell_type": "markdown",
   "metadata": {},
   "source": [
    "#### Corner Detection"
   ]
  },
  {
   "cell_type": "markdown",
   "metadata": {},
   "source": [
    "##### 1. Using Image Processing"
   ]
  },
  {
   "cell_type": "code",
   "execution_count": null,
   "metadata": {},
   "outputs": [],
   "source": [
    "# 1. find the biggest green part\n",
    "\n",
    "gray = cv2.cvtColor(green_mask, cv2.COLOR_BGR2GRAY)\n",
    "(T, thresh) = cv2.threshold(gray, 0, 255, cv2.THRESH_OTSU)\n",
    "# morphology operation against noise\n",
    "closing = cv2.morphologyEx(thresh, cv2.MORPH_CLOSE, np.ones((10, 10)))\n",
    "# extract contours\n",
    "_,contours,hierarchy = cv2.findContours(closing,cv2.RETR_EXTERNAL, cv2.CHAIN_APPROX_SIMPLE)\n",
    "\n",
    "# Taking the one with the largest area # serve as the opening operation to some extent\n",
    "c = max(contours, key = cv2.contourArea)\n",
    "# use a convexHull against noise\n",
    "hull = cv2.convexHull(c)\n",
    "hull_img = np.zeros_like(img)     \n",
    "length = len(hull)\n",
    "for i in range(len(hull)):\n",
    "    cv2.line(hull_img, tuple(hull[i][0]), tuple(hull[(i+1)%length][0]), (255,0,0), 2)\n",
    "hull_img = cv2.cvtColor(hull_img, cv2.COLOR_RGB2GRAY)\n",
    "plt.imshow(hull_img)    \n",
    "_,convexcontour,_ = cv2.findContours(hull_img,cv2.RETR_EXTERNAL, cv2.CHAIN_APPROX_SIMPLE)\n",
    "ch = img.copy()\n",
    "cv2.drawContours(ch,convexcontour,-1,(255,0,0),1)\n",
    "#plt.imshow(cv2.cvtColor(ch, cv2.COLOR_RGB2BGR))      "
   ]
  },
  {
   "cell_type": "code",
   "execution_count": null,
   "metadata": {},
   "outputs": [],
   "source": [
    "# 2. get 4 corners\n",
    "lines = VisionProcessor.divide4(np.array(hull))\n",
    "ll = lines[np.argmax([abs(l[-1]) for l in lines])]\n",
    "lines.remove(ll)\n",
    "rl = lines[np.argmax([abs(l[-1]) for l in lines])]\n",
    "lines.remove(rl)\n",
    "ul = lines[0]\n",
    "dl = lines[1]\n",
    "corners = []\n",
    "i = 1\n",
    "ch = img.copy()\n",
    "for h in [ul, dl]:\n",
    "    for v in [ll, rl]:\n",
    "        x, y = VisionProcessor.intersection(h[0], h[1], -h[2], v[0], v[1], -v[2])\n",
    "        corners.append([x, y])\n",
    "        print(\"corner\",x, y)\n",
    "        cv2.circle(ch, (x, y), 3, (0, 255, 0), -1)\n",
    "        cv2.putText(ch,str(i), (x,y), cv2.FONT_HERSHEY_SIMPLEX, 1, (0, 0, 255), 2, cv2.LINE_AA)\n",
    "        i += 1\n",
    "        \n",
    "corners = np.array(corners)\n",
    "\n",
    "plt.imshow(ch)\n"
   ]
  },
  {
   "cell_type": "markdown",
   "metadata": {},
   "source": [
    "##### 2. Using aruco\n",
    "\n",
    "In this part we get the pixel coordinates of all four corners by using the aruco markers."
   ]
  },
  {
   "cell_type": "code",
   "execution_count": null,
   "metadata": {},
   "outputs": [],
   "source": [
    "from vision import *\n",
    "vision_processor = VisionProcessor()\n",
    "img = cv2.imread(\"img/test.jpg\")\n",
    "plt.imshow(cv2.cvtColor(img, cv2.COLOR_RGB2BGR))"
   ]
  },
  {
   "cell_type": "code",
   "execution_count": null,
   "metadata": {},
   "outputs": [],
   "source": [
    "corners, a_image = vision_processor.visualize_aruco(img)\n",
    "corners\n",
    "plt.imshow(cv2.cvtColor(a_image, cv2.COLOR_RGB2BGR))"
   ]
  },
  {
   "cell_type": "markdown",
   "metadata": {},
   "source": [
    "#### Perspective Projection\n",
    "[TODO]"
   ]
  },
  {
   "cell_type": "code",
   "execution_count": null,
   "metadata": {},
   "outputs": [],
   "source": [
    "M = VisionProcessor.align_field(corners)\n",
    "warped = VisionProcessor.warp(img, M)\n",
    "plt.imshow(cv2.cvtColor(warped, cv2.COLOR_RGB2BGR))\n"
   ]
  },
  {
   "cell_type": "code",
   "execution_count": null,
   "metadata": {},
   "outputs": [],
   "source": [
    "# import numpy as np\n",
    "# import cv2\n",
    "\n",
    "# cap = cv2.VideoCapture(3)\n",
    "\n",
    "# # fourcc = cv2.VideoWriter_fourcc(*'XVID')\n",
    "# # out = cv2.VideoWriter('output.avi', fourcc, 20.0, (640,480))\n",
    "\n",
    "# while(cap.isOpened()):\n",
    "#     ret, frame = cap.read()\n",
    "#     if ret==True:\n",
    "# #         frame = cv2.flip(frame,0)\n",
    "\n",
    "#         image=resize_image(frame,80)\n",
    "# #         image=align_field(image)\n",
    "# #         out.write(frame)\n",
    "\n",
    "#         cv2.imshow('frame',image)\n",
    "#         if cv2.waitKey(1) & 0xFF == ord('q'):\n",
    "#             break\n",
    "#     else:\n",
    "#         break\n",
    "# cap.release()\n",
    "\n",
    "# # out.release()\n",
    "\n",
    "# cv2.destroyAllWindows()"
   ]
  },
  {
   "cell_type": "markdown",
   "metadata": {},
   "source": [
    "#### Box Detection"
   ]
  },
  {
   "cell_type": "markdown",
   "metadata": {},
   "source": [
    "#### Ball Detection"
   ]
  },
  {
   "cell_type": "code",
   "execution_count": null,
   "metadata": {},
   "outputs": [],
   "source": []
  },
  {
   "cell_type": "markdown",
   "metadata": {},
   "source": [
    "### Detect Objects"
   ]
  },
  {
   "cell_type": "markdown",
   "metadata": {},
   "source": [
    "#### The Field"
   ]
  },
  {
   "cell_type": "code",
   "execution_count": null,
   "metadata": {},
   "outputs": [],
   "source": []
  },
  {
   "cell_type": "markdown",
   "metadata": {},
   "source": [
    "#### The obstacles"
   ]
  },
  {
   "cell_type": "code",
   "execution_count": null,
   "metadata": {},
   "outputs": [],
   "source": []
  },
  {
   "cell_type": "markdown",
   "metadata": {},
   "source": [
    "#### The ball"
   ]
  },
  {
   "cell_type": "code",
   "execution_count": null,
   "metadata": {},
   "outputs": [],
   "source": []
  },
  {
   "cell_type": "markdown",
   "metadata": {},
   "source": [
    "#### Thymio"
   ]
  },
  {
   "cell_type": "code",
   "execution_count": null,
   "metadata": {},
   "outputs": [],
   "source": []
  },
  {
   "cell_type": "markdown",
   "metadata": {},
   "source": [
    "## Global Navigation\n",
    "This module aims to plan a path from the start to the goal.\n",
    "The result will be represented in form of a list of Waypoints."
   ]
  },
  {
   "cell_type": "code",
   "execution_count": null,
   "metadata": {},
   "outputs": [],
   "source": [
    "###\n",
    "h, w = 40, 30\n",
    "pStart = Pos(0,0)\n",
    "pBall = Pos(h-1, w-1)\n",
    "rmap = GridMap(h, w, 0.01)\n",
    "rmap.set_start(pStart)\n",
    "obslist = [Pos(random.randint(10,h-11),random.randint(10,w-11)) for _ in range(3)]\n",
    "rmap.set_obs(obslist)\n",
    "\n",
    "Goal_state = State(Pos(h-1,w-1), 1.57)\n",
    "###\n",
    "\n",
    "obsmap = [[int(val) for val in li] for li in rmap.obs_map]\n",
    "obsmap[pStart.x][pStart.y] = 0.3\n",
    "obsmap[pBall.x][pBall.y] = 0.7\n",
    "plt.imshow(obsmap)"
   ]
  },
  {
   "cell_type": "markdown",
   "metadata": {},
   "source": [
    "### Pre-Processing\n",
    "#### Enlarge the obstacles\n",
    "After getting the environment map, we need to enlarge the obstacles to make sure every point is safe for thymio."
   ]
  },
  {
   "cell_type": "code",
   "execution_count": null,
   "metadata": {},
   "outputs": [],
   "source": [
    "from global_navigation import *\n",
    "planner =  PathPlanner(rmap, path_simplification=False)\n",
    "plt.imshow(planner.obs) # has auto enlarged the obs when load the map"
   ]
  },
  {
   "cell_type": "markdown",
   "metadata": {},
   "source": [
    "#### Caculate the actual position\n",
    "The goal position represent where that the head of thmio will reach; We need to calculate the actual center position of thymio for the goal."
   ]
  },
  {
   "cell_type": "code",
   "execution_count": null,
   "metadata": {},
   "outputs": [],
   "source": [
    "pGoal1 = planner.approach(pBall)\n",
    "planner.set_goal(pGoal1)\n",
    "print(\"Goal State:\",pGoal1)\n",
    "import copy\n",
    "obs = copy.deepcopy(planner.obs)\n",
    "obs[pStart.x][pStart.y] = 0.3\n",
    "obs[pBall.x][pBall.y] = 0.7\n",
    "obs[pGoal1.pos.x][pGoal1.pos.y] = 0.5\n",
    "plt.imshow(obs)"
   ]
  },
  {
   "cell_type": "markdown",
   "metadata": {},
   "source": [
    "### Path Planning\n",
    "We implemented two ways of path planning, namely, A* and RRT.\n",
    "A* is an optimal path planning algorithm.\n",
    "RRT is usually applied for high-dimension path planning. For our project, if we get a quite large grid map, the computational cost will be high, and RRT can boost up the speed. We should note that, it's not a optimal algorithms."
   ]
  },
  {
   "cell_type": "code",
   "execution_count": null,
   "metadata": {},
   "outputs": [],
   "source": [
    "# the result of A*\n",
    "# points in the same direction have been deleted\n",
    "planner.method = \"A*\"\n",
    "planner.neighbor = 8\n",
    "apath = planner.plan()\n",
    "nobs = copy.deepcopy(obs)\n",
    "for p in apath:\n",
    "    nobs[p.x][p.y] = 0.9\n",
    "plt.imshow(nobs)"
   ]
  },
  {
   "cell_type": "code",
   "execution_count": null,
   "metadata": {},
   "outputs": [],
   "source": [
    "# the result of RRT\n",
    "planner.method = \"RRT\"\n",
    "rrtpath = planner.plan()\n",
    "nobs = copy.deepcopy(obs)\n",
    "for p in rrtpath:\n",
    "    nobs[p.x][p.y] = 0.9\n",
    "plt.imshow(nobs)"
   ]
  },
  {
   "cell_type": "markdown",
   "metadata": {},
   "source": [
    "### Post-Processing\n",
    "#### Collect waypoints in same direction\n",
    "The waypoints in same direction just have the same effect for path tracking, so we try to elimate some redandent points."
   ]
  },
  {
   "cell_type": "code",
   "execution_count": null,
   "metadata": {},
   "outputs": [],
   "source": [
    "apath = planner.collect_wps(apath)\n",
    "nobs = copy.deepcopy(obs)\n",
    "for p in apath:\n",
    "    nobs[p.x][p.y] = 0.9\n",
    "plt.imshow(nobs)"
   ]
  },
  {
   "cell_type": "markdown",
   "metadata": {},
   "source": [
    "#### Shrink the waypoints\n",
    "Try to connect the grandparent to grandchild directly."
   ]
  },
  {
   "cell_type": "code",
   "execution_count": null,
   "metadata": {},
   "outputs": [],
   "source": [
    "apath = planner.path_simplification(apath)\n",
    "nobs = copy.deepcopy(obs)\n",
    "for p in apath:\n",
    "    nobs[p.x][p.y] = 0.9\n",
    "plt.imshow(nobs)"
   ]
  },
  {
   "cell_type": "markdown",
   "metadata": {},
   "source": [
    "#### Assign Orientation\n"
   ]
  },
  {
   "cell_type": "code",
   "execution_count": null,
   "metadata": {},
   "outputs": [],
   "source": [
    "Global_path = planner.assign_ori(apath)\n",
    "for s in Global_path:\n",
    "    print(s)"
   ]
  },
  {
   "cell_type": "code",
   "execution_count": null,
   "metadata": {},
   "outputs": [],
   "source": []
  },
  {
   "cell_type": "markdown",
   "metadata": {},
   "source": [
    "## Local Navigation\n"
   ]
  },
  {
   "cell_type": "markdown",
   "metadata": {},
   "source": [
    "## Filtering\n",
    "### Overview\n",
    "The goal of the filtering module is to integrate (if available) the measurements (in our case, the vision output) with the information from the motor encoders to estimate a reasonable state for Thymio. To this end, we use Extended Kalman Filter (EKF) technique in our project. Compared to the regular Kalman Filter, Extended Kalman Filter is the nonlinear version of the Kalman filter which utilizes first (or second) order derivative to do the approximation.\n",
    "\n",
    "## Robot States\n",
    "\n",
    "The state of Thymio is represented as $$\\mu_t = [x_t, y_t, \\theta_t]^T$$ as shown in the figure below, corresponding to the x, y, and orientation of the robot as shown in the figure below.\n",
    "<center><img src=\"Notebook_figures/robot_state.png\" alt=\"\" style=\"width: 800px;\"/></center>\n",
    "Where we denote the displacement in distance as D and displacement in orientation as T (for the sake of simplicity we omit the indices).\n",
    "\n",
    "## State Space Representation of EKF\n",
    "### Action and Measurement Model\n",
    "The action and measurement model of EKF is shown below, where $f$ and $h$ are two nonlinear functions.\n",
    "\\begin{array}{l}\\boldsymbol{x}_{t}=f\\left(\\boldsymbol{x}_{t-1}, \\boldsymbol{u}_{t}\\right)+\\boldsymbol{w}_{t} \\\\\\boldsymbol{z}_{t}=h\\left(\\boldsymbol{x}_{t}\\right)+\\boldsymbol{v}_{t}\\end{array}\n",
    "\n",
    "The prediction stage of EKF is described as:\n",
    "$$\\hat{\\boldsymbol{x}}_{t \\mid t-1}=f\\left(\\hat{\\boldsymbol{x}}_{t-1 \\mid t-1}, \\boldsymbol{u}_{t}\\right)$$\n",
    "\n",
    "\n",
    "where the input of the system is a vector consisting of two encoder displacements of Thymio left/right wheels represented as $u_t = [\\Delta S_r,\\Delta S_l ]^T$\n",
    "<center><img src=\"Notebook_figures/turning.png\" alt=\"\" style=\"width: 300px;\"/></center>\n",
    "\n"
   ]
  },
  {
   "cell_type": "code",
   "execution_count": null,
   "metadata": {},
   "outputs": [],
   "source": [
    "import filtering\n",
    "# Motor Calibration"
   ]
  },
  {
   "cell_type": "code",
   "execution_count": null,
   "metadata": {},
   "outputs": [],
   "source": []
  },
  {
   "cell_type": "code",
   "execution_count": null,
   "metadata": {},
   "outputs": [],
   "source": [
    "pre_state = np.array([0.0, 0.0, 0]).reshape(-1, 1) # initial state\n",
    "pre_cov = np.ones([3, 3]) * 0.03 # initial covariance\n",
    "G_filter = filtering.KF(pre_state, pre_cov, qx=0.1, qy=0.1, qtheta=0.3, rl=0.1, rr=0.1, b=0.0927)\n",
    "G_filter.timer = time.time()"
   ]
  },
  {
   "cell_type": "code",
   "execution_count": null,
   "metadata": {},
   "outputs": [],
   "source": [
    "G_filter.states"
   ]
  },
  {
   "cell_type": "markdown",
   "metadata": {},
   "source": [
    "## Motion Control\n",
    "Actuator."
   ]
  },
  {
   "cell_type": "code",
   "execution_count": null,
   "metadata": {},
   "outputs": [],
   "source": [
    "from Thymio import Thymio\n",
    "import motion_control\n",
    "\n",
    "THYMIO_PORT = \"COM5\"\n",
    "THYMIO_REFRESH_RATE = 1.0\n",
    "G_verbose = True\n",
    "S_camera_interval = 1000 #ms\n",
    "S_motion_interval = 10 #ms\n",
    "S_track_interval = 0.1 #s\n",
    "\n",
    "S_epsilon_dis = 0.005\n",
    "S_epsilon_theta = 0.1\n",
    "\n",
    "G_mc = motion_control.MotionController(\n",
    "    Thymio.serial(port=THYMIO_PORT, refreshing_rate=THYMIO_REFRESH_RATE), \n",
    "    S_motion_interval, eps_delta_r=S_epsilon_dis, eps_delta_theta=S_epsilon_theta, \n",
    "    max_speed=100,\n",
    "    verbose=G_verbose)"
   ]
  },
  {
   "cell_type": "code",
   "execution_count": null,
   "metadata": {},
   "outputs": [],
   "source": [
    "#G_camera_timer = time.time()\n",
    "G_track_timer = time.time()\n",
    "G_mc.get_displacement()\n",
    "\n",
    "def localizate():\n",
    "    \"\"\"Track Where Thymio is\"\"\"\n",
    "    global G_camera_timer\n",
    "    starter = G_filter.timer\n",
    "    # 3. Localization \n",
    "    # 3.1 odometer\n",
    "    dsl, dsr = G_mc.get_displacement()\n",
    "    # 3.2 With Vision\n",
    "        # if starter - G_camera_timer > S_camera_interval:\n",
    "        #     vision_thymio_state = G_vision._getThymio()\n",
    "        #     # Vision Failed\n",
    "        #     if vision_thymio_state is None:\n",
    "        #         G_filter.kalman_filter(dsr, dsl)\n",
    "        #     else:\n",
    "        #         G_camera_timer = starter\n",
    "        #         G_filter.kalman_filter(dsr, dsl, vision_thymio_state)\n",
    "        # else:        \n",
    "        #     G_filter.kalman_filter(dsr, dsl)\n",
    "    G_filter.kalman_filter(dsr, dsl)\n",
    "    G_filter.plot_gaussian()\n",
    "    thymio_state = G_filter.get_state()\n",
    "    return thymio_state\n",
    "\n",
    "print(localizate())"
   ]
  },
  {
   "cell_type": "code",
   "execution_count": null,
   "metadata": {},
   "outputs": [],
   "source": [
    "def reset():\n",
    "    G_filter.states = [np.array([0.0, 0.0, 0]).reshape(-1, 1)] # initial state\n",
    "    G_filter.covs = [np.ones([3, 3]) * 0.03]    \n",
    "    G_track_timer = time.time()\n",
    "    G_mc.get_displacement()\n",
    "    print(localizate())\n",
    "   \n",
    "reset() \n",
    "## Fake Waypoints\n",
    "Global_path = [State(Pos(0.1,0.0),0), State(Pos(0.1, 0.1),0.0),State(Pos(0.15, 0.15),0.0), State(Pos(0.2,0.2),0)]\n",
    "Goal_state = Global_path[-1]"
   ]
  },
  {
   "cell_type": "code",
   "execution_count": null,
   "metadata": {},
   "outputs": [],
   "source": [
    "G_mc.stop()"
   ]
  },
  {
   "cell_type": "code",
   "execution_count": null,
   "metadata": {},
   "outputs": [],
   "source": [
    "for s in Global_path:\n",
    "    print(s)\n",
    "print(\"Goal\",Goal_state)"
   ]
  },
  {
   "cell_type": "code",
   "execution_count": null,
   "metadata": {},
   "outputs": [],
   "source": [
    "debug_timer = 0.0\n",
    "while True:\n",
    "    starter = time.time()\n",
    "    # 3. Localization\n",
    "    Thymio_state = localizate()\n",
    "    # 2.2.1 Finished?\n",
    "    if Thymio_state.dis(Goal_state) < S_epsilon_dis \\\n",
    "        and abs(Thymio_state.ori - Goal_state.ori) < S_epsilon_theta:\n",
    "        G_mc.stop()\n",
    "        if G_verbose:\n",
    "            print(\"Terminate Reached!\")\n",
    "        break\n",
    "    # 2.2.2 Is there obstacles on the front?\n",
    "    # if G_mc.obs_front():\n",
    "    #     G_mc.avoid() # do local navigation for, like, 10ms\n",
    "    #     # TODO: replan\n",
    "    # else:\n",
    "    if starter - G_track_timer > S_track_interval:\n",
    "        # 4. Follow the path    # <-- The only task can run under low frequency\n",
    "        reached = G_mc.path_tracking(Global_path[0], Thymio_state, len(Global_path) == 1)\n",
    "        if reached:\n",
    "            print(Global_path[0],\"reached\")\n",
    "            Global_path = Global_path[1:]\n",
    "            # assume Global_path is not empty because of 2.2.1\n",
    "        G_track_timer = starter\n",
    "    loop_time = time.time() - starter\n",
    "    if starter - debug_timer > S_track_interval:\n",
    "        debug_timer = starter\n",
    "        print(F\"thymio: {Thymio_state}\")"
   ]
  },
  {
   "cell_type": "markdown",
   "metadata": {},
   "source": [
    "End of the test"
   ]
  },
  {
   "cell_type": "code",
   "execution_count": null,
   "metadata": {},
   "outputs": [],
   "source": [
    "\n",
    "G_camera_timer = time.time()\n",
    "G_track_timer = time.time()\n",
    "\n",
    "def localizate():\n",
    "    \"\"\"Track Where Thymio is\"\"\"\n",
    "    global G_camera_timer\n",
    "    starter = G_filter.timer\n",
    "    # 3. Localization \n",
    "    # 3.1 odometer\n",
    "    dsl, dsr = G_mc.get_displacement()\n",
    "    # 3.2 With Vision\n",
    "    # if starter - G_camera_timer > S_camera_interval:\n",
    "    #     vision_thymio_state = G_vision._getThymio()\n",
    "    #     # Vision Failed\n",
    "    #     if vision_thymio_state is None:\n",
    "    #         G_filter.kalman_filter(dsr, dsl)\n",
    "    #     else:\n",
    "    #         G_camera_timer = starter\n",
    "    #         G_filter.kalman_filter(dsr, dsl, vision_thymio_state)\n",
    "    # else:        \n",
    "    G_filter.kalman_filter(dsr, dsl)\n",
    "    \n",
    "    thymio_state = G_filter.get_state()\n",
    "    return thymio_state\n"
   ]
  },
  {
   "cell_type": "code",
   "execution_count": null,
   "metadata": {},
   "outputs": [],
   "source": [
    "Global_path = planner.assign_ori(apath)\n",
    "for s in Global_path:\n",
    "    print(s)"
   ]
  },
  {
   "cell_type": "code",
   "execution_count": null,
   "metadata": {},
   "outputs": [],
   "source": [
    "G_mc.stop()"
   ]
  },
  {
   "cell_type": "code",
   "execution_count": null,
   "metadata": {},
   "outputs": [],
   "source": [
    "debug_timer = time.time()\n",
    "print(localizate())\n",
    "while True:\n",
    "    starter = time.time()\n",
    "    # 3. Localization\n",
    "    Thymio_state = localizate()\n",
    "    # 2.2.1 Finished?\n",
    "    if Thymio_state.dis(Goal_state) < S_epsilon_dis \\\n",
    "        and abs(Thymio_state.ori - Goal_state.ori) < S_epsilon_theta:\n",
    "        if G_verbose:\n",
    "            print(\"Terminate Reached!\")\n",
    "        break\n",
    "    # 2.2.2 Is there obstacles on the front?\n",
    "    if G_mc.obs_front():\n",
    "        G_mc.avoid() # do local navigation for, like, 10ms\n",
    "        # TODO: replan\n",
    "    else:\n",
    "        if starter - G_track_timer > S_track_interval:\n",
    "            # 4. Follow the path    # <-- The only task can run under low frequency\n",
    "            reached = G_mc.path_tracking(Global_path[0], Thymio_state, len(Global_path) == 1)\n",
    "            if reached:\n",
    "                Global_path = Global_path[1:]\n",
    "                # assume Global_path is not empty because of 2.2.1\n",
    "            G_track_timer = starter\n",
    "    loop_time = time.time() - starter\n",
    "    # TODO: how long does it takes? -- about 1ms\n",
    "    #       then, which motor speed fit the period time\n",
    "    #             should we stop to calibrate pose?\n",
    "\n",
    "    if starter - debug_timer > 1.0:\n",
    "        print(Thymio_state)\n",
    "        debug_timer = starter\n",
    "    #if G_verbose:\n",
    "    #    print(F\"looper time: {loop_time*1000 :.0f}ms\")\n"
   ]
  },
  {
   "cell_type": "code",
   "execution_count": null,
   "metadata": {},
   "outputs": [],
   "source": [
    "get_ball = False\n",
    "# 1. get the ball\n",
    "planner.set_goal = pBall\n",
    "planner.set_start = None # Pos of Thymio [Filtering]\n",
    "waypoints = planner.plan()\n",
    "while not get_ball:\n",
    "    if controller.obs_forward():\n",
    "        pass #   [Local Navigation]\n",
    "        #          return to waypoints to follow\n",
    "    else:\n",
    "        waypoints = controller.go_pos(waypoints) # follow the waypoints \n",
    "    pass\n",
    "\n",
    "# 2. Push the ball to the goal\n",
    "finished = False\n",
    "planner.set_goal = pGoal\n",
    "planner.set_start = None # Pos of Thymio [Filtering]\n",
    "waypoints = planner.plan()\n",
    "while not finished:\n",
    "    if controller.obs_forward():\n",
    "        pass #   [Local Navigation]\n",
    "        #          return to waypoints to follow\n",
    "    else:\n",
    "        waypoints = controller.go_pos(waypoints) # follow the waypoints \n",
    "    pass"
   ]
  },
  {
   "cell_type": "markdown",
   "metadata": {},
   "source": [
    "# Serial Control vs TDMClient"
   ]
  },
  {
   "cell_type": "code",
   "execution_count": null,
   "metadata": {},
   "outputs": [],
   "source": [
    "from Thymio import Thymio\n",
    "import os\n",
    "import sys"
   ]
  },
  {
   "cell_type": "code",
   "execution_count": null,
   "metadata": {},
   "outputs": [],
   "source": [
    "!pip install pyserial"
   ]
  },
  {
   "cell_type": "code",
   "execution_count": null,
   "metadata": {},
   "outputs": [],
   "source": [
    "import sys\n",
    "import glob\n",
    "import serial\n",
    "\n",
    "\n",
    "def serial_ports():\n",
    "    \"\"\" Lists serial port names\n",
    "\n",
    "        :raises EnvironmentError:\n",
    "            On unsupported or unknown platforms\n",
    "        :returns:\n",
    "            A list of the serial ports available on the system\n",
    "    \"\"\"\n",
    "    if sys.platform.startswith('win'):\n",
    "        ports = ['COM%s' % (i + 1) for i in range(256)]\n",
    "    elif sys.platform.startswith('linux') or sys.platform.startswith('cygwin'):\n",
    "        # this excludes your current terminal \"/dev/tty\"\n",
    "        ports = glob.glob('/dev/tty[A-Za-z]*')\n",
    "    elif sys.platform.startswith('darwin'):\n",
    "        ports = glob.glob('/dev/tty.*')\n",
    "    else:\n",
    "        raise EnvironmentError('Unsupported platform')\n",
    "\n",
    "    result = []\n",
    "    for port in ports:\n",
    "        try:\n",
    "            s = serial.Serial(port)\n",
    "            s.close()\n",
    "            result.append(port)\n",
    "        except (OSError, serial.SerialException):\n",
    "            pass\n",
    "    return result\n",
    "\n",
    "\n",
    "if __name__ == '__main__':\n",
    "    print(serial_ports())"
   ]
  },
  {
   "cell_type": "code",
   "execution_count": null,
   "metadata": {},
   "outputs": [],
   "source": [
    "sys.setrecursionlimit(3000)\n",
    "print(os.getenv('COM4'))"
   ]
  },
  {
   "cell_type": "code",
   "execution_count": null,
   "metadata": {},
   "outputs": [],
   "source": [
    "th = Thymio.serial(port=os.getenv('COM6'), refreshing_rate=0.1)"
   ]
  },
  {
   "cell_type": "code",
   "execution_count": null,
   "metadata": {},
   "outputs": [],
   "source": []
  }
 ],
 "metadata": {
  "interpreter": {
   "hash": "b10cf93940e5c0473413f3fc99b95e2c1997f6e8852312471085cb7234ec8d25"
  },
  "kernelspec": {
   "display_name": "Python 3",
   "language": "python",
   "name": "python3"
  },
  "language_info": {
   "codemirror_mode": {
    "name": "ipython",
    "version": 3
   },
   "file_extension": ".py",
   "mimetype": "text/x-python",
   "name": "python",
   "nbconvert_exporter": "python",
   "pygments_lexer": "ipython3",
   "version": "3.7.3"
  }
 },
 "nbformat": 4,
 "nbformat_minor": 2
}
