{
 "cells": [
  {
   "cell_type": "markdown",
   "metadata": {},
   "source": [
    "# Soccer Mobile\n",
    "<!-- Introduction of the project -->"
   ]
  },
  {
   "cell_type": "code",
   "execution_count": null,
   "metadata": {},
   "outputs": [],
   "source": [
    "%config InlineBackend.figure_format = 'retina'\n",
    "%matplotlib inline\n",
    "import numpy as np\n",
    "import time\n",
    "import random\n",
    "\n",
    "import matplotlib.pyplot as plt\n",
    "\n",
    "plt.rcParams['figure.figsize'] = [20, 10]"
   ]
  },
  {
   "cell_type": "markdown",
   "metadata": {},
   "source": [
    "## Geometry"
   ]
  },
  {
   "cell_type": "code",
   "execution_count": null,
   "metadata": {},
   "outputs": [],
   "source": [
    "from geo import *"
   ]
  },
  {
   "cell_type": "code",
   "execution_count": null,
   "metadata": {},
   "outputs": [],
   "source": []
  },
  {
   "cell_type": "markdown",
   "metadata": {},
   "source": [
    "## Vision\n"
   ]
  },
  {
   "cell_type": "code",
   "execution_count": null,
   "metadata": {},
   "outputs": [],
   "source": [
    "from vision import *\n",
    "vision_processor = VisionProcessor()\n",
    "img = cv2.imread(\"img/example.jpg\")\n",
    "plt.imshow(cv2.cvtColor(img, cv2.COLOR_RGB2BGR))"
   ]
  },
  {
   "cell_type": "markdown",
   "metadata": {},
   "source": [
    "### Image Processing"
   ]
  },
  {
   "cell_type": "markdown",
   "metadata": {},
   "source": [
    "#### Color Filtering"
   ]
  },
  {
   "cell_type": "code",
   "execution_count": null,
   "metadata": {},
   "outputs": [],
   "source": [
    "color = 'green'\n",
    "green_mask = VisionProcessor.color_filter(img, color=color)\n",
    "plt.imshow(cv2.cvtColor(green_mask, cv2.COLOR_RGB2BGR))"
   ]
  },
  {
   "cell_type": "markdown",
   "metadata": {},
   "source": [
    "#### Corner Detection"
   ]
  },
  {
   "cell_type": "markdown",
   "metadata": {},
   "source": [
    "##### 1. Using Image Processing"
   ]
  },
  {
   "cell_type": "code",
   "execution_count": 9,
   "metadata": {},
   "outputs": [
    {
     "ename": "ValueError",
     "evalue": "not enough values to unpack (expected 3, got 2)",
     "output_type": "error",
     "traceback": [
      "\u001b[1;31m---------------------------------------------------------------------------\u001b[0m",
      "\u001b[1;31mValueError\u001b[0m                                Traceback (most recent call last)",
      "\u001b[1;32m<ipython-input-9-dc0a9a3a2c2c>\u001b[0m in \u001b[0;36m<module>\u001b[1;34m\u001b[0m\n\u001b[0;32m      6\u001b[0m \u001b[0mclosing\u001b[0m \u001b[1;33m=\u001b[0m \u001b[0mcv2\u001b[0m\u001b[1;33m.\u001b[0m\u001b[0mmorphologyEx\u001b[0m\u001b[1;33m(\u001b[0m\u001b[0mthresh\u001b[0m\u001b[1;33m,\u001b[0m \u001b[0mcv2\u001b[0m\u001b[1;33m.\u001b[0m\u001b[0mMORPH_CLOSE\u001b[0m\u001b[1;33m,\u001b[0m \u001b[0mnp\u001b[0m\u001b[1;33m.\u001b[0m\u001b[0mones\u001b[0m\u001b[1;33m(\u001b[0m\u001b[1;33m(\u001b[0m\u001b[1;36m10\u001b[0m\u001b[1;33m,\u001b[0m \u001b[1;36m10\u001b[0m\u001b[1;33m)\u001b[0m\u001b[1;33m)\u001b[0m\u001b[1;33m)\u001b[0m\u001b[1;33m\u001b[0m\u001b[1;33m\u001b[0m\u001b[0m\n\u001b[0;32m      7\u001b[0m \u001b[1;31m# extract contours\u001b[0m\u001b[1;33m\u001b[0m\u001b[1;33m\u001b[0m\u001b[1;33m\u001b[0m\u001b[0m\n\u001b[1;32m----> 8\u001b[1;33m \u001b[0m_\u001b[0m\u001b[1;33m,\u001b[0m\u001b[0mcontours\u001b[0m\u001b[1;33m,\u001b[0m\u001b[0mhierarchy\u001b[0m \u001b[1;33m=\u001b[0m \u001b[0mcv2\u001b[0m\u001b[1;33m.\u001b[0m\u001b[0mfindContours\u001b[0m\u001b[1;33m(\u001b[0m\u001b[0mclosing\u001b[0m\u001b[1;33m,\u001b[0m\u001b[0mcv2\u001b[0m\u001b[1;33m.\u001b[0m\u001b[0mRETR_EXTERNAL\u001b[0m\u001b[1;33m,\u001b[0m \u001b[0mcv2\u001b[0m\u001b[1;33m.\u001b[0m\u001b[0mCHAIN_APPROX_SIMPLE\u001b[0m\u001b[1;33m)\u001b[0m\u001b[1;33m\u001b[0m\u001b[1;33m\u001b[0m\u001b[0m\n\u001b[0m\u001b[0;32m      9\u001b[0m \u001b[1;33m\u001b[0m\u001b[0m\n\u001b[0;32m     10\u001b[0m \u001b[1;31m# Taking the one with the largest area # serve as the opening operation to some extent\u001b[0m\u001b[1;33m\u001b[0m\u001b[1;33m\u001b[0m\u001b[1;33m\u001b[0m\u001b[0m\n",
      "\u001b[1;31mValueError\u001b[0m: not enough values to unpack (expected 3, got 2)"
     ]
    }
   ],
   "source": [
    "# 1. find the biggest green part\n",
    "\n",
    "gray = cv2.cvtColor(green_mask, cv2.COLOR_BGR2GRAY)\n",
    "(T, thresh) = cv2.threshold(gray, 0, 255, cv2.THRESH_OTSU)\n",
    "# morphology operation against noise\n",
    "closing = cv2.morphologyEx(thresh, cv2.MORPH_CLOSE, np.ones((10, 10)))\n",
    "# extract contours\n",
    "_,contours,hierarchy = cv2.findContours(closing,cv2.RETR_EXTERNAL, cv2.CHAIN_APPROX_SIMPLE)\n",
    "\n",
    "# Taking the one with the largest area # serve as the opening operation to some extent\n",
    "c = max(contours, key = cv2.contourArea)\n",
    "# use a convexHull against noise\n",
    "hull = cv2.convexHull(c)\n",
    "hull_img = np.zeros_like(img)     \n",
    "length = len(hull)\n",
    "for i in range(len(hull)):\n",
    "    cv2.line(hull_img, tuple(hull[i][0]), tuple(hull[(i+1)%length][0]), (255,0,0), 2)\n",
    "hull_img = cv2.cvtColor(hull_img, cv2.COLOR_RGB2GRAY)\n",
    "plt.imshow(hull_img)    \n",
    "_,convexcontour,_ = cv2.findContours(hull_img,cv2.RETR_EXTERNAL, cv2.CHAIN_APPROX_SIMPLE)\n",
    "ch = img.copy()\n",
    "cv2.drawContours(ch,convexcontour,-1,(255,0,0),1)\n",
    "#plt.imshow(cv2.cvtColor(ch, cv2.COLOR_RGB2BGR))      "
   ]
  },
  {
   "cell_type": "code",
   "execution_count": null,
   "metadata": {},
   "outputs": [],
   "source": [
    "# 2. get 4 corners\n",
    "lines = VisionProcessor.divide4(np.array(hull))\n",
    "ll = lines[np.argmax([abs(l[-1]) for l in lines])]\n",
    "lines.remove(ll)\n",
    "rl = lines[np.argmax([abs(l[-1]) for l in lines])]\n",
    "lines.remove(rl)\n",
    "ul = lines[0]\n",
    "dl = lines[1]\n",
    "corners = []\n",
    "i = 1\n",
    "ch = img.copy()\n",
    "for h in [ul, dl]:\n",
    "    for v in [ll, rl]:\n",
    "        x, y = VisionProcessor.intersection(h[0], h[1], -h[2], v[0], v[1], -v[2])\n",
    "        corners.append([x, y])\n",
    "        print(\"corner\",x, y)\n",
    "        cv2.circle(ch, (x, y), 3, (0, 255, 0), -1)\n",
    "        cv2.putText(ch,str(i), (x,y), cv2.FONT_HERSHEY_SIMPLEX, 1, (0, 0, 255), 2, cv2.LINE_AA)\n",
    "        i += 1\n",
    "        \n",
    "corners = np.array(corners)\n",
    "\n",
    "plt.imshow(ch)\n"
   ]
  },
  {
   "cell_type": "markdown",
   "metadata": {},
   "source": [
    "##### 2. Using aruco\n",
    "\n",
    "In this part we get the pixel coordinates of all four corners by using the aruco markers."
   ]
  },
  {
   "cell_type": "code",
   "execution_count": null,
   "metadata": {},
   "outputs": [],
   "source": [
    "from vision import *\n",
    "vision_processor = VisionProcessor()\n",
    "img = cv2.imread(\"img/test.jpg\")\n",
    "plt.imshow(cv2.cvtColor(img, cv2.COLOR_RGB2BGR))"
   ]
  },
  {
   "cell_type": "code",
   "execution_count": null,
   "metadata": {},
   "outputs": [],
   "source": [
    "corners, a_image = vision_processor.visualize_aruco(img)\n",
    "corners\n",
    "plt.imshow(cv2.cvtColor(a_image, cv2.COLOR_RGB2BGR))"
   ]
  },
  {
   "cell_type": "markdown",
   "metadata": {},
   "source": [
    "#### Perspective Projection\n",
    "[TODO]"
   ]
  },
  {
   "cell_type": "code",
   "execution_count": null,
   "metadata": {},
   "outputs": [],
   "source": [
    "M = VisionProcessor.align_field(corners)\n",
    "warped = VisionProcessor.warp(img, M)\n",
    "plt.imshow(cv2.cvtColor(warped, cv2.COLOR_RGB2BGR))\n"
   ]
  },
  {
   "cell_type": "code",
   "execution_count": null,
   "metadata": {},
   "outputs": [],
   "source": [
    "# import numpy as np\n",
    "# import cv2\n",
    "\n",
    "# cap = cv2.VideoCapture(3)\n",
    "\n",
    "# # fourcc = cv2.VideoWriter_fourcc(*'XVID')\n",
    "# # out = cv2.VideoWriter('output.avi', fourcc, 20.0, (640,480))\n",
    "\n",
    "# while(cap.isOpened()):\n",
    "#     ret, frame = cap.read()\n",
    "#     if ret==True:\n",
    "# #         frame = cv2.flip(frame,0)\n",
    "\n",
    "#         image=resize_image(frame,80)\n",
    "# #         image=align_field(image)\n",
    "# #         out.write(frame)\n",
    "\n",
    "#         cv2.imshow('frame',image)\n",
    "#         if cv2.waitKey(1) & 0xFF == ord('q'):\n",
    "#             break\n",
    "#     else:\n",
    "#         break\n",
    "# cap.release()\n",
    "\n",
    "# # out.release()\n",
    "\n",
    "# cv2.destroyAllWindows()"
   ]
  },
  {
   "cell_type": "markdown",
   "metadata": {},
   "source": [
    "#### Box Detection"
   ]
  },
  {
   "cell_type": "markdown",
   "metadata": {},
   "source": [
    "#### Ball Detection"
   ]
  },
  {
   "cell_type": "code",
   "execution_count": null,
   "metadata": {},
   "outputs": [],
   "source": []
  },
  {
   "cell_type": "markdown",
   "metadata": {},
   "source": [
    "### Detect Objects"
   ]
  },
  {
   "cell_type": "markdown",
   "metadata": {},
   "source": [
    "#### The Field"
   ]
  },
  {
   "cell_type": "code",
   "execution_count": null,
   "metadata": {},
   "outputs": [],
   "source": []
  },
  {
   "cell_type": "markdown",
   "metadata": {},
   "source": [
    "#### The obstacles"
   ]
  },
  {
   "cell_type": "code",
   "execution_count": null,
   "metadata": {},
   "outputs": [],
   "source": []
  },
  {
   "cell_type": "markdown",
   "metadata": {},
   "source": [
    "#### The ball"
   ]
  },
  {
   "cell_type": "code",
   "execution_count": null,
   "metadata": {},
   "outputs": [],
   "source": []
  },
  {
   "cell_type": "markdown",
   "metadata": {},
   "source": [
    "#### Thymio"
   ]
  },
  {
   "cell_type": "code",
   "execution_count": null,
   "metadata": {},
   "outputs": [],
   "source": []
  },
  {
   "cell_type": "markdown",
   "metadata": {},
   "source": [
    "## Global Navigation\n",
    "This module aims to plan a path from the start to the goal.\n",
    "The result will be represented in form of a list of Waypoints."
   ]
  },
  {
   "cell_type": "code",
   "execution_count": null,
   "metadata": {},
   "outputs": [],
   "source": [
    "###\n",
    "h, w = 40, 30\n",
    "pStart = Pos(0,0)\n",
    "pBall = Pos(h-1, w-1)\n",
    "rmap = GridMap(h, w, 0.01)\n",
    "rmap.set_start(pStart)\n",
    "obslist = [Pos(random.randint(10,h-11),random.randint(10,w-11)) for _ in range(3)]\n",
    "rmap.set_obs(obslist)\n",
    "\n",
    "Goal_state = State(Pos(h-1,w-1), 1.57)\n",
    "###\n",
    "\n",
    "obsmap = [[int(val) for val in li] for li in rmap.obs_map]\n",
    "obsmap[pStart.x][pStart.y] = 0.3\n",
    "obsmap[pBall.x][pBall.y] = 0.7\n",
    "plt.imshow(obsmap)"
   ]
  },
  {
   "cell_type": "markdown",
   "metadata": {},
   "source": [
    "### Pre-Processing\n",
    "#### Enlarge the obstacles\n",
    "After getting the environment map, we need to enlarge the obstacles to make sure every point is safe for thymio."
   ]
  },
  {
   "cell_type": "code",
   "execution_count": null,
   "metadata": {},
   "outputs": [],
   "source": [
    "from global_navigation import *\n",
    "planner =  PathPlanner(rmap, path_simplification=False)\n",
    "plt.imshow(planner.obs) # has auto enlarged the obs when load the map"
   ]
  },
  {
   "cell_type": "markdown",
   "metadata": {},
   "source": [
    "#### Caculate the actual position\n",
    "The goal position represent where that the head of thmio will reach; We need to calculate the actual center position of thymio for the goal."
   ]
  },
  {
   "cell_type": "code",
   "execution_count": null,
   "metadata": {},
   "outputs": [],
   "source": [
    "pGoal1 = planner.approach(pBall)\n",
    "planner.set_goal(pGoal1)\n",
    "print(\"Goal State:\",pGoal1)\n",
    "import copy\n",
    "obs = copy.deepcopy(planner.obs)\n",
    "obs[pStart.x][pStart.y] = 0.3\n",
    "obs[pBall.x][pBall.y] = 0.7\n",
    "obs[pGoal1.pos.x][pGoal1.pos.y] = 0.5\n",
    "plt.imshow(obs)"
   ]
  },
  {
   "cell_type": "markdown",
   "metadata": {},
   "source": [
    "### Path Planning\n",
    "We implemented two ways of path planning, namely, A* and RRT.\n",
    "A* is an optimal path planning algorithm.\n",
    "RRT is usually applied for high-dimension path planning. For our project, if we get a quite large grid map, the computational cost will be high, and RRT can boost up the speed. We should note that, it's not a optimal algorithms."
   ]
  },
  {
   "cell_type": "code",
   "execution_count": null,
   "metadata": {},
   "outputs": [],
   "source": [
    "# the result of A*\n",
    "# points in the same direction have been deleted\n",
    "planner.method = \"A*\"\n",
    "planner.neighbor = 8\n",
    "apath = planner.plan()\n",
    "nobs = copy.deepcopy(obs)\n",
    "for p in apath:\n",
    "    nobs[p.x][p.y] = 0.9\n",
    "plt.imshow(nobs)"
   ]
  },
  {
   "cell_type": "code",
   "execution_count": null,
   "metadata": {},
   "outputs": [],
   "source": [
    "# the result of RRT\n",
    "planner.method = \"RRT\"\n",
    "rrtpath = planner.plan()\n",
    "nobs = copy.deepcopy(obs)\n",
    "for p in rrtpath:\n",
    "    nobs[p.x][p.y] = 0.9\n",
    "plt.imshow(nobs)"
   ]
  },
  {
   "cell_type": "markdown",
   "metadata": {},
   "source": [
    "### Post-Processing\n",
    "#### Collect waypoints in same direction\n",
    "The waypoints in same direction just have the same effect for path tracking, so we try to elimate some redandent points."
   ]
  },
  {
   "cell_type": "code",
   "execution_count": null,
   "metadata": {},
   "outputs": [],
   "source": [
    "apath = planner.collect_wps(apath)\n",
    "nobs = copy.deepcopy(obs)\n",
    "for p in apath:\n",
    "    nobs[p.x][p.y] = 0.9\n",
    "plt.imshow(nobs)"
   ]
  },
  {
   "cell_type": "markdown",
   "metadata": {},
   "source": [
    "#### Shrink the waypoints\n",
    "Try to connect the grandparent to grandchild directly."
   ]
  },
  {
   "cell_type": "code",
   "execution_count": null,
   "metadata": {},
   "outputs": [],
   "source": [
    "apath = planner.path_simplification(apath)\n",
    "nobs = copy.deepcopy(obs)\n",
    "for p in apath:\n",
    "    nobs[p.x][p.y] = 0.9\n",
    "plt.imshow(nobs)"
   ]
  },
  {
   "cell_type": "markdown",
   "metadata": {},
   "source": [
    "#### Assign Orientation\n"
   ]
  },
  {
   "cell_type": "code",
   "execution_count": null,
   "metadata": {},
   "outputs": [],
   "source": [
    "Global_path = planner.assign_ori(apath)\n",
    "for s in Global_path:\n",
    "    print(s)"
   ]
  },
  {
   "cell_type": "code",
   "execution_count": null,
   "metadata": {},
   "outputs": [],
   "source": []
  },
  {
   "cell_type": "markdown",
   "metadata": {},
   "source": [
    "## Local Navigation\n"
   ]
  },
  {
   "cell_type": "markdown",
   "metadata": {},
   "source": [
    "## Filtering\n",
    "### Overview\n",
    "The goal of the filtering module is to integrate (if available) the measurements (in our case, the vision output) with the information from the motor encoders to estimate a reasonable state for Thymio. To this end, we use Extended Kalman Filter (EKF) technique in our project. Compared to the regular Kalman Filter, Extended Kalman Filter is the nonlinear version of the Kalman filter which utilizes first (or second) order derivative to do the approximation.\n",
    "\n",
    "## Robot States\n",
    "\n",
    "The state of Thymio is represented as $$\\mu_t = [x_t, y_t, \\theta_t]^T$$ as shown in the figure below, corresponding to the x, y, and orientation of the robot as shown in the figure below.\n",
    "<center><img src=\"Notebook_figures/robot_state.png\" alt=\"\" style=\"width: 800px;\"/></center>\n",
    "Where we denote the displacement in distance as D and displacement in orientation as T (for the sake of simplicity we omit the indices).\n",
    "\n",
    "## State Space Representation of EKF\n",
    "### Action and Measurement Model\n",
    "The action and measurement model of EKF is shown below, where $f$ and $h$ are two nonlinear functions.\n",
    "\\begin{array}{l}\\boldsymbol{x}_{t}=f\\left(\\boldsymbol{x}_{t-1}, \\boldsymbol{u}_{t}\\right)+\\boldsymbol{w}_{t} \\\\\\boldsymbol{z}_{t}=h\\left(\\boldsymbol{x}_{t}\\right)+\\boldsymbol{v}_{t}\\end{array}\n",
    "\n",
    "The prediction stage of EKF is described as:\n",
    "$$\\hat{\\boldsymbol{x}}_{t \\mid t-1}=f\\left(\\hat{\\boldsymbol{x}}_{t-1 \\mid t-1}, \\boldsymbol{u}_{t}\\right)$$\n",
    "\n",
    "\n",
    "where the input of the system is a vector consisting of two encoder displacements of Thymio left/right wheels represented as $u_t = [\\Delta S_r,\\Delta S_l ]^T$\n",
    "<center><img src=\"Notebook_figures/turning.png\" alt=\"\" style=\"width: 300px;\"/></center>"
   ]
  },
  {
   "cell_type": "code",
   "execution_count": null,
   "metadata": {},
   "outputs": [],
   "source": [
    "import filtering\n",
    "# Motor Calibration"
   ]
  },
  {
   "cell_type": "code",
   "execution_count": null,
   "metadata": {},
   "outputs": [],
   "source": []
  },
  {
   "cell_type": "code",
   "execution_count": null,
   "metadata": {},
   "outputs": [],
   "source": [
    "pre_state = np.array([0.0, 0.0, 0]).reshape(-1, 1) # initial state\n",
    "pre_cov = np.ones([3, 3]) * 0.03 # initial covariance\n",
    "G_filter = filtering.KF(pre_state, pre_cov, qx=0.1, qy=0.1, qtheta=0.3, rl=0.1, rr=0.1, b=0.0927)\n",
    "G_filter.timer = time.time()"
   ]
  },
  {
   "cell_type": "code",
   "execution_count": null,
   "metadata": {},
   "outputs": [],
   "source": [
    "G_filter.states"
   ]
  },
  {
   "cell_type": "markdown",
   "metadata": {},
   "source": [
    "## Motion Control\n",
    "Actuator."
   ]
  },
  {
   "cell_type": "code",
   "execution_count": null,
   "metadata": {},
   "outputs": [],
   "source": [
    "from Thymio import Thymio\n",
    "import motion_control\n",
    "\n",
    "THYMIO_PORT = \"COM6\"\n",
    "THYMIO_REFRESH_RATE = 1.0\n",
    "G_verbose = True\n",
    "S_camera_interval = 1000 #ms\n",
    "S_motion_interval = 10 #ms\n",
    "S_track_interval = 0.04 #s\n",
    "\n",
    "S_epsilon_dis = 0.005\n",
    "S_epsilon_theta = 0.1\n",
    "\n",
    "G_mc = motion_control.MotionController(\n",
    "    Thymio.serial(port=THYMIO_PORT, refreshing_rate=THYMIO_REFRESH_RATE), \n",
    "    S_motion_interval, eps_delta_r=S_epsilon_dis, eps_delta_theta=S_epsilon_theta, \n",
    "    max_speed=50,\n",
    "    verbose=G_verbose)"
   ]
  },
  {
   "cell_type": "code",
   "execution_count": null,
   "metadata": {},
   "outputs": [],
   "source": [
    "#G_camera_timer = time.time()\n",
    "G_track_timer = time.time()\n",
    "G_mc.get_displacement()\n",
    "\n",
    "def localizate():\n",
    "    \"\"\"Track Where Thymio is\"\"\"\n",
    "    global G_camera_timer\n",
    "    starter = G_filter.timer\n",
    "    # 3. Localization \n",
    "    # 3.1 odometer\n",
    "    dsl, dsr = G_mc.get_displacement()\n",
    "    # 3.2 With Vision\n",
    "        # if starter - G_camera_timer > S_camera_interval:\n",
    "        #     vision_thymio_state = G_vision._getThymio()\n",
    "        #     # Vision Failed\n",
    "        #     if vision_thymio_state is None:\n",
    "        #         G_filter.kalman_filter(dsr, dsl)\n",
    "        #     else:\n",
    "        #         G_camera_timer = starter\n",
    "        #         G_filter.kalman_filter(dsr, dsl, vision_thymio_state)\n",
    "        # else:        \n",
    "        #     G_filter.kalman_filter(dsr, dsl)\n",
    "    G_filter.kalman_filter(dsr, dsl)\n",
    "    thymio_state = G_filter.get_state()\n",
    "    return thymio_state\n",
    "\n",
    "print(localizate())"
   ]
  },
  {
   "cell_type": "code",
   "execution_count": null,
   "metadata": {},
   "outputs": [],
   "source": [
    "def reset():\n",
    "    G_filter.states = [np.array([0.0, 0.0, 0]).reshape(-1, 1)] # initial state\n",
    "    G_filter.covs = [np.ones([3, 3]) * 0.03]    \n",
    "    G_track_timer = time.time()\n",
    "    G_mc.get_displacement()\n",
    "    print(localizate())\n",
    "   \n",
    "reset() \n",
    "## Fake Waypoints\n",
    "Global_path = [State(Pos(0.0,0.1),0), State(Pos(0.1, 0.1),0.0), State(Pos(0.2,0.2),0)]\n",
    "Goal_state = Global_path[-1]"
   ]
  },
  {
   "cell_type": "code",
   "execution_count": null,
   "metadata": {},
   "outputs": [],
   "source": [
    "G_mc.stop()"
   ]
  },
  {
   "cell_type": "code",
   "execution_count": null,
   "metadata": {},
   "outputs": [],
   "source": [
    "for s in Global_path:\n",
    "    print(s)\n",
    "print(\"Goal\",Goal_state)"
   ]
  },
  {
   "cell_type": "code",
   "execution_count": null,
   "metadata": {},
   "outputs": [],
   "source": [
    "debug_timer = 0.0\n",
    "while True:\n",
    "    starter = time.time()\n",
    "    # 3. Localization\n",
    "    Thymio_state = localizate()\n",
    "    # 2.2.1 Finished?\n",
    "    if Thymio_state.dis(Goal_state) < S_epsilon_dis \\\n",
    "        and abs(Thymio_state.ori - Goal_state.ori) < S_epsilon_theta:\n",
    "        G_mc.stop()\n",
    "        if G_verbose:\n",
    "            print(\"Terminate Reached!\")\n",
    "        break\n",
    "    # 2.2.2 Is there obstacles on the front?\n",
    "    # if G_mc.obs_front():\n",
    "    #     G_mc.avoid() # do local navigation for, like, 10ms\n",
    "    #     # TODO: replan\n",
    "    # else:\n",
    "    if starter - G_track_timer > S_track_interval:\n",
    "        # 4. Follow the path    # <-- The only task can run under low frequency\n",
    "        reached = G_mc.path_tracking(Global_path[0], Thymio_state, len(Global_path) == 1)\n",
    "        if reached:\n",
    "            print(Global_path[0],\"reached\")\n",
    "            Global_path = Global_path[1:]\n",
    "            # assume Global_path is not empty because of 2.2.1\n",
    "        G_track_timer = starter\n",
    "    loop_time = time.time() - starter\n",
    "    if starter - debug_timer > S_track_interval:\n",
    "        debug_timer = starter\n",
    "        print(F\"thymio: {Thymio_state}\")"
   ]
  },
  {
   "cell_type": "markdown",
   "metadata": {},
   "source": [
    "End of the test"
   ]
  },
  {
   "cell_type": "code",
   "execution_count": null,
   "metadata": {},
   "outputs": [],
   "source": [
    "\n",
    "G_camera_timer = time.time()\n",
    "G_track_timer = time.time()\n",
    "\n",
    "def localizate():\n",
    "    \"\"\"Track Where Thymio is\"\"\"\n",
    "    global G_camera_timer\n",
    "    starter = G_filter.timer\n",
    "    # 3. Localization \n",
    "    # 3.1 odometer\n",
    "    dsl, dsr = G_mc.get_displacement()\n",
    "    # 3.2 With Vision\n",
    "    # if starter - G_camera_timer > S_camera_interval:\n",
    "    #     vision_thymio_state = G_vision._getThymio()\n",
    "    #     # Vision Failed\n",
    "    #     if vision_thymio_state is None:\n",
    "    #         G_filter.kalman_filter(dsr, dsl)\n",
    "    #     else:\n",
    "    #         G_camera_timer = starter\n",
    "    #         G_filter.kalman_filter(dsr, dsl, vision_thymio_state)\n",
    "    # else:        \n",
    "    G_filter.kalman_filter(dsr, dsl)\n",
    "    \n",
    "    thymio_state = G_filter.get_state()\n",
    "    return thymio_state\n"
   ]
  },
  {
   "cell_type": "code",
   "execution_count": null,
   "metadata": {},
   "outputs": [
    {
     "name": "stdout",
     "output_type": "stream",
     "text": [
      "(0.34, 0.58, 0.09966865249116202)\n",
      "(0.44, 0.59, 0.6435011087932844)\n",
      "(0.48, 0.62, 1.1071487177940904)\n",
      "(0.49, 0.64, 1.5707963267948966)\n",
      "(0.49, 0.8, 0.0)\n",
      "(0.5700000000000001, 0.8, 0.0)\n"
     ]
    }
   ],
   "source": [
    "Global_path = planner.assign_ori(apath)\n",
    "for s in Global_path:\n",
    "    print(s)"
   ]
  },
  {
   "cell_type": "code",
   "execution_count": null,
   "metadata": {},
   "outputs": [
    {
     "name": "stderr",
     "output_type": "stream",
     "text": [
      "Exception in thread Thread-6:\n",
      "Traceback (most recent call last):\n",
      "  File \"C:\\Users\\liche\\Anaconda3\\envs\\cs231n\\lib\\threading.py\", line 917, in _bootstrap_inner\n",
      "    self.run()\n",
      "  File \"C:\\Users\\liche\\Anaconda3\\envs\\cs231n\\lib\\threading.py\", line 865, in run\n",
      "    self._target(*self._args, **self._kwargs)\n",
      "  File \"e:\\02 EPFL Study\\Semester I\\Basics_of_Mobile\\Mobile_Soccer\\Thymio.py\", line 343, in do_refresh\n",
      "    self.get_variables()\n",
      "  File \"e:\\02 EPFL Study\\Semester I\\Basics_of_Mobile\\Mobile_Soccer\\Thymio.py\", line 505, in get_variables\n",
      "    self.send(msg)\n",
      "  File \"e:\\02 EPFL Study\\Semester I\\Basics_of_Mobile\\Mobile_Soccer\\Thymio.py\", line 462, in send\n",
      "    self.io.write(msg.serialize())\n",
      "  File \"C:\\Users\\liche\\Anaconda3\\envs\\cs231n\\lib\\site-packages\\serial\\serialwin32.py\", line 325, in write\n",
      "    raise SerialTimeoutException('Write timeout')\n",
      "serial.serialutil.SerialTimeoutException: Write timeout\n",
      "\n"
     ]
    }
   ],
   "source": [
    "G_mc.stop()"
   ]
  },
  {
   "cell_type": "code",
   "execution_count": null,
   "metadata": {},
   "outputs": [
    {
     "name": "stdout",
     "output_type": "stream",
     "text": [
      "(0.02648863562980498, 0.00027085539944533344, 0.02044997438307729)\n",
      "(0.026931523762478923, 0.00027993616495441395, 0.020551319891406634)\n",
      "(0.05653578335562734, 0.0009887644479592078, 0.027380657580591477)\n",
      "(0.08597874474167472, 0.00204478053563323, 0.04425928611909203)\n",
      "(0.1168268966953977, 0.0032016677791516625, 0.030710866720444815)\n",
      "(0.14832634036627873, 0.004274309571998848, 0.037428486770199214)\n",
      "(0.17936223805794194, 0.00517866908309258, 0.020657832891710623)\n",
      "(0.21087238442471054, 0.006025465568419579, 0.03364080963596238)\n",
      "(0.2420534246003456, 0.007185573294883589, 0.040579351878936486)\n",
      "(0.27353619489867664, 0.008670042952756642, 0.05389050433712865)\n",
      "(0.3051457422521907, 0.010540692536114614, 0.06419569223158003)\n",
      "(0.3362747784769234, 0.012843890816730964, 0.08401173268594987)\n",
      "(0.36777432959713124, 0.015771054726437268, 0.10112796087418818)\n",
      "(0.39854046961456857, 0.018924523143616777, 0.102174416357471)\n",
      "(0.42894461441374404, 0.022220836524212573, 0.11473844912744521)\n",
      "(0.4601611278886521, 0.025851750843162213, 0.11583687105486674)\n",
      "(0.49028181386783026, 0.029530314620855733, 0.12827400269047096)\n",
      "(0.5215527144738049, 0.03364626838706272, 0.13259952618229864)\n",
      "(0.5518481829523032, 0.03748752840117278, 0.11772622369950819)\n",
      "(0.5813229956728126, 0.041164434904467355, 0.1340794905539479)\n",
      "(0.6109797051877455, 0.04491034661944771, 0.11241673592597982)\n",
      "(0.6415191402361012, 0.048586855096188285, 0.13292529136903736)\n",
      "(0.6729354006854752, 0.05297665564914039, 0.14238155457281249)\n",
      "(0.7045607886915899, 0.05766046651046878, 0.1520829268040201)\n",
      "(0.7357383035502332, 0.06264034134169191, 0.16513990148420493)\n",
      "(0.7660828058363153, 0.06809801199448738, 0.19304624780531046)\n",
      "(0.7959425444055508, 0.07418790823098544, 0.20656021806500743)\n",
      "(0.8261802874764954, 0.08068526008252946, 0.21672460209937994)\n",
      "(0.8565498833021815, 0.08771676467776647, 0.24079619938326974)\n",
      "(0.887749414263528, 0.09583073244031154, 0.2679092860221703)\n",
      "(0.9177910692458272, 0.10415527059055087, 0.2675324200814598)\n",
      "(0.9469813405621916, 0.112152235205129, 0.2688947135786664)\n",
      "(0.9765696242218137, 0.12039369296578731, 0.2749512225197003)\n",
      "(1.0063793838221595, 0.12887931077304332, 0.27910154227285366)\n",
      "(1.0359723578063855, 0.13741429863746368, 0.28248992062381784)\n",
      "(1.0645505588575184, 0.14582074250344457, 0.29100256296894056)\n",
      "(1.0931844464669223, 0.15455620621956997, 0.30116830610458184)\n",
      "(1.122716756899443, 0.16401422514482766, 0.321221508518322)\n",
      "(1.152494677327027, 0.17422707139745974, 0.337541992202861)\n",
      "(1.1812099572782198, 0.18475382188287484, 0.37084160443273667)\n",
      "(1.209063538843218, 0.19626907264191656, 0.41393656634513926)\n",
      "(1.2363947849161114, 0.2088881013375962, 0.44836817829838044)\n",
      "(1.2640525034868888, 0.2225758685452081, 0.4670364621762143)\n",
      "(1.2919148816865473, 0.23683524051694504, 0.47827106456601376)\n",
      "(1.3196816344440807, 0.251409507519703, 0.48843782521062085)\n",
      "(1.346438690904715, 0.26565183704252704, 0.48522850744184703)\n",
      "(1.3737111784960168, 0.28000437543536233, 0.4882487357047175)\n",
      "(1.4012014706185867, 0.2946365095527258, 0.4853330080355241)\n",
      "(1.428939050760339, 0.3092534491460244, 0.4901546769757303)\n",
      "(1.4560430800724442, 0.3241307642504376, 0.5204533516206952)\n",
      "(1.482698325154915, 0.3400742877053707, 0.5550016306677097)\n",
      "(1.5090574159040033, 0.3568685905214375, 0.5754844730130979)\n",
      "(1.5342533062111967, 0.37366110692646115, 0.6089041076936826)\n",
      "(1.5566453186829385, 0.3904312919550798, 0.6954217663118679)\n",
      "(1.5782717755758198, 0.4100317846703428, 0.7477600994802088)\n",
      "(1.6004988588338236, 0.43071513072625595, 0.7511504708566832)\n",
      "(1.622325315200411, 0.45124657297668924, 0.7618595532832491)\n",
      "(1.6439149232749917, 0.4721950495640461, 0.7787951744371752)\n",
      "(1.6660487440130098, 0.4942503831422797, 0.781632251893311)\n",
      "(1.6887509349201097, 0.5166520285084873, 0.7800615128009429)\n",
      "(1.7108686355200455, 0.5386464236197136, 0.7834676870607427)\n",
      "(1.7326942016593427, 0.5603709078772751, 0.7818389225005933)\n",
      "(1.7547428385073207, 0.5822224848142534, 0.7816717756563453)\n",
      "(1.7769042906856285, 0.604310063933866, 0.7866348016261911)\n",
      "(1.7989475673030835, 0.6265899701211656, 0.7964947978527159)\n",
      "(1.8208620224153067, 0.6493175519389199, 0.8115433969420597)\n",
      "(1.8424065739263413, 0.6722763799638132, 0.8153165931470789)\n",
      "(1.8641993517739652, 0.695185383490543, 0.8104203981353264)\n",
      "(1.8860434231328094, 0.7183194443982781, 0.8185902885467673)\n",
      "(1.9072080739564905, 0.7411190013533768, 0.823310664469186)\n",
      "(1.9282347427154212, 0.763762394683805, 0.8239163932107967)\n"
     ]
    },
    {
     "ename": "KeyboardInterrupt",
     "evalue": "",
     "output_type": "error",
     "traceback": [
      "\u001b[1;31m---------------------------------------------------------------------------\u001b[0m",
      "\u001b[1;31mKeyboardInterrupt\u001b[0m                         Traceback (most recent call last)",
      "\u001b[1;32m<ipython-input-54-932e7369c1b9>\u001b[0m in \u001b[0;36m<module>\u001b[1;34m\u001b[0m\n\u001b[0;32m     13\u001b[0m     \u001b[1;31m# 2.2.2 Is there obstacles on the front?\u001b[0m\u001b[1;33m\u001b[0m\u001b[1;33m\u001b[0m\u001b[1;33m\u001b[0m\u001b[0m\n\u001b[0;32m     14\u001b[0m     \u001b[1;32mif\u001b[0m \u001b[0mG_mc\u001b[0m\u001b[1;33m.\u001b[0m\u001b[0mobs_front\u001b[0m\u001b[1;33m(\u001b[0m\u001b[1;33m)\u001b[0m\u001b[1;33m:\u001b[0m\u001b[1;33m\u001b[0m\u001b[1;33m\u001b[0m\u001b[0m\n\u001b[1;32m---> 15\u001b[1;33m         \u001b[0mG_mc\u001b[0m\u001b[1;33m.\u001b[0m\u001b[0mavoid\u001b[0m\u001b[1;33m(\u001b[0m\u001b[1;33m)\u001b[0m \u001b[1;31m# do local navigation for, like, 10ms\u001b[0m\u001b[1;33m\u001b[0m\u001b[1;33m\u001b[0m\u001b[0m\n\u001b[0m\u001b[0;32m     16\u001b[0m         \u001b[1;31m# TODO: replan\u001b[0m\u001b[1;33m\u001b[0m\u001b[1;33m\u001b[0m\u001b[1;33m\u001b[0m\u001b[0m\n\u001b[0;32m     17\u001b[0m     \u001b[1;32melse\u001b[0m\u001b[1;33m:\u001b[0m\u001b[1;33m\u001b[0m\u001b[1;33m\u001b[0m\u001b[0m\n",
      "\u001b[1;32me:\\02 EPFL Study\\Semester I\\Basics_of_Mobile\\Mobile_Soccer\\motion_control.py\u001b[0m in \u001b[0;36mavoid\u001b[1;34m(self)\u001b[0m\n\u001b[0;32m     64\u001b[0m             \u001b[0mspeed_left\u001b[0m \u001b[1;33m=\u001b[0m \u001b[0mself\u001b[0m\u001b[1;33m.\u001b[0m\u001b[0mmax_speed\u001b[0m \u001b[1;33m+\u001b[0m \u001b[0mself\u001b[0m\u001b[1;33m.\u001b[0m\u001b[0mobstSpeedGain\u001b[0m \u001b[1;33m*\u001b[0m \u001b[1;33m(\u001b[0m\u001b[0mobst\u001b[0m\u001b[1;33m[\u001b[0m\u001b[1;36m0\u001b[0m\u001b[1;33m]\u001b[0m \u001b[1;33m/\u001b[0m \u001b[1;36m100\u001b[0m\u001b[1;33m)\u001b[0m\u001b[1;33m\u001b[0m\u001b[1;33m\u001b[0m\u001b[0m\n\u001b[0;32m     65\u001b[0m             \u001b[0mspeed_right\u001b[0m \u001b[1;33m=\u001b[0m \u001b[0mself\u001b[0m\u001b[1;33m.\u001b[0m\u001b[0mmax_speed\u001b[0m \u001b[1;33m+\u001b[0m \u001b[0mself\u001b[0m\u001b[1;33m.\u001b[0m\u001b[0mobstSpeedGain\u001b[0m \u001b[1;33m*\u001b[0m \u001b[1;33m(\u001b[0m\u001b[0mobst\u001b[0m\u001b[1;33m[\u001b[0m\u001b[1;36m1\u001b[0m\u001b[1;33m]\u001b[0m \u001b[1;33m/\u001b[0m \u001b[1;36m100\u001b[0m\u001b[1;33m)\u001b[0m\u001b[1;33m\u001b[0m\u001b[1;33m\u001b[0m\u001b[0m\n\u001b[1;32m---> 66\u001b[1;33m             \u001b[0mself\u001b[0m\u001b[1;33m.\u001b[0m\u001b[0m_set_motor\u001b[0m\u001b[1;33m(\u001b[0m\u001b[0mspeed_left\u001b[0m\u001b[1;33m,\u001b[0m \u001b[0mspeed_right\u001b[0m\u001b[1;33m)\u001b[0m\u001b[1;33m\u001b[0m\u001b[1;33m\u001b[0m\u001b[0m\n\u001b[0m\u001b[0;32m     67\u001b[0m         \u001b[1;31m#if proximity sensors not found\u001b[0m\u001b[1;33m\u001b[0m\u001b[1;33m\u001b[0m\u001b[1;33m\u001b[0m\u001b[0m\n\u001b[0;32m     68\u001b[0m         \u001b[1;32mexcept\u001b[0m \u001b[0mKeyError\u001b[0m\u001b[1;33m:\u001b[0m\u001b[1;33m\u001b[0m\u001b[1;33m\u001b[0m\u001b[0m\n",
      "\u001b[1;32me:\\02 EPFL Study\\Semester I\\Basics_of_Mobile\\Mobile_Soccer\\motion_control.py\u001b[0m in \u001b[0;36m_set_motor\u001b[1;34m(self, ls, rs)\u001b[0m\n\u001b[0;32m    160\u001b[0m         \u001b[0mself\u001b[0m\u001b[1;33m.\u001b[0m\u001b[0mupdate_displacement\u001b[0m\u001b[1;33m(\u001b[0m\u001b[1;33m)\u001b[0m\u001b[1;33m\u001b[0m\u001b[1;33m\u001b[0m\u001b[0m\n\u001b[0;32m    161\u001b[0m         \u001b[1;31m#logger.info(l_speed)\u001b[0m\u001b[1;33m\u001b[0m\u001b[1;33m\u001b[0m\u001b[1;33m\u001b[0m\u001b[0m\n\u001b[1;32m--> 162\u001b[1;33m         \u001b[0mself\u001b[0m\u001b[1;33m.\u001b[0m\u001b[0mthymio\u001b[0m\u001b[1;33m.\u001b[0m\u001b[0mset_var\u001b[0m\u001b[1;33m(\u001b[0m\u001b[1;34m\"motor.left.target\"\u001b[0m\u001b[1;33m,\u001b[0m \u001b[0ml_speed\u001b[0m\u001b[1;33m)\u001b[0m\u001b[1;33m\u001b[0m\u001b[1;33m\u001b[0m\u001b[0m\n\u001b[0m\u001b[0;32m    163\u001b[0m         \u001b[0mself\u001b[0m\u001b[1;33m.\u001b[0m\u001b[0mthymio\u001b[0m\u001b[1;33m.\u001b[0m\u001b[0mset_var\u001b[0m\u001b[1;33m(\u001b[0m\u001b[1;34m\"motor.right.target\"\u001b[0m\u001b[1;33m,\u001b[0m \u001b[0mr_speed\u001b[0m\u001b[1;33m)\u001b[0m\u001b[1;33m\u001b[0m\u001b[1;33m\u001b[0m\u001b[0m\n\u001b[0;32m    164\u001b[0m \u001b[1;33m\u001b[0m\u001b[0m\n",
      "\u001b[1;32me:\\02 EPFL Study\\Semester I\\Basics_of_Mobile\\Mobile_Soccer\\Thymio.py\u001b[0m in \u001b[0;36mset_var\u001b[1;34m(self, name, val, index)\u001b[0m\n\u001b[0;32m    545\u001b[0m             \u001b[0mself\u001b[0m\u001b[1;33m.\u001b[0m\u001b[0mremote_node\u001b[0m\u001b[1;33m.\u001b[0m\u001b[0mset_var\u001b[0m\u001b[1;33m(\u001b[0m\u001b[0mname\u001b[0m\u001b[1;33m,\u001b[0m \u001b[0mval\u001b[0m\u001b[1;33m,\u001b[0m \u001b[0mindex\u001b[0m\u001b[1;33m)\u001b[0m\u001b[1;33m\u001b[0m\u001b[1;33m\u001b[0m\u001b[0m\n\u001b[0;32m    546\u001b[0m         self.set_variables(self.remote_node.var_offset[name] + index,\n\u001b[1;32m--> 547\u001b[1;33m                            [val])\n\u001b[0m\u001b[0;32m    548\u001b[0m \u001b[1;33m\u001b[0m\u001b[0m\n\u001b[0;32m    549\u001b[0m     \u001b[1;32mdef\u001b[0m \u001b[0mset_var_array\u001b[0m\u001b[1;33m(\u001b[0m\u001b[0mself\u001b[0m\u001b[1;33m,\u001b[0m \u001b[0mname\u001b[0m\u001b[1;33m,\u001b[0m \u001b[0mval\u001b[0m\u001b[1;33m)\u001b[0m\u001b[1;33m:\u001b[0m\u001b[1;33m\u001b[0m\u001b[1;33m\u001b[0m\u001b[0m\n",
      "\u001b[1;32me:\\02 EPFL Study\\Semester I\\Basics_of_Mobile\\Mobile_Soccer\\Thymio.py\u001b[0m in \u001b[0;36mset_variables\u001b[1;34m(self, chunk_offset, chunk, target_node_id)\u001b[0m\n\u001b[0;32m    513\u001b[0m                                                ] + chunk)\n\u001b[0;32m    514\u001b[0m         \u001b[0mmsg\u001b[0m \u001b[1;33m=\u001b[0m \u001b[0mMessage\u001b[0m\u001b[1;33m(\u001b[0m\u001b[0mMessage\u001b[0m\u001b[1;33m.\u001b[0m\u001b[0mID_SET_VARIABLES\u001b[0m\u001b[1;33m,\u001b[0m \u001b[0mself\u001b[0m\u001b[1;33m.\u001b[0m\u001b[0mnode_id\u001b[0m\u001b[1;33m,\u001b[0m \u001b[0mpayload\u001b[0m\u001b[1;33m)\u001b[0m\u001b[1;33m\u001b[0m\u001b[1;33m\u001b[0m\u001b[0m\n\u001b[1;32m--> 515\u001b[1;33m         \u001b[0mself\u001b[0m\u001b[1;33m.\u001b[0m\u001b[0msend\u001b[0m\u001b[1;33m(\u001b[0m\u001b[0mmsg\u001b[0m\u001b[1;33m)\u001b[0m\u001b[1;33m\u001b[0m\u001b[1;33m\u001b[0m\u001b[0m\n\u001b[0m\u001b[0;32m    516\u001b[0m \u001b[1;33m\u001b[0m\u001b[0m\n\u001b[0;32m    517\u001b[0m     \u001b[1;32mdef\u001b[0m \u001b[0mvariable_description\u001b[0m\u001b[1;33m(\u001b[0m\u001b[0mself\u001b[0m\u001b[1;33m)\u001b[0m\u001b[1;33m:\u001b[0m\u001b[1;33m\u001b[0m\u001b[1;33m\u001b[0m\u001b[0m\n",
      "\u001b[1;32me:\\02 EPFL Study\\Semester I\\Basics_of_Mobile\\Mobile_Soccer\\Thymio.py\u001b[0m in \u001b[0;36msend\u001b[1;34m(self, msg)\u001b[0m\n\u001b[0;32m    460\u001b[0m         \"\"\"\n\u001b[0;32m    461\u001b[0m         \u001b[1;32mwith\u001b[0m \u001b[0mself\u001b[0m\u001b[1;33m.\u001b[0m\u001b[0moutput_lock\u001b[0m\u001b[1;33m:\u001b[0m\u001b[1;33m\u001b[0m\u001b[1;33m\u001b[0m\u001b[0m\n\u001b[1;32m--> 462\u001b[1;33m             \u001b[0mself\u001b[0m\u001b[1;33m.\u001b[0m\u001b[0mio\u001b[0m\u001b[1;33m.\u001b[0m\u001b[0mwrite\u001b[0m\u001b[1;33m(\u001b[0m\u001b[0mmsg\u001b[0m\u001b[1;33m.\u001b[0m\u001b[0mserialize\u001b[0m\u001b[1;33m(\u001b[0m\u001b[1;33m)\u001b[0m\u001b[1;33m)\u001b[0m\u001b[1;33m\u001b[0m\u001b[1;33m\u001b[0m\u001b[0m\n\u001b[0m\u001b[0;32m    463\u001b[0m \u001b[1;33m\u001b[0m\u001b[0m\n\u001b[0;32m    464\u001b[0m     \u001b[1;32mdef\u001b[0m \u001b[0mget_target_node_id\u001b[0m\u001b[1;33m(\u001b[0m\u001b[0mself\u001b[0m\u001b[1;33m)\u001b[0m\u001b[1;33m:\u001b[0m\u001b[1;33m\u001b[0m\u001b[1;33m\u001b[0m\u001b[0m\n",
      "\u001b[1;32m~\\Anaconda3\\envs\\cs231n\\lib\\site-packages\\serial\\serialwin32.py\u001b[0m in \u001b[0;36mwrite\u001b[1;34m(self, data)\u001b[0m\n\u001b[0;32m    319\u001b[0m                 \u001b[1;31m# Wait for the write to complete.\u001b[0m\u001b[1;33m\u001b[0m\u001b[1;33m\u001b[0m\u001b[1;33m\u001b[0m\u001b[0m\n\u001b[0;32m    320\u001b[0m                 \u001b[1;31m#~ win32.WaitForSingleObject(self._overlapped_write.hEvent, win32.INFINITE)\u001b[0m\u001b[1;33m\u001b[0m\u001b[1;33m\u001b[0m\u001b[1;33m\u001b[0m\u001b[0m\n\u001b[1;32m--> 321\u001b[1;33m                 \u001b[0mwin32\u001b[0m\u001b[1;33m.\u001b[0m\u001b[0mGetOverlappedResult\u001b[0m\u001b[1;33m(\u001b[0m\u001b[0mself\u001b[0m\u001b[1;33m.\u001b[0m\u001b[0m_port_handle\u001b[0m\u001b[1;33m,\u001b[0m \u001b[0mself\u001b[0m\u001b[1;33m.\u001b[0m\u001b[0m_overlapped_write\u001b[0m\u001b[1;33m,\u001b[0m \u001b[0mctypes\u001b[0m\u001b[1;33m.\u001b[0m\u001b[0mbyref\u001b[0m\u001b[1;33m(\u001b[0m\u001b[0mn\u001b[0m\u001b[1;33m)\u001b[0m\u001b[1;33m,\u001b[0m \u001b[1;32mTrue\u001b[0m\u001b[1;33m)\u001b[0m\u001b[1;33m\u001b[0m\u001b[1;33m\u001b[0m\u001b[0m\n\u001b[0m\u001b[0;32m    322\u001b[0m                 \u001b[1;32mif\u001b[0m \u001b[0mwin32\u001b[0m\u001b[1;33m.\u001b[0m\u001b[0mGetLastError\u001b[0m\u001b[1;33m(\u001b[0m\u001b[1;33m)\u001b[0m \u001b[1;33m==\u001b[0m \u001b[0mwin32\u001b[0m\u001b[1;33m.\u001b[0m\u001b[0mERROR_OPERATION_ABORTED\u001b[0m\u001b[1;33m:\u001b[0m\u001b[1;33m\u001b[0m\u001b[1;33m\u001b[0m\u001b[0m\n\u001b[0;32m    323\u001b[0m                     \u001b[1;32mreturn\u001b[0m \u001b[0mn\u001b[0m\u001b[1;33m.\u001b[0m\u001b[0mvalue\u001b[0m  \u001b[1;31m# canceled IO is no error\u001b[0m\u001b[1;33m\u001b[0m\u001b[1;33m\u001b[0m\u001b[0m\n",
      "\u001b[1;31mKeyboardInterrupt\u001b[0m: "
     ]
    }
   ],
   "source": [
    "debug_timer = time.time()\n",
    "print(localizate())\n",
    "while True:\n",
    "    starter = time.time()\n",
    "    # 3. Localization\n",
    "    Thymio_state = localizate()\n",
    "    # 2.2.1 Finished?\n",
    "    if Thymio_state.dis(Goal_state) < S_epsilon_dis \\\n",
    "        and abs(Thymio_state.ori - Goal_state.ori) < S_epsilon_theta:\n",
    "        if G_verbose:\n",
    "            print(\"Terminate Reached!\")\n",
    "        break\n",
    "    # 2.2.2 Is there obstacles on the front?\n",
    "    if G_mc.obs_front():\n",
    "        G_mc.avoid() # do local navigation for, like, 10ms\n",
    "        # TODO: replan\n",
    "    else:\n",
    "        if starter - G_track_timer > S_track_interval:\n",
    "            # 4. Follow the path    # <-- The only task can run under low frequency\n",
    "            reached = G_mc.path_tracking(Global_path[0], Thymio_state, len(Global_path) == 1)\n",
    "            if reached:\n",
    "                Global_path = Global_path[1:]\n",
    "                # assume Global_path is not empty because of 2.2.1\n",
    "            G_track_timer = starter\n",
    "    loop_time = time.time() - starter\n",
    "    # TODO: how long does it takes? -- about 1ms\n",
    "    #       then, which motor speed fit the period time\n",
    "    #             should we stop to calibrate pose?\n",
    "\n",
    "    if starter - debug_timer > 1.0:\n",
    "        print(Thymio_state)\n",
    "        debug_timer = starter\n",
    "    #if G_verbose:\n",
    "    #    print(F\"looper time: {loop_time*1000 :.0f}ms\")\n"
   ]
  },
  {
   "cell_type": "code",
   "execution_count": null,
   "metadata": {},
   "outputs": [],
   "source": [
    "get_ball = False\n",
    "# 1. get the ball\n",
    "planner.set_goal = pBall\n",
    "planner.set_start = None # Pos of Thymio [Filtering]\n",
    "waypoints = planner.plan()\n",
    "while not get_ball:\n",
    "    if controller.obs_forward():\n",
    "        pass #   [Local Navigation]\n",
    "        #          return to waypoints to follow\n",
    "    else:\n",
    "        waypoints = controller.go_pos(waypoints) # follow the waypoints \n",
    "    pass\n",
    "\n",
    "# 2. Push the ball to the goal\n",
    "finished = False\n",
    "planner.set_goal = pGoal\n",
    "planner.set_start = None # Pos of Thymio [Filtering]\n",
    "waypoints = planner.plan()\n",
    "while not finished:\n",
    "    if controller.obs_forward():\n",
    "        pass #   [Local Navigation]\n",
    "        #          return to waypoints to follow\n",
    "    else:\n",
    "        waypoints = controller.go_pos(waypoints) # follow the waypoints \n",
    "    pass"
   ]
  },
  {
   "cell_type": "markdown",
   "metadata": {},
   "source": [
    "# Serial Control vs TDMClient"
   ]
  },
  {
   "cell_type": "code",
   "execution_count": null,
   "metadata": {},
   "outputs": [],
   "source": [
    "from Thymio import Thymio\n",
    "import os\n",
    "import sys"
   ]
  },
  {
   "cell_type": "code",
   "execution_count": null,
   "metadata": {},
   "outputs": [],
   "source": [
    "!pip install pyserial"
   ]
  },
  {
   "cell_type": "code",
   "execution_count": null,
   "metadata": {},
   "outputs": [],
   "source": [
    "import sys\n",
    "import glob\n",
    "import serial\n",
    "\n",
    "\n",
    "def serial_ports():\n",
    "    \"\"\" Lists serial port names\n",
    "\n",
    "        :raises EnvironmentError:\n",
    "            On unsupported or unknown platforms\n",
    "        :returns:\n",
    "            A list of the serial ports available on the system\n",
    "    \"\"\"\n",
    "    if sys.platform.startswith('win'):\n",
    "        ports = ['COM%s' % (i + 1) for i in range(256)]\n",
    "    elif sys.platform.startswith('linux') or sys.platform.startswith('cygwin'):\n",
    "        # this excludes your current terminal \"/dev/tty\"\n",
    "        ports = glob.glob('/dev/tty[A-Za-z]*')\n",
    "    elif sys.platform.startswith('darwin'):\n",
    "        ports = glob.glob('/dev/tty.*')\n",
    "    else:\n",
    "        raise EnvironmentError('Unsupported platform')\n",
    "\n",
    "    result = []\n",
    "    for port in ports:\n",
    "        try:\n",
    "            s = serial.Serial(port)\n",
    "            s.close()\n",
    "            result.append(port)\n",
    "        except (OSError, serial.SerialException):\n",
    "            pass\n",
    "    return result\n",
    "\n",
    "\n",
    "if __name__ == '__main__':\n",
    "    print(serial_ports())"
   ]
  },
  {
   "cell_type": "code",
   "execution_count": null,
   "metadata": {},
   "outputs": [],
   "source": [
    "sys.setrecursionlimit(3000)\n",
    "print(os.getenv('COM4'))"
   ]
  },
  {
   "cell_type": "code",
   "execution_count": null,
   "metadata": {},
   "outputs": [],
   "source": [
    "th = Thymio.serial(port=os.getenv('COM6'), refreshing_rate=0.1)"
   ]
  },
  {
   "cell_type": "code",
   "execution_count": null,
   "metadata": {},
   "outputs": [],
   "source": []
  }
 ],
 "metadata": {
  "interpreter": {
   "hash": "b10cf93940e5c0473413f3fc99b95e2c1997f6e8852312471085cb7234ec8d25"
  },
  "kernelspec": {
   "display_name": "Python 3",
   "language": "python",
   "name": "python3"
  },
  "language_info": {
   "codemirror_mode": {
    "name": "ipython",
    "version": 3
   },
   "file_extension": ".py",
   "mimetype": "text/x-python",
   "name": "python",
   "nbconvert_exporter": "python",
   "pygments_lexer": "ipython3",
   "version": "3.9.7"
  }
 },
 "nbformat": 4,
 "nbformat_minor": 2
}
