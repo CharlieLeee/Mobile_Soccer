{
 "cells": [
  {
   "cell_type": "markdown",
   "metadata": {},
   "source": [
    "# Soccer Mobile\n",
    "<!-- Introduction of the project -->"
   ]
  },
  {
   "cell_type": "code",
   "execution_count": null,
   "metadata": {},
   "outputs": [],
   "source": [
    "from global_navigation import *\n",
    "from motion_control import *"
   ]
  },
  {
   "cell_type": "markdown",
   "metadata": {},
   "source": [
    "## Vision\n"
   ]
  },
  {
   "cell_type": "code",
   "execution_count": null,
   "metadata": {},
   "outputs": [],
   "source": [
    "# ...\n",
    "gmap = None\n",
    "pBall = Pos() #\n",
    "pGoal = Pos() #"
   ]
  },
  {
   "cell_type": "markdown",
   "metadata": {},
   "source": [
    "## Global Navigation\n",
    "Plan a path from the start to the goal.\n",
    "Return: Waypoints"
   ]
  },
  {
   "cell_type": "code",
   "execution_count": null,
   "metadata": {},
   "outputs": [],
   "source": [
    "planner =  PathPlanner(gmap)"
   ]
  },
  {
   "cell_type": "markdown",
   "metadata": {},
   "source": [
    "## Local Navigation\n"
   ]
  },
  {
   "cell_type": "markdown",
   "metadata": {},
   "source": [
    "## Filtering\n",
    "tell where Thymio is."
   ]
  },
  {
   "cell_type": "markdown",
   "metadata": {},
   "source": [
    "## Motion Control\n",
    "Actuator."
   ]
  },
  {
   "cell_type": "code",
   "execution_count": null,
   "metadata": {},
   "outputs": [],
   "source": [
    "controller = MotionController()\n",
    "control_cycle = 10 # ms = 100Hz"
   ]
  },
  {
   "cell_type": "code",
   "execution_count": null,
   "metadata": {},
   "outputs": [],
   "source": [
    "get_ball = False\n",
    "# 1. get the ball\n",
    "planner.set_goal = pBall\n",
    "planner.set_start = None # Pos of Thymio [Filtering]\n",
    "waypoints = planner.plan()\n",
    "while not get_ball:\n",
    "    if controller.obs_forward():\n",
    "        pass #   [Local Navigation]\n",
    "        #          return to waypoints to follow\n",
    "    else:\n",
    "        waypoints = controller.go_pos(waypoints) # follow the waypoints \n",
    "    pass\n",
    "\n",
    "# 2. Push the ball to the goal\n",
    "finished = False\n",
    "planner.set_goal = pGoal\n",
    "planner.set_start = None # Pos of Thymio [Filtering]\n",
    "waypoints = planner.plan()\n",
    "while not finished:\n",
    "    if controller.obs_forward():\n",
    "        pass #   [Local Navigation]\n",
    "        #          return to waypoints to follow\n",
    "    else:\n",
    "        waypoints = controller.go_pos(waypoints) # follow the waypoints \n",
    "    pass"
   ]
  }
 ],
 "metadata": {
  "interpreter": {
   "hash": "b10cf93940e5c0473413f3fc99b95e2c1997f6e8852312471085cb7234ec8d25"
  },
  "kernelspec": {
   "display_name": "Python 3.9.7 64-bit",
   "language": "python",
   "name": "python3"
  },
  "language_info": {
   "codemirror_mode": {
    "name": "ipython",
    "version": 3
   },
   "file_extension": ".py",
   "mimetype": "text/x-python",
   "name": "python",
   "nbconvert_exporter": "python",
   "pygments_lexer": "ipython3",
   "version": "3.9.7"
  },
  "orig_nbformat": 4
 },
 "nbformat": 4,
 "nbformat_minor": 2
}
