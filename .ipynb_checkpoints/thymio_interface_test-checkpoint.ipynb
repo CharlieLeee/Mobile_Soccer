{
 "cells": [
  {
   "cell_type": "code",
   "execution_count": 20,
   "metadata": {},
   "outputs": [],
   "source": [
    "import time\n",
    "import numpy as np\n",
    "\n",
    "from geo import *\n",
    "from Thymio import Thymio\n",
    "import motion_control\n",
    "import filtering\n",
    "import global_navigation\n",
    "\n",
    "\n",
    "# -- Global Settings --\n",
    "THYMIO_PORT = \"COM6\"\n",
    "THYMIO_REFRESH_RATE = 1.0\n",
    "G_verbose = True\n",
    "S_camera_interval = 1000 #ms\n",
    "S_motion_interval = 1000\n",
    "S_track_interval = 0.1 #s\n",
    "G_track_timer = time.time()\n",
    "\n",
    "S_epsilon_dis = 1\n",
    "S_epsilon_theta = 0.1\n",
    "\n",
    "S_stablize_filter_steps = 10\n",
    "# -- Controllers --\n",
    "G_th = Thymio.serial(port=THYMIO_PORT, refreshing_rate=THYMIO_REFRESH_RATE)\n",
    "G_mc = motion_control.MotionController(G_th, S_motion_interval,verbose=False)\n",
    "G_mc.timer = time.time()\n",
    "\n",
    "pre_state = np.array([0, 0, 0]).reshape(-1, 1) # initial state\n",
    "pre_cov = np.ones([3, 3]) * 0.03 # initial covariance\n",
    "G_filter = filtering.KF(pre_state, pre_cov, qx=0.1, qy=0.1, qtheta=0.3, rl=0.1, rr=0.1, b=0.093)\n",
    "G_filter.timer = time.time()"
   ]
  },
  {
   "cell_type": "code",
   "execution_count": 21,
   "metadata": {},
   "outputs": [],
   "source": [
    "def localizate():\n",
    "    \"\"\"Track Where Thymio is\"\"\"\n",
    "    # 3. Localization \n",
    "    # 3.1 odometer\n",
    "    dsl, dsr = G_mc.get_displacement()\n",
    "    G_filter.kalman_filter(dsr, dsl)\n",
    "    G_filter.plot_gaussian()\n",
    "\n",
    "    thymio_state = G_filter.get_state()\n",
    "    return thymio_state"
   ]
  },
  {
   "cell_type": "code",
   "execution_count": 22,
   "metadata": {},
   "outputs": [
    {
     "data": {
      "image/png": "[encoded data removed]",
      "text/plain": [
       "<Figure size 1440x720 with 1 Axes>"
      ]
     },
     "metadata": {
      "needs_background": "light"
     },
     "output_type": "display_data"
    }
   ],
   "source": [
    "h, w = 30, 40\n",
    "rmap = GridMap(h, w, 0.01)\n",
    "rmap.set_goal(Pos(h-1, w-1))\n",
    "rmap.set_start(Pos(0,0))\n",
    "import random\n",
    "obslist = [Pos(random.randint(11,h-11),random.randint(11,w-11)) for _ in range(3)]\n",
    "rmap.set_obs(obslist)\n",
    "\n",
    "Goal_state = State(Pos(h-1,w-1), 0.0)\n",
    "\n",
    "import matplotlib.pyplot as plt\n",
    "plt.rcParams['figure.figsize'] = [20, 10]\n",
    "\n",
    "# planner\n",
    "ppr = global_navigation.PathPlanner(rmap,path_simplification=True, plot=True,neighbor=8, method=\"A*\")"
   ]
  },
  {
   "cell_type": "code",
   "execution_count": 23,
   "metadata": {},
   "outputs": [
    {
     "name": "stdout",
     "output_type": "stream",
     "text": [
      "(29, 39, 0.0)\n"
     ]
    }
   ],
   "source": [
    "print(Goal_state)"
   ]
  },
  {
   "cell_type": "code",
   "execution_count": 24,
   "metadata": {},
   "outputs": [
    {
     "name": "stdout",
     "output_type": "stream",
     "text": [
      "(0,0)\n",
      "(28,28)\n",
      "(29,29)\n"
     ]
    },
    {
     "data": {
      "image/png": "[encoded data removed]",
      "text/plain": [
       "<Figure size 1440x720 with 1 Axes>"
      ]
     },
     "metadata": {
      "needs_background": "light"
     },
     "output_type": "display_data"
    }
   ],
   "source": [
    "path = ppr.plan()\n",
    "Global_path = [State(Pos(0.1, 0.0), 0.0),State(Pos(0.4, 0.1), 45.0)]"
   ]
  },
  {
   "cell_type": "code",
   "execution_count": 25,
   "metadata": {},
   "outputs": [],
   "source": [
    "# Global_path = ppr.assign_ori(path, Goal_state.ori)"
   ]
  },
  {
   "cell_type": "code",
   "execution_count": 26,
   "metadata": {},
   "outputs": [
    {
     "name": "stdout",
     "output_type": "stream",
     "text": [
      "[0, 0, 0, 0, 0, 0, 0]\n",
      "[0, 0, 0, 0, 0, 0, 0]\n",
      "[0, 0, 0, 0, 0, 0, 0]\n"
     ]
    }
   ],
   "source": [
    "for i in range(3):\n",
    "    print(G_mc.thymio.get_var_array(\"prox.horizontal\"))\n",
    "    time.sleep(0.6)\n",
    "G_mc.thymio.set_var(\"motor.left.target\", 0)\n",
    "G_mc.thymio.set_var(\"motor.right.target\", 0)"
   ]
  },
  {
   "cell_type": "code",
   "execution_count": 27,
   "metadata": {},
   "outputs": [
    {
     "name": "stderr",
     "output_type": "stream",
     "text": [
      "2021-12-07 22:05:14.304 | INFO     | motion_control:_set_motor:153 - 0\n",
      "Exception in thread Thread-9:\n",
      "Traceback (most recent call last):\n",
      "  File \"C:\\Users\\liche\\Anaconda3\\envs\\cs231n\\lib\\threading.py\", line 917, in _bootstrap_inner\n",
      "    self.run()\n",
      "  File \"C:\\Users\\liche\\Anaconda3\\envs\\cs231n\\lib\\threading.py\", line 865, in run\n",
      "    self._target(*self._args, **self._kwargs)\n",
      "  File \"e:\\02 EPFL Study\\Semester I\\Basics_of_Mobile\\Mobile_Soccer\\Thymio.py\", line 343, in do_refresh\n",
      "    self.get_variables()\n",
      "  File \"e:\\02 EPFL Study\\Semester I\\Basics_of_Mobile\\Mobile_Soccer\\Thymio.py\", line 505, in get_variables\n",
      "    self.send(msg)\n",
      "  File \"e:\\02 EPFL Study\\Semester I\\Basics_of_Mobile\\Mobile_Soccer\\Thymio.py\", line 462, in send\n",
      "    self.io.write(msg.serialize())\n",
      "  File \"C:\\Users\\liche\\Anaconda3\\envs\\cs231n\\lib\\site-packages\\serial\\serialwin32.py\", line 306, in write\n",
      "    raise PortNotOpenError()\n",
      "serial.serialutil.PortNotOpenError: Attempting to use a port that is not open\n",
      "\n"
     ]
    },
    {
     "ename": "AttributeError",
     "evalue": "'KF' object has no attribute 'plot'",
     "output_type": "error",
     "traceback": [
      "\u001b[1;31m---------------------------------------------------------------------------\u001b[0m",
      "\u001b[1;31mAttributeError\u001b[0m                            Traceback (most recent call last)",
      "\u001b[1;32m<ipython-input-27-8baf0b2f4648>\u001b[0m in \u001b[0;36m<module>\u001b[1;34m\u001b[0m\n\u001b[0;32m      3\u001b[0m         \u001b[0mstarter\u001b[0m \u001b[1;33m=\u001b[0m \u001b[0mtime\u001b[0m\u001b[1;33m.\u001b[0m\u001b[0mtime\u001b[0m\u001b[1;33m(\u001b[0m\u001b[1;33m)\u001b[0m\u001b[1;33m\u001b[0m\u001b[1;33m\u001b[0m\u001b[0m\n\u001b[0;32m      4\u001b[0m         \u001b[1;31m# 3. Localization\u001b[0m\u001b[1;33m\u001b[0m\u001b[1;33m\u001b[0m\u001b[1;33m\u001b[0m\u001b[0m\n\u001b[1;32m----> 5\u001b[1;33m         \u001b[0mThymio_state\u001b[0m \u001b[1;33m=\u001b[0m \u001b[0mlocalizate\u001b[0m\u001b[1;33m(\u001b[0m\u001b[1;33m)\u001b[0m\u001b[1;33m\u001b[0m\u001b[1;33m\u001b[0m\u001b[0m\n\u001b[0m\u001b[0;32m      6\u001b[0m         \u001b[1;31m#print(F\"Thymio:{Thymio_state}, Target:{Global_path[0]}\")\u001b[0m\u001b[1;33m\u001b[0m\u001b[1;33m\u001b[0m\u001b[1;33m\u001b[0m\u001b[0m\n\u001b[0;32m      7\u001b[0m         \u001b[1;31m# 2.2.1 Finished?\u001b[0m\u001b[1;33m\u001b[0m\u001b[1;33m\u001b[0m\u001b[1;33m\u001b[0m\u001b[0m\n",
      "\u001b[1;32m<ipython-input-21-0d528e8fb9ca>\u001b[0m in \u001b[0;36mlocalizate\u001b[1;34m()\u001b[0m\n\u001b[0;32m      5\u001b[0m     \u001b[0mdsl\u001b[0m\u001b[1;33m,\u001b[0m \u001b[0mdsr\u001b[0m \u001b[1;33m=\u001b[0m \u001b[0mG_mc\u001b[0m\u001b[1;33m.\u001b[0m\u001b[0mget_displacement\u001b[0m\u001b[1;33m(\u001b[0m\u001b[1;33m)\u001b[0m\u001b[1;33m\u001b[0m\u001b[1;33m\u001b[0m\u001b[0m\n\u001b[0;32m      6\u001b[0m     \u001b[0mG_filter\u001b[0m\u001b[1;33m.\u001b[0m\u001b[0mkalman_filter\u001b[0m\u001b[1;33m(\u001b[0m\u001b[0mdsr\u001b[0m\u001b[1;33m,\u001b[0m \u001b[0mdsl\u001b[0m\u001b[1;33m)\u001b[0m\u001b[1;33m\u001b[0m\u001b[1;33m\u001b[0m\u001b[0m\n\u001b[1;32m----> 7\u001b[1;33m     \u001b[0mG_filter\u001b[0m\u001b[1;33m.\u001b[0m\u001b[0mplot\u001b[0m\u001b[1;33m(\u001b[0m\u001b[1;33m)\u001b[0m\u001b[1;33m\u001b[0m\u001b[1;33m\u001b[0m\u001b[0m\n\u001b[0m\u001b[0;32m      8\u001b[0m \u001b[1;33m\u001b[0m\u001b[0m\n\u001b[0;32m      9\u001b[0m     \u001b[0mthymio_state\u001b[0m \u001b[1;33m=\u001b[0m \u001b[0mG_filter\u001b[0m\u001b[1;33m.\u001b[0m\u001b[0mget_state\u001b[0m\u001b[1;33m(\u001b[0m\u001b[1;33m)\u001b[0m\u001b[1;33m\u001b[0m\u001b[1;33m\u001b[0m\u001b[0m\n",
      "\u001b[1;31mAttributeError\u001b[0m: 'KF' object has no attribute 'plot'"
     ]
    }
   ],
   "source": [
    "\n",
    "try:\n",
    "    while True:\n",
    "        starter = time.time()\n",
    "        # 3. Localization\n",
    "        Thymio_state = localizate()\n",
    "        #print(F\"Thymio:{Thymio_state}, Target:{Global_path[0]}\")\n",
    "        # 2.2.1 Finished?\n",
    "        if len(Global_path) == 0:\n",
    "            if G_verbose:\n",
    "                print(\"Terminate Reached!\")\n",
    "            break\n",
    "        # 4. Follow the path\n",
    "        if starter - G_track_timer > S_track_interval:\n",
    "            print(F\"Thymio:{Thymio_state}, Target:{Global_path[0]}\")\n",
    "            reached = G_mc.path_tracking(Global_path[0], Thymio_state, False)\n",
    "            if reached:\n",
    "                Global_path = Global_path[1:]\n",
    "            G_track_timer = starter\n",
    "                # assume Global_path is not empty because of 2.2.1\n",
    "        #loop_time = time.time() - starter\n",
    "        #if G_verbose and len(Global_path) > 0:\n",
    "        #    print(F\"Thymio:{Thymio_state}, Target:{Global_path[0]}, {loop_time*1000 :.0f}ms\")\n",
    "        time.sleep(0.01)\n",
    "finally:\n",
    "    G_mc.stop()\n",
    "    G_mc.close()"
   ]
  },
  {
   "cell_type": "code",
   "execution_count": 3,
   "metadata": {},
   "outputs": [
    {
     "ename": "NameError",
     "evalue": "name '_set_motors' is not defined",
     "output_type": "error",
     "traceback": [
      "\u001b[0;31m---------------------------------------------------------------------------\u001b[0m",
      "\u001b[0;31mNameError\u001b[0m                                 Traceback (most recent call last)",
      "\u001b[0;32m<ipython-input-3-e1ebd6b4f6bb>\u001b[0m in \u001b[0;36m<module>\u001b[0;34m\u001b[0m\n\u001b[1;32m      4\u001b[0m \u001b[0maw\u001b[0m\u001b[0;34m(\u001b[0m\u001b[0mnode\u001b[0m\u001b[0;34m.\u001b[0m\u001b[0mlock\u001b[0m\u001b[0;34m(\u001b[0m\u001b[0;34m)\u001b[0m\u001b[0;34m)\u001b[0m\u001b[0;34m\u001b[0m\u001b[0;34m\u001b[0m\u001b[0m\n\u001b[1;32m      5\u001b[0m \u001b[0mnode\u001b[0m \u001b[0;34m=\u001b[0m \u001b[0mclient\u001b[0m\u001b[0;34m.\u001b[0m\u001b[0mnodes\u001b[0m\u001b[0;34m[\u001b[0m\u001b[0;36m0\u001b[0m\u001b[0;34m]\u001b[0m\u001b[0;34m\u001b[0m\u001b[0;34m\u001b[0m\u001b[0m\n\u001b[0;32m----> 6\u001b[0;31m \u001b[0;32mawait\u001b[0m \u001b[0mnode\u001b[0m\u001b[0;34m.\u001b[0m\u001b[0mset_variables\u001b[0m\u001b[0;34m(\u001b[0m\u001b[0m_set_motors\u001b[0m\u001b[0;34m(\u001b[0m\u001b[0;36m50\u001b[0m\u001b[0;34m,\u001b[0m \u001b[0;36m50\u001b[0m\u001b[0;34m)\u001b[0m\u001b[0;34m)\u001b[0m\u001b[0;34m\u001b[0m\u001b[0;34m\u001b[0m\u001b[0m\n\u001b[0m",
      "\u001b[0;31mNameError\u001b[0m: name '_set_motors' is not defined"
     ]
    }
   ],
   "source": [
    "from tdmclient import ClientAsync, aw\n",
    "client = ClientAsync()\n",
    "node = await client.wait_for_node()\n",
    "aw(node.lock())\n",
    "node = client.nodes[0]\n",
    "await node.set_variables(_set_motors(50, 50))"
   ]
  },
  {
   "cell_type": "markdown",
   "metadata": {},
   "source": [
    "## Thymio interface - Motion control"
   ]
  },
  {
   "cell_type": "code",
   "execution_count": 1,
   "metadata": {},
   "outputs": [],
   "source": [
    "#from loguru import logger\n",
    "#from numpy.core.numeric import load\n",
    "#import filtering\n",
    "#from Thymio import Thymio\n",
    "import time\n",
    "#import os\n",
    "#from dotenv import load_dotenv\n",
    "#load_dotenv()\n",
    "\n",
    "time_interval = 10 # ms \n",
    "eps_delta_r = 0.005\n",
    "eps_delta_theta = 0.01\n",
    "max_speed = 100\n",
    "speed_scale = 0.000315 # (m/s) / speed_in_motor_command; 0.000315 for speed<200; 0.0003 for speed \\in (200,400)\n",
    "rotate_scale = 0.006 # TODO (rad/s) / speed_in_motor_command\n",
    "\n",
    "speedGain = 2      # gain used with ground gradient\n",
    "obstThrL = 10      # low obstacle threshold to switch state 1->0\n",
    "obstThrH = 20      # high obstacle threshold to switch state 0->1\n",
    "obstSpeedGain = 5  # /100 (actual gain: 5/100=0.05)\n",
    "prox_horizontal = [0,0]\n",
    "obst = [0,0]\n",
    "state = 1 # 0=gradient, 1=obstacle avoidance \n",
    "\n",
    "verbose = False"
   ]
  },
  {
   "cell_type": "code",
   "execution_count": 14,
   "metadata": {},
   "outputs": [
    {
     "ename": "SyntaxError",
     "evalue": "invalid syntax (<ipython-input-14-b51ee0880479>, line 24)",
     "output_type": "error",
     "traceback": [
      "\u001b[0;36m  File \u001b[0;32m\"<ipython-input-14-b51ee0880479>\"\u001b[0;36m, line \u001b[0;32m24\u001b[0m\n\u001b[0;31m    speed = [0,0]\u001b[0m\n\u001b[0m          ^\u001b[0m\n\u001b[0;31mSyntaxError\u001b[0m\u001b[0;31m:\u001b[0m invalid syntax\n"
     ]
    }
   ],
   "source": [
    "# -- Local Navigation --\n",
    "def _set_motor(ls, rs):\n",
    "    ls = (int)(ls)\n",
    "    rs = (int)(rs)\n",
    "    l_speed = int(ls / float(os.getenv(\"OFFSET_WHEELS\")))\n",
    "    l_speed = ls if ls >= 0 else 2 ** 16 + ls\n",
    "    r_speed = rs if rs >= 0 else 2 ** 16 + rs\n",
    "#    update_displacement()\n",
    "#    logger.info(l_speed)\n",
    "    speed = [l_speed, r_speed]\n",
    "    return speed\n",
    "\n",
    "def obs_front():\n",
    "    \"\"\"if there's obstacle on the way forward\"\"\"\n",
    "    prox_horizontal = aw(node.wait_for_variables({\"prox.horizontal\"}))\n",
    "    obst = [prox_horizontal[0], prox_horizontal[4]] # measurements from left and right prox sensors\n",
    "\n",
    "    # obstacle avoidance: accelerate wheel near obstacle\n",
    "    speed_left = max_speed + obstSpeedGain * (obst[0] / 100)\n",
    "    speed_right = max_speed + obstSpeedGain * (obst[1] / 100) \n",
    "    aw(node.set_variables(_set_motors(speed_left, speed_right)))\n",
    "    \n",
    "v = {\n",
    "    speed = [0,0]\n",
    "    speed = _set_motor(0,0)\n",
    "    \"motor.left.target\": speed[0],\n",
    "    \"motor.right.target\":speed[1],\n",
    "}  \n",
    "\n",
    "aw(node.set_variables(v)"
   ]
  },
  {
   "cell_type": "markdown",
   "metadata": {},
   "source": [
    "**Python prog test**"
   ]
  },
  {
   "cell_type": "code",
   "execution_count": 2,
   "metadata": {},
   "outputs": [
    {
     "name": "stdout",
     "output_type": "stream",
     "text": [
      "Traceback (most recent call last):\r\n",
      "  File \"motion_control_test.py\", line 31, in <module>\r\n",
      "    main()\r\n",
      "  File \"motion_control_test.py\", line 28, in main\r\n",
      "    client.run_async_program(prog)\r\n",
      "  File \"/Users/lucas/opt/anaconda3/lib/python3.8/site-packages/tdmclient/clientasync.py\", line 153, in run_async_program\r\n",
      "    co.send(None)\r\n",
      "  File \"motion_control_test.py\", line 27, in prog\r\n",
      "    await client.sleep()\r\n",
      "  File \"/Users/lucas/opt/anaconda3/lib/python3.8/site-packages/tdmclient/clientasync.py\", line 42, in sleep\r\n",
      "    self.process_waiting_messages()\r\n",
      "  File \"/Users/lucas/opt/anaconda3/lib/python3.8/site-packages/tdmclient/client.py\", line 130, in process_waiting_messages\r\n",
      "    self.process_message(msg)\r\n",
      "  File \"/Users/lucas/opt/anaconda3/lib/python3.8/site-packages/tdmclient/thymio.py\", line 717, in process_message\r\n",
      "    node.notify_variables_changed(node, variables)\r\n",
      "  File \"/Users/lucas/opt/anaconda3/lib/python3.8/site-packages/tdmclient/thymio.py\", line 70, in notify_variables_changed\r\n",
      "    f(node, variable_dict)\r\n",
      "  File \"motion_control_test.py\", line 15, in on_variables_changed\r\n",
      "    self.motors(speed, speed)\r\n",
      "AttributeError: 'ClientAsyncCacheNode' object has no attribute 'motors'\r\n"
     ]
    }
   ],
   "source": [
    "!python3 motion_control_test.py"
   ]
  },
  {
   "cell_type": "markdown",
   "metadata": {},
   "source": [
    "**Transpile test**"
   ]
  },
  {
   "cell_type": "code",
   "execution_count": 1,
   "metadata": {},
   "outputs": [],
   "source": [
    "import tdmclient.notebook\n",
    "await tdmclient.notebook.start()"
   ]
  },
  {
   "cell_type": "code",
   "execution_count": 2,
   "metadata": {},
   "outputs": [],
   "source": [
    "def motors(left, right):\n",
    "    return {\n",
    "        \"motor.left.target\": [left],\n",
    "        \"motor.right.target\": [right],\n",
    "    }\n",
    "\n",
    "def on_variables_changed(variables):\n",
    "    try:\n",
    "        prox = variables\n",
    "        prox_front = prox[2]\n",
    "        speed = -prox_front // 10\n",
    "        motors(speed, speed)\n",
    "    except KeyError:\n",
    "        pass  # prox.horizontal not found"
   ]
  },
  {
   "cell_type": "code",
   "execution_count": 3,
   "metadata": {},
   "outputs": [
    {
     "ename": "TranspilerError",
     "evalue": "unknown function 'on_variables' (line 5)",
     "output_type": "error",
     "traceback": [
      "\u001b[0;31m---------------------------------------------------------------------------\u001b[0m",
      "\u001b[0;31mTranspilerError\u001b[0m                           Traceback (most recent call last)",
      "\u001b[0;32m<ipython-input-3-c1e204b25f15>\u001b[0m in \u001b[0;36m<module>\u001b[0;34m\u001b[0m\n\u001b[0;32m----> 1\u001b[0;31m \u001b[0mget_ipython\u001b[0m\u001b[0;34m(\u001b[0m\u001b[0;34m)\u001b[0m\u001b[0;34m.\u001b[0m\u001b[0mrun_cell_magic\u001b[0m\u001b[0;34m(\u001b[0m\u001b[0;34m'run_python'\u001b[0m\u001b[0;34m,\u001b[0m \u001b[0;34m''\u001b[0m\u001b[0;34m,\u001b[0m \u001b[0;34m'\\n@onevent\\ndef main():\\n    global prox_horizontal, motor_left_target, motor_right_target\\n    on_variables(prox_horizontal)\\n    \\n'\u001b[0m\u001b[0;34m)\u001b[0m\u001b[0;34m\u001b[0m\u001b[0;34m\u001b[0m\u001b[0m\n\u001b[0m",
      "\u001b[0;32m~/opt/anaconda3/lib/python3.8/site-packages/IPython/core/interactiveshell.py\u001b[0m in \u001b[0;36mrun_cell_magic\u001b[0;34m(self, magic_name, line, cell)\u001b[0m\n\u001b[1;32m   2397\u001b[0m             \u001b[0;32mwith\u001b[0m \u001b[0mself\u001b[0m\u001b[0;34m.\u001b[0m\u001b[0mbuiltin_trap\u001b[0m\u001b[0;34m:\u001b[0m\u001b[0;34m\u001b[0m\u001b[0;34m\u001b[0m\u001b[0m\n\u001b[1;32m   2398\u001b[0m                 \u001b[0margs\u001b[0m \u001b[0;34m=\u001b[0m \u001b[0;34m(\u001b[0m\u001b[0mmagic_arg_s\u001b[0m\u001b[0;34m,\u001b[0m \u001b[0mcell\u001b[0m\u001b[0;34m)\u001b[0m\u001b[0;34m\u001b[0m\u001b[0;34m\u001b[0m\u001b[0m\n\u001b[0;32m-> 2399\u001b[0;31m                 \u001b[0mresult\u001b[0m \u001b[0;34m=\u001b[0m \u001b[0mfn\u001b[0m\u001b[0;34m(\u001b[0m\u001b[0;34m*\u001b[0m\u001b[0margs\u001b[0m\u001b[0;34m,\u001b[0m \u001b[0;34m**\u001b[0m\u001b[0mkwargs\u001b[0m\u001b[0;34m)\u001b[0m\u001b[0;34m\u001b[0m\u001b[0;34m\u001b[0m\u001b[0m\n\u001b[0m\u001b[1;32m   2400\u001b[0m             \u001b[0;32mreturn\u001b[0m \u001b[0mresult\u001b[0m\u001b[0;34m\u001b[0m\u001b[0;34m\u001b[0m\u001b[0m\n\u001b[1;32m   2401\u001b[0m \u001b[0;34m\u001b[0m\u001b[0m\n",
      "\u001b[0;32m~/opt/anaconda3/lib/python3.8/site-packages/tdmclient/notebook/private.py\u001b[0m in \u001b[0;36mrun_python\u001b[0;34m(line, cell)\u001b[0m\n\u001b[1;32m    310\u001b[0m         \u001b[0m_interactive_console\u001b[0m\u001b[0;34m.\u001b[0m\u001b[0mclear_event_data\u001b[0m\u001b[0;34m(\u001b[0m\u001b[0;34m)\u001b[0m\u001b[0;34m\u001b[0m\u001b[0;34m\u001b[0m\u001b[0m\n\u001b[1;32m    311\u001b[0m     \u001b[0;32mtry\u001b[0m\u001b[0;34m:\u001b[0m\u001b[0;34m\u001b[0m\u001b[0;34m\u001b[0m\u001b[0m\n\u001b[0;32m--> 312\u001b[0;31m         _interactive_console.run_program(cell, \"python\",\n\u001b[0m\u001b[1;32m    313\u001b[0m                                          \u001b[0mwait\u001b[0m\u001b[0;34m=\u001b[0m\u001b[0mwait\u001b[0m\u001b[0;34m,\u001b[0m \u001b[0mimport_thymio\u001b[0m\u001b[0;34m=\u001b[0m\u001b[0mimport_thymio\u001b[0m\u001b[0;34m,\u001b[0m\u001b[0;34m\u001b[0m\u001b[0;34m\u001b[0m\u001b[0m\n\u001b[1;32m    314\u001b[0m                                          node_id=robot_id, node_name=robot_name)\n",
      "\u001b[0;32m~/opt/anaconda3/lib/python3.8/site-packages/tdmclient/repl.py\u001b[0m in \u001b[0;36mrun_program\u001b[0;34m(self, src, language, wait, import_thymio, node_id, node_name)\u001b[0m\n\u001b[1;32m    366\u001b[0m             \u001b[0;32mif\u001b[0m \u001b[0mlanguage\u001b[0m \u001b[0;34m==\u001b[0m \u001b[0;34m\"python\"\u001b[0m\u001b[0;34m:\u001b[0m\u001b[0;34m\u001b[0m\u001b[0;34m\u001b[0m\u001b[0m\n\u001b[1;32m    367\u001b[0m                 \u001b[0;31m# transpile from Python to Aseba\u001b[0m\u001b[0;34m\u001b[0m\u001b[0;34m\u001b[0m\u001b[0;34m\u001b[0m\u001b[0m\n\u001b[0;32m--> 368\u001b[0;31m                 \u001b[0mtranspiler\u001b[0m \u001b[0;34m=\u001b[0m \u001b[0mself\u001b[0m\u001b[0;34m.\u001b[0m\u001b[0mtranspile\u001b[0m\u001b[0;34m(\u001b[0m\u001b[0msrc\u001b[0m\u001b[0;34m,\u001b[0m \u001b[0mimport_thymio\u001b[0m\u001b[0;34m)\u001b[0m\u001b[0;34m\u001b[0m\u001b[0;34m\u001b[0m\u001b[0m\n\u001b[0m\u001b[1;32m    369\u001b[0m                 \u001b[0msrc\u001b[0m \u001b[0;34m=\u001b[0m \u001b[0mtranspiler\u001b[0m\u001b[0;34m.\u001b[0m\u001b[0mget_output\u001b[0m\u001b[0;34m(\u001b[0m\u001b[0;34m)\u001b[0m\u001b[0;34m\u001b[0m\u001b[0;34m\u001b[0m\u001b[0m\n\u001b[1;32m    370\u001b[0m                 \u001b[0mprint_statements\u001b[0m \u001b[0;34m=\u001b[0m \u001b[0mtranspiler\u001b[0m\u001b[0;34m.\u001b[0m\u001b[0mprint_format_strings\u001b[0m\u001b[0;34m\u001b[0m\u001b[0;34m\u001b[0m\u001b[0m\n",
      "\u001b[0;32m~/opt/anaconda3/lib/python3.8/site-packages/tdmclient/repl.py\u001b[0m in \u001b[0;36mtranspile\u001b[0;34m(src, import_thymio)\u001b[0m\n\u001b[1;32m    287\u001b[0m \"\"\")\n\u001b[1;32m    288\u001b[0m         \u001b[0mtranspiler\u001b[0m\u001b[0;34m.\u001b[0m\u001b[0mset_source\u001b[0m\u001b[0;34m(\u001b[0m\u001b[0msrc\u001b[0m\u001b[0;34m)\u001b[0m\u001b[0;34m\u001b[0m\u001b[0;34m\u001b[0m\u001b[0m\n\u001b[0;32m--> 289\u001b[0;31m         \u001b[0mtranspiler\u001b[0m\u001b[0;34m.\u001b[0m\u001b[0mtranspile\u001b[0m\u001b[0;34m(\u001b[0m\u001b[0;34m)\u001b[0m\u001b[0;34m\u001b[0m\u001b[0;34m\u001b[0m\u001b[0m\n\u001b[0m\u001b[1;32m    290\u001b[0m         \u001b[0;32mreturn\u001b[0m \u001b[0mtranspiler\u001b[0m\u001b[0;34m\u001b[0m\u001b[0;34m\u001b[0m\u001b[0m\n\u001b[1;32m    291\u001b[0m \u001b[0;34m\u001b[0m\u001b[0m\n",
      "\u001b[0;32m~/opt/anaconda3/lib/python3.8/site-packages/tdmclient/atranspiler.py\u001b[0m in \u001b[0;36mtranspile\u001b[0;34m(self)\u001b[0m\n\u001b[1;32m   1237\u001b[0m         \u001b[0;32mfor\u001b[0m \u001b[0mfun_name\u001b[0m \u001b[0;32min\u001b[0m \u001b[0mcontext_top\u001b[0m\u001b[0;34m.\u001b[0m\u001b[0mfunctions\u001b[0m\u001b[0;34m:\u001b[0m\u001b[0;34m\u001b[0m\u001b[0;34m\u001b[0m\u001b[0m\n\u001b[1;32m   1238\u001b[0m             \u001b[0mfun_print_format_string_next_id\u001b[0m \u001b[0;34m=\u001b[0m \u001b[0mself\u001b[0m\u001b[0;34m.\u001b[0m\u001b[0mprint_format_string_next_id\u001b[0m\u001b[0;34m\u001b[0m\u001b[0;34m\u001b[0m\u001b[0m\n\u001b[0;32m-> 1239\u001b[0;31m             \u001b[0m_\u001b[0m \u001b[0;34m=\u001b[0m \u001b[0mself\u001b[0m\u001b[0;34m.\u001b[0m\u001b[0mcompile_node_array\u001b[0m\u001b[0;34m(\u001b[0m\u001b[0mcontext_top\u001b[0m\u001b[0;34m.\u001b[0m\u001b[0mfunctions\u001b[0m\u001b[0;34m[\u001b[0m\u001b[0mfun_name\u001b[0m\u001b[0;34m]\u001b[0m\u001b[0;34m.\u001b[0m\u001b[0mfunction_def\u001b[0m\u001b[0;34m.\u001b[0m\u001b[0mbody\u001b[0m\u001b[0;34m,\u001b[0m \u001b[0mcontext_top\u001b[0m\u001b[0;34m.\u001b[0m\u001b[0mfunctions\u001b[0m\u001b[0;34m[\u001b[0m\u001b[0mfun_name\u001b[0m\u001b[0;34m]\u001b[0m\u001b[0;34m)\u001b[0m\u001b[0;34m\u001b[0m\u001b[0;34m\u001b[0m\u001b[0m\n\u001b[0m\u001b[1;32m   1240\u001b[0m             \u001b[0;31m# set functions without return statements to void\u001b[0m\u001b[0;34m\u001b[0m\u001b[0;34m\u001b[0m\u001b[0;34m\u001b[0m\u001b[0m\n\u001b[1;32m   1241\u001b[0m             \u001b[0mcontext_top\u001b[0m\u001b[0;34m.\u001b[0m\u001b[0mfunctions\u001b[0m\u001b[0;34m[\u001b[0m\u001b[0mfun_name\u001b[0m\u001b[0;34m]\u001b[0m\u001b[0;34m.\u001b[0m\u001b[0mfreeze_return_type\u001b[0m\u001b[0;34m(\u001b[0m\u001b[0;34m)\u001b[0m\u001b[0;34m\u001b[0m\u001b[0;34m\u001b[0m\u001b[0m\n",
      "\u001b[0;32m~/opt/anaconda3/lib/python3.8/site-packages/tdmclient/atranspiler.py\u001b[0m in \u001b[0;36mcompile_node_array\u001b[0;34m(self, node_array, context)\u001b[0m\n\u001b[1;32m   1203\u001b[0m         \"\"\"Compile an array of ast statement nodes.\n\u001b[1;32m   1204\u001b[0m         \"\"\"\n\u001b[0;32m-> 1205\u001b[0;31m         code = \"\".join([\n\u001b[0m\u001b[1;32m   1206\u001b[0m             \u001b[0mself\u001b[0m\u001b[0;34m.\u001b[0m\u001b[0mcompile_node\u001b[0m\u001b[0;34m(\u001b[0m\u001b[0mnode\u001b[0m\u001b[0;34m,\u001b[0m \u001b[0mcontext\u001b[0m\u001b[0;34m)\u001b[0m\u001b[0;34m\u001b[0m\u001b[0;34m\u001b[0m\u001b[0m\n\u001b[1;32m   1207\u001b[0m             \u001b[0;32mfor\u001b[0m \u001b[0mnode\u001b[0m \u001b[0;32min\u001b[0m \u001b[0mnode_array\u001b[0m\u001b[0;34m\u001b[0m\u001b[0;34m\u001b[0m\u001b[0m\n",
      "\u001b[0;32m~/opt/anaconda3/lib/python3.8/site-packages/tdmclient/atranspiler.py\u001b[0m in \u001b[0;36m<listcomp>\u001b[0;34m(.0)\u001b[0m\n\u001b[1;32m   1204\u001b[0m         \"\"\"\n\u001b[1;32m   1205\u001b[0m         code = \"\".join([\n\u001b[0;32m-> 1206\u001b[0;31m             \u001b[0mself\u001b[0m\u001b[0;34m.\u001b[0m\u001b[0mcompile_node\u001b[0m\u001b[0;34m(\u001b[0m\u001b[0mnode\u001b[0m\u001b[0;34m,\u001b[0m \u001b[0mcontext\u001b[0m\u001b[0;34m)\u001b[0m\u001b[0;34m\u001b[0m\u001b[0;34m\u001b[0m\u001b[0m\n\u001b[0m\u001b[1;32m   1207\u001b[0m             \u001b[0;32mfor\u001b[0m \u001b[0mnode\u001b[0m \u001b[0;32min\u001b[0m \u001b[0mnode_array\u001b[0m\u001b[0;34m\u001b[0m\u001b[0;34m\u001b[0m\u001b[0m\n\u001b[1;32m   1208\u001b[0m         ])\n",
      "\u001b[0;32m~/opt/anaconda3/lib/python3.8/site-packages/tdmclient/atranspiler.py\u001b[0m in \u001b[0;36mcompile_node\u001b[0;34m(self, node, context)\u001b[0m\n\u001b[1;32m   1029\u001b[0m                     \u001b[0;32mreturn\u001b[0m \u001b[0mcode\u001b[0m\u001b[0;34m\u001b[0m\u001b[0;34m\u001b[0m\u001b[0m\n\u001b[1;32m   1030\u001b[0m             \u001b[0;31m# parse expression, ignoring result\u001b[0m\u001b[0;34m\u001b[0m\u001b[0;34m\u001b[0m\u001b[0;34m\u001b[0m\u001b[0m\n\u001b[0;32m-> 1031\u001b[0;31m             \u001b[0m_\u001b[0m\u001b[0;34m,\u001b[0m \u001b[0maux_statements\u001b[0m\u001b[0;34m,\u001b[0m \u001b[0m_\u001b[0m \u001b[0;34m=\u001b[0m \u001b[0mself\u001b[0m\u001b[0;34m.\u001b[0m\u001b[0mcompile_expr\u001b[0m\u001b[0;34m(\u001b[0m\u001b[0mexpr\u001b[0m\u001b[0;34m,\u001b[0m \u001b[0mcontext\u001b[0m\u001b[0;34m,\u001b[0m \u001b[0mself\u001b[0m\u001b[0;34m.\u001b[0m\u001b[0mPRI_EXPR\u001b[0m\u001b[0;34m)\u001b[0m\u001b[0;34m\u001b[0m\u001b[0;34m\u001b[0m\u001b[0m\n\u001b[0m\u001b[1;32m   1032\u001b[0m             \u001b[0;32mreturn\u001b[0m \u001b[0maux_statements\u001b[0m\u001b[0;34m\u001b[0m\u001b[0;34m\u001b[0m\u001b[0m\n\u001b[1;32m   1033\u001b[0m         \u001b[0;32mif\u001b[0m \u001b[0misinstance\u001b[0m\u001b[0;34m(\u001b[0m\u001b[0mnode\u001b[0m\u001b[0;34m,\u001b[0m \u001b[0mast\u001b[0m\u001b[0;34m.\u001b[0m\u001b[0mFor\u001b[0m\u001b[0;34m)\u001b[0m\u001b[0;34m:\u001b[0m\u001b[0;34m\u001b[0m\u001b[0;34m\u001b[0m\u001b[0m\n",
      "\u001b[0;32m~/opt/anaconda3/lib/python3.8/site-packages/tdmclient/atranspiler.py\u001b[0m in \u001b[0;36mcompile_expr\u001b[0;34m(self, node, context, priority_container)\u001b[0m\n\u001b[1;32m    673\u001b[0m                     \u001b[0mcode\u001b[0m \u001b[0;34m=\u001b[0m \u001b[0;34mf\"{list_len}\"\u001b[0m\u001b[0;34m\u001b[0m\u001b[0;34m\u001b[0m\u001b[0m\n\u001b[1;32m    674\u001b[0m                 \u001b[0;32mreturn\u001b[0m \u001b[0mcode\u001b[0m\u001b[0;34m,\u001b[0m \u001b[0maux_statements\u001b[0m\u001b[0;34m,\u001b[0m \u001b[0;32mFalse\u001b[0m\u001b[0;34m\u001b[0m\u001b[0;34m\u001b[0m\u001b[0m\n\u001b[0;32m--> 675\u001b[0;31m             \u001b[0;32mraise\u001b[0m \u001b[0mTranspilerError\u001b[0m\u001b[0;34m(\u001b[0m\u001b[0;34mf\"unknown function '{fun_name}'\"\u001b[0m\u001b[0;34m,\u001b[0m \u001b[0mast_node\u001b[0m\u001b[0;34m=\u001b[0m\u001b[0mnode\u001b[0m\u001b[0;34m)\u001b[0m\u001b[0;34m\u001b[0m\u001b[0;34m\u001b[0m\u001b[0m\n\u001b[0m\u001b[1;32m    676\u001b[0m         \u001b[0;32melif\u001b[0m \u001b[0misinstance\u001b[0m\u001b[0;34m(\u001b[0m\u001b[0mnode\u001b[0m\u001b[0;34m,\u001b[0m \u001b[0mast\u001b[0m\u001b[0;34m.\u001b[0m\u001b[0mCompare\u001b[0m\u001b[0;34m)\u001b[0m\u001b[0;34m:\u001b[0m\u001b[0;34m\u001b[0m\u001b[0;34m\u001b[0m\u001b[0m\n\u001b[1;32m    677\u001b[0m             op_str = {\n",
      "\u001b[0;31mTranspilerError\u001b[0m: unknown function 'on_variables' (line 5)"
     ]
    }
   ],
   "source": [
    "%%run_python\n",
    "\n",
    "@onevent\n",
    "def main():\n",
    "    global prox_horizontal, motor_left_target, motor_right_target\n",
    "    on_variables(prox_horizontal)\n",
    "    "
   ]
  },
  {
   "cell_type": "code",
   "execution_count": null,
   "metadata": {},
   "outputs": [],
   "source": [
    "    obst = [0,0]\n",
    "    prox_horizontal = aw(node.wait_for_variables({\"prox.horizontal\"}))\n",
    "    obst = [prox_horizontal[0], prox_horizontal[4]]\n",
    "    state = 1\n",
    "    if state == 0: \n",
    "        # switch from goal tracking to obst avoidance if obstacle detected\n",
    "        if (obst[0] > obstThrH):\n",
    "            state = 1\n",
    "        elif (obst[1] > obstThrH):\n",
    "            state = 1\n",
    "    elif state == 1:\n",
    "        if obst[0] < obstThrL:\n",
    "            if obst[1] < obstThrL : \n",
    "                # switch from obst avoidance to goal tracking if obstacle got unseen\n",
    "                state = 0\n",
    "    if  state == 0 :\n",
    "        # goal tracking: turn toward the goal\n",
    "        motor_left_target = max_speed - speedGain * diffDelta\n",
    "        motor_right_target = max_speed + speedGain * diffDelta\n",
    "    else:"
   ]
  },
  {
   "cell_type": "code",
   "execution_count": null,
   "metadata": {},
   "outputs": [],
   "source": [
    "# -- Path Tracking --        \n",
    "def path_tracking(waypoint, Thymio_state, theta_track = False):\n",
    "    \"\"\"Follow the path\n",
    "\n",
    "    @return: waypoint reached\n",
    "    \"\"\"\n",
    "    # 4 Track the waypoints\n",
    "    # 4.1 Are we close enough to the next waypoint?  \n",
    "    delta_r = Thymio_state.dis(waypoint)\n",
    "    if delta_r < eps_delta_r:\n",
    "        # check the rotation\n",
    "        delta_theta = Thymio_state.delta_theta(waypoint)\n",
    "        if not theta_track or abs(delta_theta) < eps_delta_theta:\n",
    "            if verbose:\n",
    "                print(\"Path Finished\")\n",
    "            return True\n",
    "        else:\n",
    "            rotate(delta_theta) #PULSE\n",
    "    else:\n",
    "        # 4.2 Go to the next waypoint\n",
    "        headto_theta = Thymio_state.headto(waypoint)\n",
    "        delta_theta = headto_theta - Thymio_state.ori\n",
    "        if verbose:\n",
    "            print(F\"headto_theta: {headto_theta}\")\n",
    "        if abs(delta_theta) > 1.0:\n",
    "            rotate(delta_theta)\n",
    "        elif abs(delta_theta) > eps_delta_theta:\n",
    "            approach(delta_r, delta_theta)\n",
    "        else:\n",
    "            approach(delta_r, 0)\n",
    "        return False\n",
    "\n",
    "# -- Movement --\n",
    "def approach(delta_r, delta_theta = 0):\n",
    "    \"\"\"approach to the goal point\n",
    "\n",
    "        move with modification of direction\n",
    "    \"\"\"\n",
    "    if verbose:\n",
    "        print(F\"approach to dr:{delta_r}, dt:{delta_theta}\")\n",
    "    # assume u only move <interval> s. \n",
    "    advance_speed = min(1000.0*delta_r/interval/speed_scale, max_speed)\n",
    "    delta_speed = 1000.0*delta_theta/interval/rotate_scale\n",
    "    if delta_speed > 0:\n",
    "        move(advance_speed, min(delta_speed, max_speed/2))\n",
    "    else:\n",
    "        move(advance_speed, max(delta_speed, -max_speed/2))\n",
    "\n",
    "def rotate(delta_theta):\n",
    "    \"\"\"rotate in place\n",
    "    \"\"\"\n",
    "    delta_speed = delta_theta/(interval/1000.0)/rotate_scale\n",
    "    if delta_speed > 0:\n",
    "        move(0, min(delta_speed, max_speed))\n",
    "    else:\n",
    "        move(0, max(delta_speed, -max_speed))\n",
    "\n",
    "def move(vel, omega = 0):\n",
    "    \"\"\"\n",
    "    move with transitional velocity and rotational velocity\n",
    "    \"\"\"\n",
    "    if verbose:\n",
    "        print(F\"move with {vel}, {omega}\")\n",
    "    vel = min(vel, max_speed - 2*abs(omega))\n",
    "    aw(node.set_variables(_set_motor(vel - omega, vel + omega))\n",
    "\n",
    "def stop():\n",
    "    \"\"\"Stop both motors\n",
    "    \"\"\"\n",
    "     aw(node.set_variables(_set_motor(0, 0))\n",
    "\n",
    "#def update_displacement():\n",
    "#    starter = time.time()\n",
    "#    interval = starter - self.timer\n",
    "#    self.timer = starter\n",
    "#    rls = self.thymio.get_var(\"motor.left.speed\")\n",
    "#    rrs = self.thymio.get_var(\"motor.right.speed\")\n",
    "#    rls = int(rls * float(os.getenv(\"OFFSET_WHEELS\")))\n",
    "#    rls = rls if rls < 2 ** 15 else rls - 2 ** 16\n",
    "#    rrs = rrs if rrs < 2 ** 15 else rrs - 2 ** 16\n",
    "#    self.displacement[0] += rls*interval*self.speed_scale\n",
    "#    self.displacement[1] += rrs*interval*self.speed_scale\n",
    "\n",
    "def _set_motor(ls, rs):\n",
    "    ls = (int)(ls)\n",
    "    rs = (int)(rs)\n",
    "    l_speed = int(ls / float(os.getenv(\"OFFSET_WHEELS\")))\n",
    "    l_speed = ls if ls >= 0 else 2 ** 16 + ls\n",
    "    r_speed = rs if rs >= 0 else 2 ** 16 + rs\n",
    "#    update_displacement()\n",
    "#    logger.info(l_speed)\n",
    "    \"motor.left.target\" : l_speed\n",
    "    \"motor.right.target\": r_speed\n",
    "        \n",
    "#def get_displacement(self):\n",
    "#    update_displacement()\n",
    "#    ret = self.displacement\n",
    "#    displacement = [0, 0]\n",
    "#    if verbose:\n",
    "#        print(F\"Displacement:{ret}\")\n",
    "#    return re"
   ]
  },
  {
   "cell_type": "code",
   "execution_count": null,
   "metadata": {},
   "outputs": [],
   "source": [
    "obs_front()"
   ]
  },
  {
   "cell_type": "markdown",
   "metadata": {},
   "source": [
    "## Main"
   ]
  },
  {
   "cell_type": "code",
   "execution_count": null,
   "metadata": {},
   "outputs": [],
   "source": [
    "import time\n",
    "import numpy as np\n",
    "\n",
    "from geo import *\n",
    "from Thymio import Thymio\n",
    "import motion_control\n",
    "import vision\n",
    "import filtering\n",
    "import global_navigation\n",
    "\n",
    "# -- Global Settings --\n",
    "THYMIO_PORT = \"COM6\"\n",
    "THYMIO_REFRESH_RATE = 1.0\n",
    "G_verbose = True\n",
    "S_camera_interval = 1000 #ms\n",
    "S_motion_interval = 10 #ms\n",
    "S_track_interval = 1.0 #s\n",
    "\n",
    "S_epsilon_dis = 1\n",
    "S_epsilon_theta = 0.1\n",
    "\n",
    "S_stablize_filter_steps = 10\n",
    "# -- Controllers --\n",
    "G_mc = motion_control.MotionController(\n",
    "    Thymio.serial(port=THYMIO_PORT, refreshing_rate=THYMIO_REFRESH_RATE), \n",
    "    S_motion_interval, verbose=G_verbose)\n",
    "G_mc.timer = time.time()\n",
    "G_vision = vision.VisionProcessor()\n",
    "pre_state = np.array([1, 1, 0]).reshape(-1, 1) # initial state\n",
    "pre_cov = np.ones([3, 3]) * 0.03 # initial covariance\n",
    "G_filter = filtering.KF(pre_state, pre_cov, qx=0.1, qy=0.1, qtheta=0.3, rl=0.1, rr=0.1, b=0.093)\n",
    "G_filter.timer = time.time()\n",
    "\n",
    "# -- States --\n",
    "# timers\n",
    "G_camera_timer = time.time()\n",
    "G_track_timer = time.time()"
   ]
  },
  {
   "cell_type": "code",
   "execution_count": null,
   "metadata": {},
   "outputs": [],
   "source": [
    "def localizate():\n",
    "    \"\"\"Track Where Thymio is\"\"\"\n",
    "    global G_camera_timer\n",
    "    starter = G_filter.timer\n",
    "    # 3. Localization \n",
    "    # 3.1 odometer\n",
    "    dsl, dsr = G_mc.get_displacement()\n",
    "    # 3.2 With Vision\n",
    "    if starter - G_camera_timer > S_camera_interval:\n",
    "        vision_thymio_state = G_vision.getThymio()\n",
    "        G_camera_timer = starter\n",
    "        G_filter.kalman_filter(dsr, dsl, vision_thymio_state)\n",
    "    else:        \n",
    "        G_filter.kalman_filter(dsr, dsl)\n",
    "    \n",
    "    thymio_state = G_filter.get_state()\n",
    "    return thymio_state\n",
    "\n",
    "def main():\n",
    "    \"\"\"Main Program\"\"\"\n",
    "    # 1. initialize everythings\n",
    "    # 1.1 The Map\n",
    "    G_map = G_vision.getMap()\n",
    "    Ball_pos = G_vision.getBall()\n",
    "    Gate_pos = G_vision.getGate()\n",
    "    vision_thymio_state = G_vision.getThymio()\n",
    "    G_pp = global_navigation.PathPlanner(G_map, method=\"A*\", neighbor=8, simplify = True)\n",
    "    # 1.2 Where I am\n",
    "    for _ in range(S_stablize_filter_steps):\n",
    "        Thymio_state = G_filter.kalman_filter(0, 0, vision_thymio_state)\n",
    "\n",
    "    # 2. main loop of 2 tasks\n",
    "    for goal in [\"ball\", \"gate\"]:\n",
    "        # 2.1 Task set up\n",
    "        if goal == \"ball\":\n",
    "            Goal_state = G_pp.approach(Ball_pos)\n",
    "        else:\n",
    "            Goal_state = G_pp.approach(Gate_pos)\n",
    "        G_pp.set_goal(Goal_state.pos)\n",
    "        G_pp.set_start(Thymio_state)\n",
    "        path = G_pp.plan()\n",
    "        Goal_state = Goal_state.multiply(G_map.scale)\n",
    "        Global_path = G_pp.assign_ori(path, Goal_state.ori)\n",
    "        # 2.2 Tackle the task\n",
    "        while True:\n",
    "            starter = time.time()\n",
    "            # 3. Localization\n",
    "            Thymio_state = localizate()\n",
    "            # 2.2.1 Finished?\n",
    "            if Thymio_state.dis(Goal_state) < S_epsilon_dis \\\n",
    "                and abs(Thymio_state.ori - Goal_state.ori) < S_epsilon_theta:\n",
    "                if G_verbose:\n",
    "                    print(\"Terminate Reached!\")\n",
    "                break\n",
    "            # 2.2.2 Is there obstacles on the front?\n",
    "            if G_mc.obs_front():\n",
    "                G_mc.avoid() # do local navigation for, like, 10ms\n",
    "                # TODO: replan\n",
    "            else:\n",
    "                if starter - G_track_timer > S_track_interval:\n",
    "                    # 4. Follow the path    # <-- The only task can run under low frequency\n",
    "                    reached = G_mc.path_tracking(Global_path[0], Thymio_state, len(Global_path) == 1)\n",
    "                    if reached:\n",
    "                        Global_path = Global_path[1:]\n",
    "                        # assume Global_path is not empty because of 2.2.1\n",
    "                    G_track_timer = starter\n",
    "            loop_time = time.time() - starter\n",
    "            # TODO: how long does it takes? -- about 1ms\n",
    "            #       then, which motor speed fit the period time\n",
    "            #             should we stop to calibrate pose?\n",
    "            if G_verbose:\n",
    "                print(F\"looper time: {loop_time*1000 :.0f}ms\")\n",
    "\n",
    "\n",
    "if __name__ == \"__main__\":\n",
    "    try:\n",
    "        main()\n",
    "    finally:\n",
    "        G_mc.close()"
   ]
  }
 ],
 "metadata": {
  "interpreter": {
   "hash": "b10cf93940e5c0473413f3fc99b95e2c1997f6e8852312471085cb7234ec8d25"
  },
  "kernelspec": {
   "display_name": "Python 3",
   "language": "python",
   "name": "python3"
  },
  "language_info": {
   "codemirror_mode": {
    "name": "ipython",
    "version": 3
   },
   "file_extension": ".py",
   "mimetype": "text/x-python",
   "name": "python",
   "nbconvert_exporter": "python",
   "pygments_lexer": "ipython3",
   "version": "3.8.8"
  }
 },
 "nbformat": 4,
 "nbformat_minor": 2
}
