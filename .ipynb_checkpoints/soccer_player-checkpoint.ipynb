{
 "cells": [
  {
   "cell_type": "markdown",
   "metadata": {},
   "source": [
    "# Soccer Mobile\n",
    "<!-- Introduction of the project -->"
   ]
  },
  {
   "cell_type": "markdown",
   "metadata": {},
   "source": [
    "## Introduction"
   ]
  },
  {
   "cell_type": "markdown",
   "metadata": {},
   "source": [
    "In this project the goal is to combine vision, path planning, local navigation, and filtering in order to make Thymio robot navigate trough a map towards a goal.  \n",
    "\n",
    "As the constraints are established we were free to chose our own implementation. To begin with, a camera is used in order to provide the vision information. The vision module works along with the global path and filter modules extracting estimating and computing the necessary map information, including the robot pose, robot pose, map, static obstacles, and the goal position. \n",
    "\n",
    "Indeed, a Kalman filter performs the estimations of the robot pose. Afterwards, the A* algorithm computes the optimal path. Following this, a global controller gives instructions to the motors for them to follow the optimal path. Finally, a local navigation module is implemented in order to provide a vision-free information to Thymio for the most spontaneous events such as a dynamic obstacle."
   ]
  },
  {
   "cell_type": "markdown",
   "metadata": {},
   "source": [
    "**Imports**"
   ]
  },
  {
   "cell_type": "code",
   "execution_count": null,
   "metadata": {},
   "outputs": [],
   "source": [
    "import tdmclient.notebook\n",
    "await tdmclient.notebook.start()\n",
    "from Thymio import Thymio\n",
    "import time\n",
    "import numpy as np\n",
    "\n",
    "from geo import *\n",
    "#from Thymio import Thymio\n",
    "import vision\n",
    "#import filtering\n",
    "import global_navigation"
   ]
  },
  {
   "cell_type": "markdown",
   "metadata": {},
   "source": [
    "## Vision\n"
   ]
  },
  {
   "cell_type": "code",
   "execution_count": null,
   "metadata": {},
   "outputs": [],
   "source": [
    "# ...\n",
    "gmap = None\n",
    "pBall = Pos() #\n",
    "pGoal = Pos() #"
   ]
  },
  {
   "cell_type": "markdown",
   "metadata": {},
   "source": [
    "## Global Navigation\n",
    "Plan a path from the start to the goal.\n",
    "Return: Waypoints"
   ]
  },
  {
   "cell_type": "code",
   "execution_count": null,
   "metadata": {},
   "outputs": [],
   "source": [
    "planner =  PathPlanner(gmap)"
   ]
  },
  {
   "cell_type": "markdown",
   "metadata": {},
   "source": [
    "## Local Navigation\n"
   ]
  },
  {
   "cell_type": "markdown",
   "metadata": {},
   "source": [
    "The local navigation module allows to take advantage of the proximity sensors located on the five front horizontal proximity sensors. The objective is to bypass the unknown local obstacle for further re-computing of the controller to correct Thymio's speed."
   ]
  },
  {
   "cell_type": "markdown",
   "metadata": {},
   "source": [
    "- **Input**\n",
    "\n",
    "    - Horizontal proximity sensor values\n",
    "\n",
    "\n",
    "- **Output**\n",
    "\n",
    "    - Motion control command for robot translation and rotation"
   ]
  },
  {
   "cell_type": "markdown",
   "metadata": {},
   "source": [
    "**Parameters**\n",
    "\n",
    "| Name                | Meaning                                                      | Type (Unit) | Global |\n",
    "| :------------------- | :------------------------------------------------------------ | :----------- | :------ |\n",
    "| `max_speed`        |  Nominal speed                 | Int         |  |\n",
    "| `obstThrL`      | Low obstacle threshold to switch state 1->0                | Int         |    |\n",
    "| `obstThrH` | High obstacle threshold to switch state 0->1                    | Int         |   |\n",
    "| `obstSpeedGain`         | Variation of speed according to the distance of obstacle | Int |   |\n",
    "| `state`         | 0=global navigation, 1=local navigation | Bool |   |\n",
    "| `obst`         | Measurements from left and right prox sensors | Int |   |\n"
   ]
  },
  {
   "cell_type": "markdown",
   "metadata": {},
   "source": [
    "**Functions**\n",
    "\n",
    "Two functions are basically doing the local avoidance. obs is meant to detect an obstacle and return the new state of the robot as stated in the parameters tabular. obstacle_avoidance updates the new speed to return to thymio. It will return the inputs to the motors function. "
   ]
  },
  {
   "cell_type": "code",
   "execution_count": 1,
   "metadata": {},
   "outputs": [],
   "source": [
    "@tdmclient.notebook.sync_var\n",
    "def obs():\n",
    "    global prox_horizontal, state, obst, obstThrH, obstThrL\n",
    "    obst = [prox_horizontal[0], prox_horizontal[4]]\n",
    "    \n",
    "    if state == 0: \n",
    "        # switch from goal tracking to obst avoidance if obstacle detected\n",
    "        if (obst[0] > obstThrH):\n",
    "            state = 1\n",
    "        elif (obst[1] > obstThrH):\n",
    "            state = 1\n",
    "    elif state == 1:\n",
    "        if obst[0] < obstThrL:\n",
    "            if obst[1] < obstThrL : \n",
    "                # switch from obst avoidance to goal tracking if obstacle got unseen\n",
    "                state = 0\n",
    "    return state\n",
    "    \n",
    "@tdmclient.notebook.sync_var\n",
    "def obstacle_avoidance():\n",
    "    global prox_horizontal, state, obst, obstThrH, obstThrL, obstSpeedGain, speed0, speedGain \n",
    "    obst = [prox_horizontal[0], prox_horizontal[4]]\n",
    "    \n",
    "    # obstacle avoidance: accelerate wheel near obstacle\n",
    "    left_speed = max_speed + obstSpeedGain * (obst[0] // 100)\n",
    "    right_speed = max_speed + obstSpeedGain * (obst[1] // 100)\n",
    "    motors(left_speed, right_speed)"
   ]
  },
  {
   "cell_type": "markdown",
   "metadata": {},
   "source": [
    "## Filtering\n",
    "tell where Thymio is."
   ]
  },
  {
   "cell_type": "markdown",
   "metadata": {},
   "source": [
    "## Motion Control\n",
    "\n",
    "The motion control of Thymio is where all movement functions and interations function with thymio are written. They alllow to update the thymio's movment based on the information returned by the global planing."
   ]
  },
  {
   "cell_type": "code",
   "execution_count": null,
   "metadata": {},
   "outputs": [],
   "source": [
    "controller = MotionController()\n",
    "control_cycle = 10 # ms = 100Hz"
   ]
  },
  {
   "cell_type": "code",
   "execution_count": null,
   "metadata": {},
   "outputs": [],
   "source": [
    "get_ball = False\n",
    "# 1. get the ball\n",
    "planner.set_goal = pBall\n",
    "planner.set_start = None # Pos of Thymio [Filtering]\n",
    "waypoints = planner.plan()\n",
    "while not get_ball:\n",
    "    if controller.obs_forward():\n",
    "        pass #   [Local Navigation]\n",
    "        #          return to waypoints to follow\n",
    "    else:\n",
    "        waypoints = controller.go_pos(waypoints) # follow the waypoints \n",
    "    pass\n",
    "\n",
    "# 2. Push the ball to the goal\n",
    "finished = False\n",
    "planner.set_goal = pGoal\n",
    "planner.set_start = None # Pos of Thymio [Filtering]\n",
    "waypoints = planner.plan()\n",
    "while not finished:\n",
    "    if controller.obs_forward():\n",
    "        pass #   [Local Navigation]\n",
    "        #          return to waypoints to follow\n",
    "    else:\n",
    "        waypoints = controller.go_pos(waypoints) # follow the waypoints \n",
    "    pass"
   ]
  },
  {
   "cell_type": "markdown",
   "metadata": {},
   "source": [
    "## Main : the soccer player"
   ]
  },
  {
   "cell_type": "markdown",
   "metadata": {},
   "source": [
    "In this main all the motion control and local avoidance functions are called in a while loop. This merges all the modules and communicates with the thymio thanks to the motion contol module."
   ]
  },
  {
   "cell_type": "code",
   "execution_count": null,
   "metadata": {},
   "outputs": [],
   "source": [
    "G_camera_timer = time.time()\n",
    "G_track_timer = time.time()\n",
    "\n",
    "def localizate():\n",
    "    \"\"\"Track Where Thymio is\"\"\"\n",
    "    global G_camera_timer\n",
    "    starter = G_filter.timer\n",
    "    # 3. Localization \n",
    "    # 3.1 odometer\n",
    "    dsl, dsr = get_displacement()\n",
    "    # 3.2 With Vision\n",
    "    if starter - G_camera_timer > S_camera_interval:\n",
    "        vision_thymio_state = G_vision.getThymio()\n",
    "        G_camera_timer = starter\n",
    "        G_filter.kalman_filter(dsr, dsl, vision_thymio_state)\n",
    "    else:        \n",
    "        G_filter.kalman_filter(dsr, dsl)\n",
    "    \n",
    "    thymio_state = G_filter.get_state()\n",
    "    return thymio_state"
   ]
  },
  {
   "cell_type": "code",
   "execution_count": null,
   "metadata": {},
   "outputs": [],
   "source": [
    "def main():\n",
    "    \"\"\"Main Program\"\"\"\n",
    "    # 1. initialize everythings\n",
    "    # 1.1 The Map\n",
    "    #G_map = G_vision.getMap()\n",
    "    #Ball_pos = G_vision.getBall()\n",
    "    #Gate_pos = G_vision.getGate()\n",
    "    #vision_thymio_state = G_vision.getThymio()\n",
    "    #G_pp = global_navigation.PathPlanner(G_map, method=\"A*\", neighbor=8, simplify = True)\n",
    "    # 1.2 Where I am\n",
    "    #for _ in range(S_stablize_filter_steps):\n",
    "        #Thymio_state = G_filter.kalman_filter(0, 0, vision_thymio_state)\n",
    "\n",
    "    # 2. main loop of 2 tasks\n",
    "    #for goal in [\"ball\", \"gate\"]:\n",
    "    #    # 2.1 Task set up\n",
    "    #    if goal == \"ball\":\n",
    "    #       Goal_state = G_pp.approach(Ball_pos)\n",
    "    #    else:\n",
    "    #        Goal_state = G_pp.approach(Gate_pos)\n",
    "    #    G_pp.set_goal(Goal_state.pos)\n",
    "    #    G_pp.set_start(Thymio_state)\n",
    "    #    path = G_pp.plan()\n",
    "    #    Goal_state = Goal_state.multiply(G_map.scale)\n",
    "    #    Global_path = G_pp.assign_ori(path, Goal_state.ori)\n",
    "        # 2.2 Tackle the task\n",
    "    #while True:\n",
    "    #    starter = time.time()\n",
    "    #    # 3. Localization\n",
    "    #    Thymio_state = localizate()\n",
    "    #    # 2.2.1 Finished?\n",
    "    #    if Thymio_state.dis(Goal_state) < S_epsilon_dis \\\n",
    "    #        and abs(Thymio_state.ori - Goal_state.ori) < S_epsilon_theta:\n",
    "    #        if G_verbose:\n",
    "    #            print(\"Terminate Reached!\")\n",
    "    #        break\n",
    "    #    # 2.2.2 Is there obstacles on the front?\n",
    "\n",
    "    state = obs()\n",
    "    time.sleep(0.2)\n",
    "\n",
    "    if state == 1:\n",
    "        print(state)\n",
    "        obstacle_avoidance()\n",
    "\n",
    "    else:\n",
    "        print(state)\n",
    "        motors(max_speed, max_speed)\n",
    "    #        if starter - G_track_timer > S_track_interval:\n",
    "    #            # 4. Follow the path    # <-- The only task can run under low frequency\n",
    "    #            reached = path_tracking(Global_path[0], Thymio_state, len(Global_path) == 1)\n",
    "    #            if reached:\n",
    "    #                Global_path = Global_path[1:]\n",
    "    #                # assume Global_path is not empty because of 2.2.1\n",
    "    #            G_track_timer = starter\n",
    "    #    loop_time = time.time() - starter\n",
    "    #    # TODO: how long does it takes? -- about 1ms\n",
    "    #    #       then, which motor speed fit the period time\n",
    "    #    #             should we stop to calibrate pose?\n",
    "    #    if G_verbose:\n",
    "    #        print(F\"looper time: {loop_time*1000 :.0f}ms\")\n",
    "    \n",
    "    while True:\n",
    "        main()"
   ]
  },
  {
   "cell_type": "code",
   "execution_count": null,
   "metadata": {},
   "outputs": [],
   "source": [
    "motors(0,0)"
   ]
  }
 ],
 "metadata": {
  "interpreter": {
   "hash": "b10cf93940e5c0473413f3fc99b95e2c1997f6e8852312471085cb7234ec8d25"
  },
  "kernelspec": {
   "display_name": "Python 3",
   "language": "python",
   "name": "python3"
  },
  "language_info": {
   "codemirror_mode": {
    "name": "ipython",
    "version": 3
   },
   "file_extension": ".py",
   "mimetype": "text/x-python",
   "name": "python",
   "nbconvert_exporter": "python",
   "pygments_lexer": "ipython3",
   "version": "3.8.8"
  }
 },
 "nbformat": 4,
 "nbformat_minor": 2
}
