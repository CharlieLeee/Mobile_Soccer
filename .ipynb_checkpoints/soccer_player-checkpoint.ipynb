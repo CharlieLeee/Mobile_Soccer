{
 "cells": [
  {
   "cell_type": "markdown",
   "metadata": {},
   "source": [
    "# Soccer Mobile\n",
    "<!-- Introduction of the project -->"
   ]
  },
  {
   "cell_type": "markdown",
   "metadata": {},
   "source": [
    "## Introduction"
   ]
  },
  {
   "cell_type": "markdown",
   "metadata": {},
   "source": [
    "In this project the goal is to combine vision, path planning, local navigation, and filtering in order to make Thymio robot navigate trough a map towards a goal.  \n",
    "\n",
    "As the constraints are established we were free to chose our own implementation. To begin with, a camera is used in order to provide the vision information. The vision module works along with the global path and filter modules extracting estimating and computing the necessary map information, including the robot pose, robot pose, map, static obstacles, and the goal position. \n",
    "\n",
    "Indeed, a Kalman filter performs the estimations of the robot pose. Afterwards, the A* algorithm computes the optimal path. Following this, a global controller gives instructions to the motors for them to follow the optimal path. Finally, a local navigation module is implemented in order to provide a vision-free information to Thymio for the most spontaneous events such as a dynamic obstacle."
   ]
  },
  {
   "cell_type": "code",
   "execution_count": null,
   "metadata": {},
   "outputs": [],
   "source": [
    "from global_navigation import *\n",
    "from motion_control import *"
   ]
  },
  {
   "cell_type": "markdown",
   "metadata": {},
   "source": [
    "## Vision\n"
   ]
  },
  {
   "cell_type": "code",
   "execution_count": null,
   "metadata": {},
   "outputs": [],
   "source": [
    "# ...\n",
    "gmap = None\n",
    "pBall = Pos() #\n",
    "pGoal = Pos() #"
   ]
  },
  {
   "cell_type": "markdown",
   "metadata": {},
   "source": [
    "## Global Navigation\n",
    "Plan a path from the start to the goal.\n",
    "Return: Waypoints"
   ]
  },
  {
   "cell_type": "code",
   "execution_count": null,
   "metadata": {},
   "outputs": [],
   "source": [
    "planner =  PathPlanner(gmap)"
   ]
  },
  {
   "cell_type": "markdown",
   "metadata": {},
   "source": [
    "## Local Navigation\n"
   ]
  },
  {
   "cell_type": "markdown",
   "metadata": {},
   "source": [
    "The local navigation module allows to take advantage of the proximity sensors located on the five front horizontal proximity sensors. The objective is to bypass the unknown local obstacle for further re-computing of the controller to correct Thymio's speed."
   ]
  },
  {
   "cell_type": "markdown",
   "metadata": {},
   "source": [
    "- **Input**\n",
    "\n",
    "    - Horizontal proximity sensor values\n",
    "\n",
    "\n",
    "- **Output**\n",
    "\n",
    "    - Motion control command for robot translation and rotation"
   ]
  },
  {
   "cell_type": "markdown",
   "metadata": {},
   "source": [
    "**Parameters**\n",
    "\n",
    "| Name                | Meaning                                                      | Type (Unit) | Global |\n",
    "| :------------------- | :------------------------------------------------------------ | :----------- | :------ |\n",
    "| `speed0`        |  Nominal speed                 | Int         |  |\n",
    "| `obstThrL`      | Low obstacle threshold to switch state 1->0                | Int         |    |\n",
    "| `obstThrH` | High obstacle threshold to switch state 0->1                    | Int         |   |\n",
    "| `obstSpeedGain`         | Variation of speed according to the distance of obstacle | Int |   |\n",
    "| `state`         | 0=gradient, 1=obstacle avoidance | Bool |   |\n",
    "| `obst`         | Measurements from left and right prox sensors | Int |   |\n"
   ]
  },
  {
   "cell_type": "markdown",
   "metadata": {},
   "source": [
    "**Functions**"
   ]
  },
  {
   "cell_type": "code",
   "execution_count": 1,
   "metadata": {},
   "outputs": [],
   "source": [
    "    def motors(self, left, right):\n",
    "        return {\n",
    "            \"motor.left.target\": [left],\n",
    "            \"motor.right.target\": [right],\n",
    "        }\n",
    "\n",
    "    def obstacle_update(self, node, variables):\n",
    "        try:\n",
    "            prox_horizontal = variables[\"prox.horizontal\"]\n",
    "            obst = [prox_horizontal[0], prox_horizontal[4]]\n",
    "            speed_left = self.speed0 + self.obstSpeedGain * (obst[0] // 100)\n",
    "            speed_right = self.speed0 + self.obstSpeedGain * (obst[1] // 100) \n",
    "            node.send_set_variables(self.motors(speed_left, speed_right))\n",
    "        except KeyError:\n",
    "            pass  # prox.horizontal not found"
   ]
  },
  {
   "cell_type": "markdown",
   "metadata": {},
   "source": [
    "## Filtering\n",
    "tell where Thymio is."
   ]
  },
  {
   "cell_type": "markdown",
   "metadata": {},
   "source": [
    "## Motion Control\n",
    "Actuator."
   ]
  },
  {
   "cell_type": "code",
   "execution_count": null,
   "metadata": {},
   "outputs": [],
   "source": [
    "controller = MotionController()\n",
    "control_cycle = 10 # ms = 100Hz"
   ]
  },
  {
   "cell_type": "code",
   "execution_count": null,
   "metadata": {},
   "outputs": [],
   "source": [
    "get_ball = False\n",
    "# 1. get the ball\n",
    "planner.set_goal = pBall\n",
    "planner.set_start = None # Pos of Thymio [Filtering]\n",
    "waypoints = planner.plan()\n",
    "while not get_ball:\n",
    "    if controller.obs_forward():\n",
    "        pass #   [Local Navigation]\n",
    "        #          return to waypoints to follow\n",
    "    else:\n",
    "        waypoints = controller.go_pos(waypoints) # follow the waypoints \n",
    "    pass\n",
    "\n",
    "# 2. Push the ball to the goal\n",
    "finished = False\n",
    "planner.set_goal = pGoal\n",
    "planner.set_start = None # Pos of Thymio [Filtering]\n",
    "waypoints = planner.plan()\n",
    "while not finished:\n",
    "    if controller.obs_forward():\n",
    "        pass #   [Local Navigation]\n",
    "        #          return to waypoints to follow\n",
    "    else:\n",
    "        waypoints = controller.go_pos(waypoints) # follow the waypoints \n",
    "    pass"
   ]
  }
 ],
 "metadata": {
  "interpreter": {
   "hash": "b10cf93940e5c0473413f3fc99b95e2c1997f6e8852312471085cb7234ec8d25"
  },
  "kernelspec": {
   "display_name": "Python 3",
   "language": "python",
   "name": "python3"
  },
  "language_info": {
   "codemirror_mode": {
    "name": "ipython",
    "version": 3
   },
   "file_extension": ".py",
   "mimetype": "text/x-python",
   "name": "python",
   "nbconvert_exporter": "python",
   "pygments_lexer": "ipython3",
   "version": "3.8.8"
  }
 },
 "nbformat": 4,
 "nbformat_minor": 2
}
